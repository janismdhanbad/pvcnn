{
 "cells": [
  {
   "cell_type": "code",
   "execution_count": 18,
   "metadata": {},
   "outputs": [],
   "source": [
    "import os\n",
    "import sys\n",
    "import numpy as np\n",
    "BASE_DIR = \"C:/Users/SING1761/OneDrive Corp/OneDrive - Atkins Ltd/my_work/3D_data/jan_pointnet/pointnet/sem_seg\"\n",
    "ROOT_DIR = os.path.dirname(BASE_DIR)\n",
    "sys.path.append(BASE_DIR)\n",
    "import indoor3d_util\n",
    "import glob\n",
    "import re\n",
    "import seaborn as sns\n",
    "import pandas as pd\n",
    "from shapely.geometry import Polygon\n",
    "import matplotlib.pyplot as plt\n",
    "from laspy.file import File\n",
    "import laspy\n",
    "import numpy as np\n",
    "import os\n",
    "import argparse\n",
    "import math\n",
    "import os\n",
    "from datetime import datetime\n",
    "from tqdm import tqdm\n",
    "import h5py\n",
    "import numpy as np\n",
    "import plyfile\n",
    "from matplotlib import cm\n",
    "\n",
    "DATA= \"C:/Users/SING1761/OneDrive Corp/OneDrive - Atkins Ltd/my_work/SBRI_3D/input_raw_data/\"\n",
    "OUT_DIR = \"C:/Users/SING1761/OneDrive Corp/OneDrive - Atkins Ltd/my_work/SBRI_3D/input_preprocessed_data/\"\n",
    "\n",
    "las_files = glob.glob(DATA+\"/*.laz\")"
   ]
  },
  {
   "cell_type": "code",
   "execution_count": 22,
   "metadata": {},
   "outputs": [],
   "source": [
    "# las_files = las_files[1:]\n",
    "\n",
    "# las_files = [re.sub(\"\\\\\\\\\",\"/\",f) for f in las_files]\n",
    "\n",
    "# las_file_df = pd.DataFrame(las_files, columns=[\"f_names\"])\n",
    "\n",
    "# las_file_df[\"tile_name\"] = las_file_df[\"f_names\"].apply(lambda x: x.split(\"/\")[-1])\n",
    "\n",
    "# las_file_df[\"X\"] = las_file_df[\"tile_name\"].apply(lambda x: int(re.sub(\"[X+_]\",\"\",re.search(\"X+.+_\",x).group(0))))\n",
    "\n",
    "# las_file_df[\"Y\"] = las_file_df[\"tile_name\"].apply(lambda x: int(re.sub(\"Y\\+\",\"\",re.search(\"Y+.+\",x.replace(\".laz\",\"\")).group(0))))\n",
    "\n",
    "# X_unq = las_file_df[\"X\"].unique()"
   ]
  },
  {
   "cell_type": "markdown",
   "metadata": {},
   "source": [
    "## Making numpy dataset of laz files "
   ]
  },
  {
   "cell_type": "code",
   "execution_count": 20,
   "metadata": {},
   "outputs": [],
   "source": [
    "OUTPUT_NUMPY_DIR = \"C:/Users/SING1761/OneDrive Corp/OneDrive - Atkins Ltd/my_work/SBRI_3D/input_preprocessed_data/numpys/\"\n",
    "\n",
    "def save_ply(points, filename, colors=None, normals=None):\n",
    "    vertex = np.core.records.fromarrays(points.transpose(), names='x, y, z', formats='f4, f4, f4')\n",
    "    n = len(vertex)\n",
    "    desc = vertex.dtype.descr\n",
    "\n",
    "    if normals is not None:\n",
    "        vertex_normal = np.core.records.fromarrays(normals.transpose(), names='nx, ny, nz', formats='f4, f4, f4')\n",
    "        assert len(vertex_normal) == n\n",
    "        desc = desc + vertex_normal.dtype.descr\n",
    "\n",
    "    if colors is not None:\n",
    "        vertex_color = np.core.records.fromarrays(colors.transpose() * 255, names='red, green, blue',\n",
    "                                                  formats='u1, u1, u1')\n",
    "        assert len(vertex_color) == n\n",
    "        desc = desc + vertex_color.dtype.descr\n",
    "\n",
    "    vertex_all = np.empty(n, dtype=desc)\n",
    "\n",
    "    for prop in vertex.dtype.names:\n",
    "        vertex_all[prop] = vertex[prop]\n",
    "\n",
    "    if normals is not None:\n",
    "        for prop in vertex_normal.dtype.names:\n",
    "            vertex_all[prop] = vertex_normal[prop]\n",
    "\n",
    "    if colors is not None:\n",
    "        for prop in vertex_color.dtype.names:\n",
    "            vertex_all[prop] = vertex_color[prop]\n",
    "\n",
    "    ply = plyfile.PlyData([plyfile.PlyElement.describe(vertex_all, 'vertex')], text=False)\n",
    "    if not os.path.exists(os.path.dirname(filename)):\n",
    "        os.makedirs(os.path.dirname(filename))\n",
    "    ply.write(filename)\n",
    "\n",
    "\n",
    "def save_ply_property(points, property, property_max, filename, cmap_name='tab20'):\n",
    "    point_num = points.shape[0]\n",
    "    colors = np.full(points.shape, 0.5)\n",
    "    cmap = cm.get_cmap(cmap_name)\n",
    "    for point_idx in range(point_num):\n",
    "        if property[point_idx] == 0:\n",
    "            colors[point_idx] = np.array([0, 0, 0])\n",
    "        else:\n",
    "            colors[point_idx] = cmap(property[point_idx] / property_max)[:3]\n",
    "    save_ply(points, filename, colors)\n",
    "\n",
    "\n",
    "def save_ply_color_batch(points_batch, colors_batch, file_path, points_num=None):\n",
    "    batch_size = points_batch.shape[0]\n",
    "    if not isinstance(file_path, (list, tuple)):\n",
    "        basename = os.path.splitext(file_path)[0]\n",
    "        ext = '.ply'\n",
    "    for batch_idx in range(batch_size):\n",
    "        point_num = points_batch.shape[1] if points_num is None else points_num[batch_idx]\n",
    "        if isinstance(file_path, (list, tuple)):\n",
    "            save_ply(points_batch[batch_idx][:point_num], file_path[batch_idx], colors_batch[batch_idx][:point_num])\n",
    "        else:\n",
    "            save_ply(points_batch[batch_idx][:point_num], f'{basename}_{batch_idx:04d}{ext}',\n",
    "                     colors_batch[batch_idx][:point_num])\n",
    "\n",
    "\n",
    "def save_ply_property_batch(points_batch, property_batch, file_path, points_num=None, property_max=None,\n",
    "                            cmap_name='tab20'):\n",
    "    batch_size = points_batch.shape[0]\n",
    "    if not isinstance(file_path, (list, tuple)):\n",
    "        basename = os.path.splitext(file_path)[0]\n",
    "        ext = '.ply'\n",
    "    property_max = np.max(property_batch) if property_max is None else property_max\n",
    "    for batch_idx in range(batch_size):\n",
    "        point_num = points_batch.shape[1] if points_num is None else points_num[batch_idx]\n",
    "        if isinstance(file_path, (list, tuple)):\n",
    "            save_ply_property(points_batch[batch_idx][:point_num], property_batch[batch_idx][:point_num],\n",
    "                              property_max, file_path[batch_idx], cmap_name)\n",
    "        else:\n",
    "            save_ply_property(points_batch[batch_idx][:point_num], property_batch[batch_idx][:point_num],\n",
    "                              property_max, f'{basename}_{batch_idx:04d}{ext}', cmap_name)\n"
   ]
  },
  {
   "cell_type": "code",
   "execution_count": 23,
   "metadata": {},
   "outputs": [
    {
     "name": "stdout",
     "output_type": "stream",
     "text": [
      "16795087\n",
      "51079\n",
      "122374\n",
      "335087\n",
      "719752\n",
      "5996661\n",
      "1455357\n",
      "72309\n",
      "752407\n",
      "1008054\n",
      "6020877\n",
      "1156150\n",
      "694\n",
      "15904\n",
      "1168794\n",
      "838929\n",
      "6390420\n",
      "1031085\n",
      "18440\n",
      "2930\n",
      "1480\n",
      "3880\n",
      "38911\n",
      "688469\n",
      "678482\n",
      "7561482\n",
      "562216\n",
      "31652\n",
      "171709\n",
      "5783855\n",
      "746032\n",
      "84863\n"
     ]
    }
   ],
   "source": [
    "# train_files = []\n",
    "# for x in X_unq[5:]:\n",
    "#     x_df = las_file_df[las_file_df[\"X\"] == x]\n",
    "#     files_to_take = x_df[\"f_names\"].values\n",
    "#     file_arr = np.empty((0,6))\n",
    "#     file_labels = np.empty((0,1))\n",
    "#     for laz_f in files_to_take:\n",
    "#         las_data = File(laz_f, mode='r')\n",
    "#         SHP = las_data.get_x().shape[0]\n",
    "#         print(SHP)\n",
    "#         X = las_data.get_x_scaled().reshape((SHP,1)) #dimension in millimeter\n",
    "#         Y = las_data.get_y_scaled().reshape((SHP,1)) #dimension in millimeter\n",
    "#         Z = las_data.get_z_scaled().reshape((SHP,1)) #dimension in millimeter\n",
    "#         R = las_data.red.reshape((SHP,1))\n",
    "#         G = las_data.green.reshape((SHP,1))\n",
    "#         B = las_data.blue.reshape((SHP,1)) \n",
    "#         labels = las_data.Classification\n",
    "#         file_arr_temp = np.hstack([X,Y,Z, R, G, B])\n",
    "#         file_arr = np.vstack([file_arr, file_arr_temp])\n",
    "#         labels = labels.reshape((SHP,1))\n",
    "#         file_labels = np.vstack([file_labels,labels])\n",
    "#     np.save(OUTPUT_NUMPY_DIR+\"XYZRGB_\"+str(x)+\".npy\", file_arr)\n",
    "#     np.save(OUTPUT_NUMPY_DIR+\"LABELS_\"+str(x)+\".npy\", file_arr)\n",
    "#     train_files.append([OUTPUT_NUMPY_DIR+\"XYZRGB_\"+str(x)+\".npy\", OUTPUT_NUMPY_DIR+\"LABELS_\"+str(x)+\".npy\"])"
   ]
  },
  {
   "cell_type": "code",
   "execution_count": 24,
   "metadata": {},
   "outputs": [
    {
     "name": "stdout",
     "output_type": "stream",
     "text": [
      "Namespace(block_size=1.5, grid_size=0.03, max_num_points=8192, output_dir='C:/Users/SING1761/OneDrive Corp/OneDrive - Atkins Ltd/my_work/SBRI_3D/input_preprocessed_data/hdf5_files', save_ply=False)\n"
     ]
    }
   ],
   "source": [
    "\n",
    "default_output_dir = \"C:/Users/SING1761/OneDrive Corp/OneDrive - Atkins Ltd/my_work/SBRI_3D/input_preprocessed_data/hdf5_files\"\n",
    "parser = argparse.ArgumentParser()\n",
    "\n",
    "parser.add_argument('-f', '--folder', dest='output_dir', default=default_output_dir,\n",
    "                    help=f'Folder to write labels (default is {default_output_dir})')\n",
    "parser.add_argument('--max_num_points', '-m', help='Max point number of each sample', type=int, default=8192)\n",
    "parser.add_argument('--block_size', '-b', help='Block size', type=float, default=1.5)\n",
    "parser.add_argument('--grid_size', '-g', help='Grid size', type=float, default=0.03)\n",
    "parser.add_argument('--save_ply', '-s', help='Convert .pts to .ply', action='store_true')\n",
    "\n",
    "args = parser.parse_args()\n",
    "args.output_dir = default_output_dir\n",
    "print(args)"
   ]
  },
  {
   "cell_type": "code",
   "execution_count": 25,
   "metadata": {},
   "outputs": [],
   "source": [
    "max_num_points = args.max_num_points\n",
    "\n",
    "batch_size = 2048\n",
    "data = np.zeros((batch_size, max_num_points, 9))\n",
    "data_num = np.zeros(batch_size, dtype=np.int32)\n",
    "label = np.zeros(batch_size, dtype=np.int32)\n",
    "label_seg = np.zeros((batch_size, max_num_points), dtype=np.int32)\n",
    "indices_split_to_full = np.zeros((batch_size, max_num_points), dtype=np.int32)\n",
    "\n",
    "\n",
    "# np.save(\"train_files.npy\",train_files)\n",
    "train_files = np.load(\"train_files.npy\")\n",
    "\n",
    "train_files = train_files.tolist()"
   ]
  },
  {
   "cell_type": "code",
   "execution_count": 28,
   "metadata": {},
   "outputs": [
    {
     "data": {
      "text/plain": [
       "[['C:/Users/SING1761/OneDrive Corp/OneDrive - Atkins Ltd/my_work/SBRI_3D/input_preprocessed_data/numpys/XYZRGB_524900.npy',\n",
       "  'C:/Users/SING1761/OneDrive Corp/OneDrive - Atkins Ltd/my_work/SBRI_3D/input_preprocessed_data/numpys/LABELS_524900.npy'],\n",
       " ['C:/Users/SING1761/OneDrive Corp/OneDrive - Atkins Ltd/my_work/SBRI_3D/input_preprocessed_data/numpys/XYZRGB_526250.npy',\n",
       "  'C:/Users/SING1761/OneDrive Corp/OneDrive - Atkins Ltd/my_work/SBRI_3D/input_preprocessed_data/numpys/LABELS_526250.npy'],\n",
       " ['C:/Users/SING1761/OneDrive Corp/OneDrive - Atkins Ltd/my_work/SBRI_3D/input_preprocessed_data/numpys/XYZRGB_526275.npy',\n",
       "  'C:/Users/SING1761/OneDrive Corp/OneDrive - Atkins Ltd/my_work/SBRI_3D/input_preprocessed_data/numpys/LABELS_526275.npy'],\n",
       " ['C:/Users/SING1761/OneDrive Corp/OneDrive - Atkins Ltd/my_work/SBRI_3D/input_preprocessed_data/numpys/XYZRGB_526300.npy',\n",
       "  'C:/Users/SING1761/OneDrive Corp/OneDrive - Atkins Ltd/my_work/SBRI_3D/input_preprocessed_data/numpys/LABELS_526300.npy'],\n",
       " ['C:/Users/SING1761/OneDrive Corp/OneDrive - Atkins Ltd/my_work/SBRI_3D/input_preprocessed_data/numpys/XYZRGB_526325.npy',\n",
       "  'C:/Users/SING1761/OneDrive Corp/OneDrive - Atkins Ltd/my_work/SBRI_3D/input_preprocessed_data/numpys/LABELS_526325.npy'],\n",
       " ['C:/Users/SING1761/OneDrive Corp/OneDrive - Atkins Ltd/my_work/SBRI_3D/input_preprocessed_data/numpys/XYZRGB_526350.npy',\n",
       "  'C:/Users/SING1761/OneDrive Corp/OneDrive - Atkins Ltd/my_work/SBRI_3D/input_preprocessed_data/numpys/LABELS_526350.npy'],\n",
       " ['C:/Users/SING1761/OneDrive Corp/OneDrive - Atkins Ltd/my_work/SBRI_3D/input_preprocessed_data/numpys/XYZRGB_526375.npy',\n",
       "  'C:/Users/SING1761/OneDrive Corp/OneDrive - Atkins Ltd/my_work/SBRI_3D/input_preprocessed_data/numpys/LABELS_526375.npy']]"
      ]
     },
     "execution_count": 28,
     "metadata": {},
     "output_type": "execute_result"
    }
   ],
   "source": [
    "train_files"
   ]
  },
  {
   "cell_type": "code",
   "execution_count": 29,
   "metadata": {},
   "outputs": [
    {
     "name": "stdout",
     "output_type": "stream",
     "text": [
      "2020-06-12 12:56:22.985797-Computing block id of 16795087 points...\n",
      "2020-06-12 12:56:25.490875-Collecting points belong to each block...\n",
      "2020-06-12 12:56:49.516373-C:/Users/SING1761/OneDrive Corp/OneDrive - Atkins Ltd/my_work/SBRI_3D/input_preprocessed_data/numpys/XYZRGB_524900.npy is split into 289 blocks.\n"
     ]
    },
    {
     "name": "stderr",
     "output_type": "stream",
     "text": [
      "100%|████████████████████████████████████████████████████████████████████████████| 289/289 [00:00<00:00, 289780.98it/s]\n"
     ]
    },
    {
     "name": "stdout",
     "output_type": "stream",
     "text": [
      "2020-06-12 12:56:49.523355-1 of 289 blocks are merged.\n"
     ]
    },
    {
     "name": "stderr",
     "output_type": "stream",
     "text": [
      "100%|████████████████████████████████████████████████████████████████████████████████| 288/288 [01:44<00:00,  2.76it/s]\n",
      " 73%|██████████████████████████████████████████████████████████                      | 209/288 [00:04<00:01, 44.91it/s]"
     ]
    },
    {
     "name": "stdout",
     "output_type": "stream",
     "text": [
      "2020-06-12 12:58:37.908816-Saving C:/Users/SING1761/OneDrive Corp/OneDrive - Atkins Ltd/my_work/SBRI_3D/input_preprocessed_data/hdf5_files\\zero_524900_0.h5...\n"
     ]
    },
    {
     "name": "stderr",
     "output_type": "stream",
     "text": [
      " 99%|███████████████████████████████████████████████████████████████████████████████▏| 285/288 [00:11<00:00, 40.83it/s]"
     ]
    },
    {
     "name": "stdout",
     "output_type": "stream",
     "text": [
      "2020-06-12 12:58:45.660031-Saving C:/Users/SING1761/OneDrive Corp/OneDrive - Atkins Ltd/my_work/SBRI_3D/input_preprocessed_data/hdf5_files\\zero_524900_1.h5...\n"
     ]
    },
    {
     "name": "stderr",
     "output_type": "stream",
     "text": [
      "100%|████████████████████████████████████████████████████████████████████████████████| 288/288 [00:13<00:00, 21.06it/s]\n"
     ]
    },
    {
     "name": "stdout",
     "output_type": "stream",
     "text": [
      "2020-06-12 12:58:47.469561-Computing block id of 16795087 points...\n",
      "2020-06-12 12:58:49.811686-Collecting points belong to each block...\n",
      "2020-06-12 12:59:13.309284-C:/Users/SING1761/OneDrive Corp/OneDrive - Atkins Ltd/my_work/SBRI_3D/input_preprocessed_data/numpys/XYZRGB_524900.npy is split into 324 blocks.\n"
     ]
    },
    {
     "name": "stderr",
     "output_type": "stream",
     "text": [
      "100%|████████████████████████████████████████████████████████████████████████████| 324/324 [00:00<00:00, 325030.97it/s]\n"
     ]
    },
    {
     "name": "stdout",
     "output_type": "stream",
     "text": [
      "2020-06-12 12:59:13.317265-4 of 324 blocks are merged.\n"
     ]
    },
    {
     "name": "stderr",
     "output_type": "stream",
     "text": [
      " 78%|██████████████████████████████████████████████████████████████▏                 | 251/323 [01:22<00:17,  4.00it/s]"
     ]
    },
    {
     "name": "stdout",
     "output_type": "stream",
     "text": [
      "zero points\n"
     ]
    },
    {
     "name": "stderr",
     "output_type": "stream",
     "text": [
      " 83%|██████████████████████████████████████████████████████████████████▋             | 269/323 [01:29<00:12,  4.47it/s]"
     ]
    },
    {
     "name": "stdout",
     "output_type": "stream",
     "text": [
      "zero points\n"
     ]
    },
    {
     "name": "stderr",
     "output_type": "stream",
     "text": [
      " 94%|███████████████████████████████████████████████████████████████████████████▌    | 305/323 [01:42<00:03,  5.08it/s]"
     ]
    },
    {
     "name": "stdout",
     "output_type": "stream",
     "text": [
      "zero points\n"
     ]
    },
    {
     "name": "stderr",
     "output_type": "stream",
     "text": [
      "100%|████████████████████████████████████████████████████████████████████████████████| 323/323 [01:43<00:00,  3.12it/s]\n",
      " 70%|███████████████████████████████████████████████████████▋                        | 225/323 [00:03<00:02, 45.08it/s]"
     ]
    },
    {
     "name": "stdout",
     "output_type": "stream",
     "text": [
      "2020-06-12 13:01:00.961411-Saving C:/Users/SING1761/OneDrive Corp/OneDrive - Atkins Ltd/my_work/SBRI_3D/input_preprocessed_data/hdf5_files\\half_524900_0.h5...\n"
     ]
    },
    {
     "name": "stderr",
     "output_type": "stream",
     "text": [
      " 97%|█████████████████████████████████████████████████████████████████████████████▊  | 314/323 [00:14<00:00, 38.72it/s]"
     ]
    },
    {
     "name": "stdout",
     "output_type": "stream",
     "text": [
      "2020-06-12 13:01:11.257451-Saving C:/Users/SING1761/OneDrive Corp/OneDrive - Atkins Ltd/my_work/SBRI_3D/input_preprocessed_data/hdf5_files\\half_524900_1.h5...\n"
     ]
    },
    {
     "name": "stderr",
     "output_type": "stream",
     "text": [
      "100%|████████████████████████████████████████████████████████████████████████████████| 323/323 [00:15<00:00, 20.75it/s]\n"
     ]
    },
    {
     "name": "stdout",
     "output_type": "stream",
     "text": [
      "2020-06-12 13:01:14.531697-Computing block id of 8680310 points...\n",
      "2020-06-12 13:01:15.767315-Collecting points belong to each block...\n",
      "2020-06-12 13:01:28.155615-C:/Users/SING1761/OneDrive Corp/OneDrive - Atkins Ltd/my_work/SBRI_3D/input_preprocessed_data/numpys/XYZRGB_526250.npy is split into 1072 blocks.\n"
     ]
    },
    {
     "name": "stderr",
     "output_type": "stream",
     "text": [
      "100%|███████████████████████████████████████████████████████████████████████████| 1072/1072 [00:00<00:00, 45705.66it/s]\n"
     ]
    },
    {
     "name": "stdout",
     "output_type": "stream",
     "text": [
      "2020-06-12 13:01:28.187051-277 of 1072 blocks are merged.\n"
     ]
    },
    {
     "name": "stderr",
     "output_type": "stream",
     "text": [
      "\r",
      "  0%|                                                                                         | 0/1072 [00:00<?, ?it/s]"
     ]
    },
    {
     "name": "stdout",
     "output_type": "stream",
     "text": [
      "zero points\n",
      "zero points\n",
      "zero points\n",
      "zero points\n",
      "zero points\n",
      "zero points\n"
     ]
    },
    {
     "name": "stderr",
     "output_type": "stream",
     "text": [
      "\r",
      "  2%|█▊                                                                             | 25/1072 [00:00<00:05, 197.28it/s]"
     ]
    },
    {
     "name": "stdout",
     "output_type": "stream",
     "text": [
      "zero points\n",
      "zero points\n",
      "zero points\n"
     ]
    },
    {
     "name": "stderr",
     "output_type": "stream",
     "text": [
      "  5%|███▉                                                                            | 53/1072 [00:02<01:15, 13.51it/s]"
     ]
    },
    {
     "name": "stdout",
     "output_type": "stream",
     "text": [
      "zero points\n"
     ]
    },
    {
     "name": "stderr",
     "output_type": "stream",
     "text": [
      "  6%|████▋                                                                           | 63/1072 [00:02<01:24, 11.94it/s]"
     ]
    },
    {
     "name": "stdout",
     "output_type": "stream",
     "text": [
      "zero points\n",
      "zero points\n",
      "zero points\n",
      "zero points\n"
     ]
    },
    {
     "name": "stderr",
     "output_type": "stream",
     "text": [
      "\r",
      "  7%|█████▋                                                                          | 76/1072 [00:03<01:00, 16.36it/s]"
     ]
    },
    {
     "name": "stdout",
     "output_type": "stream",
     "text": [
      "zero points\n",
      "zero points\n",
      "zero points\n",
      "zero points\n",
      "zero points\n",
      "zero points\n",
      "zero points\n"
     ]
    },
    {
     "name": "stderr",
     "output_type": "stream",
     "text": [
      " 12%|█████████▏                                                                     | 124/1072 [00:05<01:20, 11.79it/s]"
     ]
    },
    {
     "name": "stdout",
     "output_type": "stream",
     "text": [
      "zero points\n",
      "zero points\n"
     ]
    },
    {
     "name": "stderr",
     "output_type": "stream",
     "text": [
      "\r",
      " 12%|█████████▌                                                                     | 130/1072 [00:05<01:12, 13.05it/s]"
     ]
    },
    {
     "name": "stdout",
     "output_type": "stream",
     "text": [
      "zero points\n",
      "zero points\n",
      "zero points\n"
     ]
    },
    {
     "name": "stderr",
     "output_type": "stream",
     "text": [
      "\r",
      " 13%|█████████▉                                                                     | 135/1072 [00:06<01:14, 12.63it/s]"
     ]
    },
    {
     "name": "stdout",
     "output_type": "stream",
     "text": [
      "zero points\n",
      "zero points\n",
      "zero points\n",
      "zero points\n",
      "zero points\n"
     ]
    },
    {
     "name": "stderr",
     "output_type": "stream",
     "text": [
      "\r",
      " 14%|███████████                                                                    | 150/1072 [00:06<00:52, 17.41it/s]"
     ]
    },
    {
     "name": "stdout",
     "output_type": "stream",
     "text": [
      "zero points\n",
      "zero points\n",
      "zero points\n",
      "zero points\n"
     ]
    },
    {
     "name": "stderr",
     "output_type": "stream",
     "text": [
      "\r",
      " 15%|████████████▏                                                                  | 165/1072 [00:06<00:38, 23.50it/s]"
     ]
    },
    {
     "name": "stdout",
     "output_type": "stream",
     "text": [
      "zero points\n",
      "zero points\n"
     ]
    },
    {
     "name": "stderr",
     "output_type": "stream",
     "text": [
      " 18%|██████████████▏                                                                | 192/1072 [00:09<01:41,  8.68it/s]"
     ]
    },
    {
     "name": "stdout",
     "output_type": "stream",
     "text": [
      "zero points\n",
      "zero points\n"
     ]
    },
    {
     "name": "stderr",
     "output_type": "stream",
     "text": [
      "\r",
      " 18%|██████████████▌                                                                | 197/1072 [00:09<01:25, 10.28it/s]"
     ]
    },
    {
     "name": "stdout",
     "output_type": "stream",
     "text": [
      "zero points\n",
      "zero points\n"
     ]
    },
    {
     "name": "stderr",
     "output_type": "stream",
     "text": [
      "\r",
      " 19%|██████████████▊                                                                | 201/1072 [00:10<01:27,  9.90it/s]"
     ]
    },
    {
     "name": "stdout",
     "output_type": "stream",
     "text": [
      "zero points\n",
      "zero points\n",
      "zero points\n",
      "zero points\n",
      "zero points\n",
      "zero points\n",
      "zero points\n",
      "zero points\n",
      "zero points\n",
      "zero points\n"
     ]
    },
    {
     "name": "stderr",
     "output_type": "stream",
     "text": [
      "\r",
      " 21%|████████████████▋                                                              | 227/1072 [00:10<01:00, 13.91it/s]"
     ]
    },
    {
     "name": "stdout",
     "output_type": "stream",
     "text": [
      "zero points\n",
      "zero points\n",
      "zero points\n",
      "zero points\n",
      "zero points\n",
      "zero points\n"
     ]
    },
    {
     "name": "stderr",
     "output_type": "stream",
     "text": [
      " 24%|██████████████████▌                                                            | 252/1072 [00:11<01:00, 13.60it/s]"
     ]
    },
    {
     "name": "stdout",
     "output_type": "stream",
     "text": [
      "zero points\n",
      "zero points\n"
     ]
    },
    {
     "name": "stderr",
     "output_type": "stream",
     "text": [
      "\r",
      " 24%|███████████████████▏                                                           | 260/1072 [00:12<01:02, 13.05it/s]"
     ]
    },
    {
     "name": "stdout",
     "output_type": "stream",
     "text": [
      "zero points\n"
     ]
    },
    {
     "name": "stderr",
     "output_type": "stream",
     "text": [
      "\r",
      " 25%|███████████████████▌                                                           | 266/1072 [00:12<01:02, 12.95it/s]"
     ]
    },
    {
     "name": "stdout",
     "output_type": "stream",
     "text": [
      "zero points\n",
      "zero points\n",
      "zero points\n",
      "zero points\n",
      "zero points\n"
     ]
    },
    {
     "name": "stderr",
     "output_type": "stream",
     "text": [
      "\r",
      " 27%|█████████████████████▌                                                         | 292/1072 [00:12<00:43, 18.10it/s]"
     ]
    },
    {
     "name": "stdout",
     "output_type": "stream",
     "text": [
      "zero points\n",
      "zero points\n",
      "zero points\n",
      "zero points\n",
      "zero points\n",
      "zero points\n"
     ]
    },
    {
     "name": "stderr",
     "output_type": "stream",
     "text": [
      " 29%|███████████████████████▎                                                       | 316/1072 [00:14<00:51, 14.70it/s]"
     ]
    },
    {
     "name": "stdout",
     "output_type": "stream",
     "text": [
      "zero points\n",
      "zero points\n"
     ]
    },
    {
     "name": "stderr",
     "output_type": "stream",
     "text": [
      "\r",
      " 30%|███████████████████████▉                                                       | 324/1072 [00:15<00:54, 13.78it/s]"
     ]
    },
    {
     "name": "stdout",
     "output_type": "stream",
     "text": [
      "zero points\n",
      "zero points\n",
      "zero points\n"
     ]
    },
    {
     "name": "stderr",
     "output_type": "stream",
     "text": [
      "\r",
      " 31%|████████████████████████▎                                                      | 330/1072 [00:15<00:43, 17.04it/s]"
     ]
    },
    {
     "name": "stdout",
     "output_type": "stream",
     "text": [
      "zero points\n",
      "zero points\n",
      "zero points\n",
      "zero points\n",
      "zero points\n",
      "zero points\n",
      "zero points\n"
     ]
    },
    {
     "name": "stderr",
     "output_type": "stream",
     "text": [
      "\r",
      " 33%|██████████████████████████▎                                                    | 357/1072 [00:15<00:30, 23.67it/s]"
     ]
    },
    {
     "name": "stdout",
     "output_type": "stream",
     "text": [
      "zero points\n",
      "zero points\n",
      "zero points\n",
      "zero points\n"
     ]
    },
    {
     "name": "stderr",
     "output_type": "stream",
     "text": [
      " 36%|████████████████████████████▏                                                  | 382/1072 [00:16<00:39, 17.32it/s]"
     ]
    },
    {
     "name": "stdout",
     "output_type": "stream",
     "text": [
      "zero points\n",
      "zero points\n"
     ]
    },
    {
     "name": "stderr",
     "output_type": "stream",
     "text": [
      "\r",
      " 36%|████████████████████████████▊                                                  | 391/1072 [00:17<00:43, 15.76it/s]"
     ]
    },
    {
     "name": "stdout",
     "output_type": "stream",
     "text": [
      "zero points\n",
      "zero points\n"
     ]
    },
    {
     "name": "stderr",
     "output_type": "stream",
     "text": [
      "\r",
      " 37%|█████████████████████████████▎                                                 | 398/1072 [00:18<00:42, 15.79it/s]"
     ]
    },
    {
     "name": "stdout",
     "output_type": "stream",
     "text": [
      "zero points\n",
      "zero points\n",
      "zero points\n",
      "zero points\n",
      "zero points\n"
     ]
    },
    {
     "name": "stderr",
     "output_type": "stream",
     "text": [
      "\r",
      " 39%|███████████████████████████████▏                                               | 423/1072 [00:18<00:29, 21.91it/s]"
     ]
    },
    {
     "name": "stdout",
     "output_type": "stream",
     "text": [
      "zero points\n",
      "zero points\n",
      "zero points\n",
      "zero points\n",
      "zero points\n"
     ]
    },
    {
     "name": "stderr",
     "output_type": "stream",
     "text": [
      " 42%|█████████████████████████████████                                              | 449/1072 [00:19<00:41, 15.17it/s]"
     ]
    },
    {
     "name": "stdout",
     "output_type": "stream",
     "text": [
      "zero points\n",
      "zero points\n",
      "zero points\n"
     ]
    },
    {
     "name": "stderr",
     "output_type": "stream",
     "text": [
      "\r",
      " 43%|█████████████████████████████████▊                                             | 458/1072 [00:20<00:47, 13.04it/s]"
     ]
    },
    {
     "name": "stdout",
     "output_type": "stream",
     "text": [
      "zero points\n",
      "zero points\n",
      "zero points\n",
      "zero points\n",
      "zero points\n",
      "zero points\n",
      "zero points\n",
      "zero points\n",
      "zero points\n",
      "zero points\n",
      "zero points\n"
     ]
    },
    {
     "name": "stderr",
     "output_type": "stream",
     "text": [
      "\r",
      " 45%|███████████████████████████████████▋                                           | 484/1072 [00:21<00:32, 18.21it/s]"
     ]
    },
    {
     "name": "stdout",
     "output_type": "stream",
     "text": [
      "zero points\n",
      "zero points\n",
      "zero points\n",
      "zero points\n",
      "zero points\n"
     ]
    },
    {
     "name": "stderr",
     "output_type": "stream",
     "text": [
      " 48%|█████████████████████████████████████▋                                         | 512/1072 [00:22<00:35, 15.79it/s]"
     ]
    },
    {
     "name": "stdout",
     "output_type": "stream",
     "text": [
      "zero points\n",
      "zero points\n"
     ]
    },
    {
     "name": "stderr",
     "output_type": "stream",
     "text": [
      "\r",
      " 49%|██████████████████████████████████████▍                                        | 521/1072 [00:23<00:39, 13.88it/s]"
     ]
    },
    {
     "name": "stdout",
     "output_type": "stream",
     "text": [
      "zero points\n",
      "zero points\n"
     ]
    },
    {
     "name": "stderr",
     "output_type": "stream",
     "text": [
      "\r",
      " 49%|██████████████████████████████████████▉                                        | 528/1072 [00:23<00:30, 17.76it/s]"
     ]
    },
    {
     "name": "stdout",
     "output_type": "stream",
     "text": [
      "zero points\n",
      "zero points\n",
      "zero points\n",
      "zero points\n",
      "zero points\n",
      "zero points\n",
      "zero points\n",
      "zero points\n",
      "zero points\n",
      "zero points\n",
      "zero points\n"
     ]
    },
    {
     "name": "stderr",
     "output_type": "stream",
     "text": [
      "\r",
      " 51%|████████████████████████████████████████▌                                      | 551/1072 [00:23<00:21, 24.50it/s]"
     ]
    },
    {
     "name": "stdout",
     "output_type": "stream",
     "text": [
      "zero points\n",
      "zero points\n",
      "zero points\n",
      "zero points\n",
      "zero points\n"
     ]
    },
    {
     "name": "stderr",
     "output_type": "stream",
     "text": [
      " 54%|██████████████████████████████████████████▌                                    | 577/1072 [00:25<00:30, 16.12it/s]"
     ]
    },
    {
     "name": "stdout",
     "output_type": "stream",
     "text": [
      "zero points\n",
      "zero points\n"
     ]
    },
    {
     "name": "stderr",
     "output_type": "stream",
     "text": [
      "\r",
      " 55%|███████████████████████████████████████████▏                                   | 586/1072 [00:26<00:35, 13.55it/s]"
     ]
    },
    {
     "name": "stdout",
     "output_type": "stream",
     "text": [
      "zero points\n",
      "zero points\n",
      "zero points\n",
      "zero points\n",
      "zero points\n",
      "zero points\n",
      "zero points\n",
      "zero points\n",
      "zero points\n",
      "zero points\n",
      "zero points\n",
      "zero points\n",
      "zero points\n"
     ]
    },
    {
     "name": "stderr",
     "output_type": "stream",
     "text": [
      "\r",
      " 57%|████████████████████████████████████████████▉                                  | 609/1072 [00:26<00:24, 18.82it/s]"
     ]
    },
    {
     "name": "stdout",
     "output_type": "stream",
     "text": [
      "zero points\n",
      "zero points\n",
      "zero points\n",
      "zero points\n",
      "zero points\n",
      "zero points\n"
     ]
    },
    {
     "name": "stderr",
     "output_type": "stream",
     "text": [
      " 60%|███████████████████████████████████████████████                                | 638/1072 [00:28<00:27, 15.66it/s]"
     ]
    },
    {
     "name": "stdout",
     "output_type": "stream",
     "text": [
      "zero points\n"
     ]
    },
    {
     "name": "stderr",
     "output_type": "stream",
     "text": [
      "\r",
      " 60%|███████████████████████████████████████████████▋                               | 647/1072 [00:29<00:33, 12.67it/s]"
     ]
    },
    {
     "name": "stdout",
     "output_type": "stream",
     "text": [
      "zero points\n",
      "zero points\n",
      "zero points\n",
      "zero points\n",
      "zero points\n"
     ]
    },
    {
     "name": "stderr",
     "output_type": "stream",
     "text": [
      "\r",
      " 61%|████████████████████████████████████████████████▍                              | 657/1072 [00:29<00:24, 17.16it/s]"
     ]
    },
    {
     "name": "stdout",
     "output_type": "stream",
     "text": [
      "zero points\n",
      "zero points\n",
      "zero points\n",
      "zero points\n",
      "zero points\n"
     ]
    },
    {
     "name": "stderr",
     "output_type": "stream",
     "text": [
      "\r",
      " 63%|█████████████████████████████████████████████████▋                             | 674/1072 [00:29<00:16, 23.43it/s]"
     ]
    },
    {
     "name": "stdout",
     "output_type": "stream",
     "text": [
      "zero points\n",
      "zero points\n",
      "zero points\n",
      "zero points\n",
      "zero points\n"
     ]
    },
    {
     "name": "stderr",
     "output_type": "stream",
     "text": [
      " 65%|███████████████████████████████████████████████████▌                           | 699/1072 [00:31<00:25, 14.81it/s]"
     ]
    },
    {
     "name": "stdout",
     "output_type": "stream",
     "text": [
      "zero points\n"
     ]
    },
    {
     "name": "stderr",
     "output_type": "stream",
     "text": [
      "\r",
      " 66%|████████████████████████████████████████████████████                           | 707/1072 [00:31<00:30, 11.92it/s]"
     ]
    },
    {
     "name": "stdout",
     "output_type": "stream",
     "text": [
      "zero points\n",
      "zero points\n",
      "zero points\n",
      "zero points\n",
      "zero points\n",
      "zero points\n",
      "zero points\n"
     ]
    },
    {
     "name": "stderr",
     "output_type": "stream",
     "text": [
      "\r",
      " 68%|█████████████████████████████████████████████████████▋                         | 728/1072 [00:32<00:20, 16.62it/s]"
     ]
    },
    {
     "name": "stdout",
     "output_type": "stream",
     "text": [
      "zero points\n",
      "zero points\n",
      "zero points\n",
      "zero points\n",
      "zero points\n"
     ]
    },
    {
     "name": "stderr",
     "output_type": "stream",
     "text": [
      " 71%|████████████████████████████████████████████████████████▍                      | 765/1072 [00:33<00:18, 16.56it/s]"
     ]
    },
    {
     "name": "stdout",
     "output_type": "stream",
     "text": [
      "zero points\n",
      "zero points\n",
      "zero points\n"
     ]
    },
    {
     "name": "stderr",
     "output_type": "stream",
     "text": [
      "\r",
      " 72%|████████████████████████████████████████████████████████▉                      | 772/1072 [00:34<00:22, 13.40it/s]"
     ]
    },
    {
     "name": "stdout",
     "output_type": "stream",
     "text": [
      "zero points\n",
      "zero points\n",
      "zero points\n",
      "zero points\n"
     ]
    },
    {
     "name": "stderr",
     "output_type": "stream",
     "text": [
      "\r",
      " 74%|██████████████████████████████████████████████████████████▌                    | 794/1072 [00:34<00:14, 18.59it/s]"
     ]
    },
    {
     "name": "stdout",
     "output_type": "stream",
     "text": [
      "zero points\n",
      "zero points\n",
      "zero points\n",
      "zero points\n",
      "zero points\n"
     ]
    },
    {
     "name": "stderr",
     "output_type": "stream",
     "text": [
      " 76%|████████████████████████████████████████████████████████████▎                  | 819/1072 [00:36<00:18, 13.74it/s]"
     ]
    },
    {
     "name": "stdout",
     "output_type": "stream",
     "text": [
      "zero points\n"
     ]
    },
    {
     "name": "stderr",
     "output_type": "stream",
     "text": [
      "\r",
      " 77%|████████████████████████████████████████████████████████████▉                  | 827/1072 [00:37<00:17, 13.75it/s]"
     ]
    },
    {
     "name": "stdout",
     "output_type": "stream",
     "text": [
      "zero points\n",
      "zero points\n",
      "zero points\n"
     ]
    },
    {
     "name": "stderr",
     "output_type": "stream",
     "text": [
      "\r",
      " 78%|█████████████████████████████████████████████████████████████▍                 | 833/1072 [00:37<00:13, 17.53it/s]"
     ]
    },
    {
     "name": "stdout",
     "output_type": "stream",
     "text": [
      "zero points\n",
      "zero points\n",
      "zero points\n",
      "zero points\n",
      "zero points\n",
      "zero points\n",
      "zero points\n",
      "zero points\n"
     ]
    },
    {
     "name": "stderr",
     "output_type": "stream",
     "text": [
      "\r",
      " 79%|██████████████████████████████████████████████████████████████▊                | 852/1072 [00:37<00:09, 24.05it/s]"
     ]
    },
    {
     "name": "stdout",
     "output_type": "stream",
     "text": [
      "zero points\n",
      "zero points\n",
      "zero points\n",
      "zero points\n"
     ]
    },
    {
     "name": "stderr",
     "output_type": "stream",
     "text": [
      "\r",
      " 81%|███████████████████████████████████████████████████████████████▋               | 864/1072 [00:37<00:06, 31.59it/s]"
     ]
    },
    {
     "name": "stdout",
     "output_type": "stream",
     "text": [
      "zero points\n"
     ]
    },
    {
     "name": "stderr",
     "output_type": "stream",
     "text": [
      " 82%|█████████████████████████████████████████████████████████████████              | 883/1072 [00:39<00:13, 14.02it/s]"
     ]
    },
    {
     "name": "stdout",
     "output_type": "stream",
     "text": [
      "zero points\n"
     ]
    },
    {
     "name": "stderr",
     "output_type": "stream",
     "text": [
      "\r",
      " 83%|█████████████████████████████████████████████████████████████████▌             | 889/1072 [00:39<00:13, 13.70it/s]"
     ]
    },
    {
     "name": "stdout",
     "output_type": "stream",
     "text": [
      "zero points\n",
      "zero points\n"
     ]
    },
    {
     "name": "stderr",
     "output_type": "stream",
     "text": [
      "\r",
      " 83%|█████████████████████████████████████████████████████████████████▉             | 894/1072 [00:39<00:12, 14.60it/s]"
     ]
    },
    {
     "name": "stdout",
     "output_type": "stream",
     "text": [
      "zero points\n",
      "zero points\n",
      "zero points\n",
      "zero points\n",
      "zero points\n",
      "zero points\n"
     ]
    },
    {
     "name": "stderr",
     "output_type": "stream",
     "text": [
      "\r",
      " 85%|██████████████████████████████████████████████████████████████████▊            | 906/1072 [00:39<00:08, 19.82it/s]"
     ]
    },
    {
     "name": "stdout",
     "output_type": "stream",
     "text": [
      "zero points\n",
      "zero points\n",
      "zero points\n",
      "zero points\n",
      "zero points\n",
      "zero points\n",
      "zero points\n"
     ]
    },
    {
     "name": "stderr",
     "output_type": "stream",
     "text": [
      "\r",
      " 86%|████████████████████████████████████████████████████████████████████           | 924/1072 [00:40<00:05, 26.98it/s]"
     ]
    },
    {
     "name": "stdout",
     "output_type": "stream",
     "text": [
      "zero points\n"
     ]
    },
    {
     "name": "stderr",
     "output_type": "stream",
     "text": [
      " 88%|█████████████████████████████████████████████████████████████████████▍         | 942/1072 [00:41<00:09, 13.54it/s]"
     ]
    },
    {
     "name": "stdout",
     "output_type": "stream",
     "text": [
      "zero points\n",
      "zero points\n"
     ]
    },
    {
     "name": "stderr",
     "output_type": "stream",
     "text": [
      "\r",
      " 88%|█████████████████████████████████████████████████████████████████████▊         | 948/1072 [00:42<00:09, 13.44it/s]"
     ]
    },
    {
     "name": "stdout",
     "output_type": "stream",
     "text": [
      "zero points\n",
      "zero points\n"
     ]
    },
    {
     "name": "stderr",
     "output_type": "stream",
     "text": [
      "\r",
      " 89%|██████████████████████████████████████████████████████████████████████▏        | 953/1072 [00:42<00:07, 14.89it/s]"
     ]
    },
    {
     "name": "stdout",
     "output_type": "stream",
     "text": [
      "zero points\n",
      "zero points\n",
      "zero points\n",
      "zero points\n"
     ]
    },
    {
     "name": "stderr",
     "output_type": "stream",
     "text": [
      "\r",
      " 90%|███████████████████████████████████████████████████████████████████████        | 964/1072 [00:42<00:05, 20.02it/s]"
     ]
    },
    {
     "name": "stdout",
     "output_type": "stream",
     "text": [
      "zero points\n",
      "zero points\n",
      "zero points\n",
      "zero points\n",
      "zero points\n"
     ]
    },
    {
     "name": "stderr",
     "output_type": "stream",
     "text": [
      "\r",
      " 91%|████████████████████████████████████████████████████████████████████████       | 978/1072 [00:42<00:03, 26.93it/s]"
     ]
    },
    {
     "name": "stdout",
     "output_type": "stream",
     "text": [
      "zero points\n",
      "zero points\n",
      "zero points\n"
     ]
    },
    {
     "name": "stderr",
     "output_type": "stream",
     "text": [
      " 93%|█████████████████████████████████████████████████████████████████████████▌     | 998/1072 [00:44<00:05, 13.39it/s]"
     ]
    },
    {
     "name": "stdout",
     "output_type": "stream",
     "text": [
      "zero points\n"
     ]
    },
    {
     "name": "stderr",
     "output_type": "stream",
     "text": [
      "\r",
      " 94%|█████████████████████████████████████████████████████████████████████████▏    | 1005/1072 [00:44<00:04, 15.23it/s]"
     ]
    },
    {
     "name": "stdout",
     "output_type": "stream",
     "text": [
      "zero points\n",
      "zero points\n"
     ]
    },
    {
     "name": "stderr",
     "output_type": "stream",
     "text": [
      "\r",
      " 94%|█████████████████████████████████████████████████████████████████████████▌    | 1011/1072 [00:45<00:04, 12.64it/s]"
     ]
    },
    {
     "name": "stdout",
     "output_type": "stream",
     "text": [
      "zero points\n",
      "zero points\n",
      "zero points\n",
      "zero points\n",
      "zero points\n",
      "zero points\n",
      "zero points\n",
      "zero points\n",
      "zero points\n",
      "zero points\n"
     ]
    },
    {
     "name": "stderr",
     "output_type": "stream",
     "text": [
      "\r",
      " 96%|██████████████████████████████████████████████████████████████████████████▊   | 1028/1072 [00:45<00:02, 17.49it/s]"
     ]
    },
    {
     "name": "stdout",
     "output_type": "stream",
     "text": [
      "zero points\n",
      "zero points\n",
      "zero points\n",
      "zero points\n",
      "zero points\n",
      "zero points\n",
      "zero points\n"
     ]
    },
    {
     "name": "stderr",
     "output_type": "stream",
     "text": [
      " 99%|████████████████████████████████████████████████████████████████████████████▉ | 1057/1072 [00:46<00:00, 16.75it/s]"
     ]
    },
    {
     "name": "stdout",
     "output_type": "stream",
     "text": [
      "zero points\n",
      "zero points\n"
     ]
    },
    {
     "name": "stderr",
     "output_type": "stream",
     "text": [
      "\r",
      " 99%|█████████████████████████████████████████████████████████████████████████████▍| 1065/1072 [00:47<00:00, 16.25it/s]"
     ]
    },
    {
     "name": "stdout",
     "output_type": "stream",
     "text": [
      "zero points\n",
      "zero points\n",
      "zero points\n"
     ]
    },
    {
     "name": "stderr",
     "output_type": "stream",
     "text": [
      "100%|██████████████████████████████████████████████████████████████████████████████| 1072/1072 [00:47<00:00, 22.54it/s]\n",
      " 98%|███████████████████████████████████████████████████████████████████████████▌ | 1052/1072 [00:02<00:00, 411.63it/s]"
     ]
    },
    {
     "name": "stdout",
     "output_type": "stream",
     "text": [
      "2020-06-12 13:02:18.554426-Saving C:/Users/SING1761/OneDrive Corp/OneDrive - Atkins Ltd/my_work/SBRI_3D/input_preprocessed_data/hdf5_files\\zero_524900_0.h5...\n"
     ]
    },
    {
     "name": "stderr",
     "output_type": "stream",
     "text": [
      "100%|█████████████████████████████████████████████████████████████████████████████| 1072/1072 [00:08<00:00, 129.72it/s]\n"
     ]
    },
    {
     "name": "stdout",
     "output_type": "stream",
     "text": [
      "2020-06-12 13:02:24.012762-Computing block id of 8680310 points...\n",
      "2020-06-12 13:02:25.345947-Collecting points belong to each block...\n",
      "2020-06-12 13:02:37.252018-C:/Users/SING1761/OneDrive Corp/OneDrive - Atkins Ltd/my_work/SBRI_3D/input_preprocessed_data/numpys/XYZRGB_526250.npy is split into 1146 blocks.\n"
     ]
    },
    {
     "name": "stderr",
     "output_type": "stream",
     "text": [
      "100%|███████████████████████████████████████████████████████████████████████████| 1146/1146 [00:00<00:00, 54718.28it/s]\n"
     ]
    },
    {
     "name": "stdout",
     "output_type": "stream",
     "text": [
      "2020-06-12 13:02:37.282943-349 of 1146 blocks are merged.\n"
     ]
    },
    {
     "name": "stderr",
     "output_type": "stream",
     "text": [
      "\r",
      "  0%|                                                                                         | 0/1144 [00:00<?, ?it/s]"
     ]
    },
    {
     "name": "stdout",
     "output_type": "stream",
     "text": [
      "zero points\n",
      "zero points\n",
      "zero points\n",
      "zero points\n",
      "zero points\n",
      "zero points\n",
      "zero points\n",
      "zero points\n",
      "zero points\n",
      "zero points\n",
      "zero points\n",
      "zero points\n",
      "zero points\n",
      "zero points\n",
      "zero points\n"
     ]
    },
    {
     "name": "stderr",
     "output_type": "stream",
     "text": [
      "\r",
      "  3%|██▎                                                                            | 34/1144 [00:00<00:03, 327.79it/s]"
     ]
    },
    {
     "name": "stdout",
     "output_type": "stream",
     "text": [
      "zero points\n"
     ]
    },
    {
     "name": "stderr",
     "output_type": "stream",
     "text": [
      "\r",
      "  4%|███                                                                             | 44/1144 [00:00<00:19, 56.51it/s]"
     ]
    },
    {
     "name": "stdout",
     "output_type": "stream",
     "text": [
      "zero points\n",
      "zero points\n"
     ]
    },
    {
     "name": "stderr",
     "output_type": "stream",
     "text": [
      "\r",
      "  5%|███▋                                                                            | 52/1144 [00:00<00:28, 38.99it/s]"
     ]
    },
    {
     "name": "stdout",
     "output_type": "stream",
     "text": [
      "zero points\n",
      "zero points\n"
     ]
    },
    {
     "name": "stderr",
     "output_type": "stream",
     "text": [
      "\r",
      "  5%|████                                                                            | 58/1144 [00:01<00:40, 26.84it/s]"
     ]
    },
    {
     "name": "stdout",
     "output_type": "stream",
     "text": [
      "zero points\n",
      "zero points\n",
      "zero points\n",
      "zero points\n",
      "zero points\n"
     ]
    },
    {
     "name": "stderr",
     "output_type": "stream",
     "text": [
      "\r",
      "  6%|████▉                                                                           | 70/1144 [00:01<00:30, 34.74it/s]"
     ]
    },
    {
     "name": "stdout",
     "output_type": "stream",
     "text": [
      "zero points\n",
      "zero points\n",
      "zero points\n",
      "zero points\n",
      "zero points\n",
      "zero points\n",
      "zero points\n",
      "zero points\n",
      "zero points\n",
      "zero points\n"
     ]
    },
    {
     "name": "stderr",
     "output_type": "stream",
     "text": [
      "\r",
      "  8%|██████▌                                                                         | 94/1144 [00:01<00:22, 46.28it/s]"
     ]
    },
    {
     "name": "stdout",
     "output_type": "stream",
     "text": [
      "zero points\n"
     ]
    },
    {
     "name": "stderr",
     "output_type": "stream",
     "text": [
      " 10%|████████                                                                       | 117/1144 [00:03<00:49, 20.66it/s]"
     ]
    },
    {
     "name": "stdout",
     "output_type": "stream",
     "text": [
      "zero points\n"
     ]
    },
    {
     "name": "stderr",
     "output_type": "stream",
     "text": [
      "\r",
      " 11%|████████▋                                                                      | 125/1144 [00:03<00:58, 17.44it/s]"
     ]
    },
    {
     "name": "stdout",
     "output_type": "stream",
     "text": [
      "zero points\n"
     ]
    },
    {
     "name": "stderr",
     "output_type": "stream",
     "text": [
      "\r",
      " 11%|█████████                                                                      | 131/1144 [00:04<01:20, 12.55it/s]"
     ]
    },
    {
     "name": "stdout",
     "output_type": "stream",
     "text": [
      "zero points\n",
      "zero points\n",
      "zero points\n",
      "zero points\n",
      "zero points\n",
      "zero points\n",
      "zero points\n",
      "zero points\n",
      "zero points\n",
      "zero points\n",
      "zero points\n",
      "zero points\n"
     ]
    },
    {
     "name": "stderr",
     "output_type": "stream",
     "text": [
      "\r",
      " 14%|██████████▉                                                                    | 158/1144 [00:04<00:56, 17.53it/s]"
     ]
    },
    {
     "name": "stdout",
     "output_type": "stream",
     "text": [
      "zero points\n",
      "zero points\n",
      "zero points\n",
      "zero points\n"
     ]
    },
    {
     "name": "stderr",
     "output_type": "stream",
     "text": [
      " 17%|█████████████▍                                                                 | 194/1144 [00:07<01:34, 10.05it/s]"
     ]
    },
    {
     "name": "stdout",
     "output_type": "stream",
     "text": [
      "zero points\n",
      "zero points\n"
     ]
    },
    {
     "name": "stderr",
     "output_type": "stream",
     "text": [
      "\r",
      " 17%|█████████████▋                                                                 | 199/1144 [00:08<01:49,  8.60it/s]"
     ]
    },
    {
     "name": "stdout",
     "output_type": "stream",
     "text": [
      "zero points\n",
      "zero points\n",
      "zero points\n",
      "zero points\n",
      "zero points\n",
      "zero points\n",
      "zero points\n"
     ]
    },
    {
     "name": "stderr",
     "output_type": "stream",
     "text": [
      "\r",
      " 19%|███████████████▍                                                               | 223/1144 [00:08<01:16, 12.10it/s]"
     ]
    },
    {
     "name": "stdout",
     "output_type": "stream",
     "text": [
      "zero points\n",
      "zero points\n",
      "zero points\n",
      "zero points\n",
      "zero points\n",
      "zero points\n"
     ]
    },
    {
     "name": "stderr",
     "output_type": "stream",
     "text": [
      "\r",
      " 21%|████████████████▎                                                              | 236/1144 [00:08<00:54, 16.62it/s]"
     ]
    },
    {
     "name": "stdout",
     "output_type": "stream",
     "text": [
      "zero points\n",
      "zero points\n",
      "zero points\n"
     ]
    },
    {
     "name": "stderr",
     "output_type": "stream",
     "text": [
      " 22%|█████████████████▋                                                             | 257/1144 [00:10<01:18, 11.34it/s]"
     ]
    },
    {
     "name": "stdout",
     "output_type": "stream",
     "text": [
      "zero points\n",
      "zero points\n"
     ]
    },
    {
     "name": "stderr",
     "output_type": "stream",
     "text": [
      "\r",
      " 23%|██████████████████▏                                                            | 264/1144 [00:11<01:26, 10.15it/s]"
     ]
    },
    {
     "name": "stdout",
     "output_type": "stream",
     "text": [
      "zero points\n",
      "zero points\n",
      "zero points\n"
     ]
    },
    {
     "name": "stderr",
     "output_type": "stream",
     "text": [
      "\r",
      " 24%|██████████████████▌                                                            | 269/1144 [00:12<01:34,  9.24it/s]"
     ]
    },
    {
     "name": "stdout",
     "output_type": "stream",
     "text": [
      "zero points\n",
      "zero points\n",
      "zero points\n",
      "zero points\n",
      "zero points\n",
      "zero points\n",
      "zero points\n",
      "zero points\n",
      "zero points\n"
     ]
    },
    {
     "name": "stderr",
     "output_type": "stream",
     "text": [
      "\r",
      " 26%|████████████████████▎                                                          | 294/1144 [00:12<01:05, 13.00it/s]"
     ]
    },
    {
     "name": "stdout",
     "output_type": "stream",
     "text": [
      "zero points\n",
      "zero points\n",
      "zero points\n",
      "zero points\n",
      "zero points\n"
     ]
    },
    {
     "name": "stderr",
     "output_type": "stream",
     "text": [
      " 28%|██████████████████████▏                                                        | 321/1144 [00:13<01:01, 13.41it/s]"
     ]
    },
    {
     "name": "stdout",
     "output_type": "stream",
     "text": [
      "zero points\n",
      "zero points\n",
      "zero points\n"
     ]
    },
    {
     "name": "stderr",
     "output_type": "stream",
     "text": [
      "\r",
      " 29%|██████████████████████▋                                                        | 329/1144 [00:14<00:55, 14.80it/s]"
     ]
    },
    {
     "name": "stdout",
     "output_type": "stream",
     "text": [
      "zero points\n",
      "zero points\n",
      "zero points\n"
     ]
    },
    {
     "name": "stderr",
     "output_type": "stream",
     "text": [
      "\r",
      " 29%|███████████████████████▏                                                       | 336/1144 [00:14<00:55, 14.55it/s]"
     ]
    },
    {
     "name": "stdout",
     "output_type": "stream",
     "text": [
      "zero points\n",
      "zero points\n",
      "zero points\n",
      "zero points\n",
      "zero points\n"
     ]
    },
    {
     "name": "stderr",
     "output_type": "stream",
     "text": [
      "\r",
      " 32%|████████████████████████▉                                                      | 362/1144 [00:14<00:38, 20.25it/s]"
     ]
    },
    {
     "name": "stdout",
     "output_type": "stream",
     "text": [
      "zero points\n",
      "zero points\n",
      "zero points\n",
      "zero points\n",
      "zero points\n"
     ]
    },
    {
     "name": "stderr",
     "output_type": "stream",
     "text": [
      " 34%|██████████████████████████▋                                                    | 386/1144 [00:16<00:49, 15.35it/s]"
     ]
    },
    {
     "name": "stdout",
     "output_type": "stream",
     "text": [
      "zero points\n",
      "zero points\n",
      "zero points\n"
     ]
    },
    {
     "name": "stderr",
     "output_type": "stream",
     "text": [
      "\r",
      " 34%|███████████████████████████▏                                                   | 394/1144 [00:16<00:44, 16.89it/s]"
     ]
    },
    {
     "name": "stdout",
     "output_type": "stream",
     "text": [
      "zero points\n",
      "zero points\n"
     ]
    },
    {
     "name": "stderr",
     "output_type": "stream",
     "text": [
      "\r",
      " 35%|███████████████████████████▋                                                   | 401/1144 [00:17<00:50, 14.85it/s]"
     ]
    },
    {
     "name": "stdout",
     "output_type": "stream",
     "text": [
      "zero points\n",
      "zero points\n",
      "zero points\n",
      "zero points\n",
      "zero points\n",
      "zero points\n",
      "zero points\n",
      "zero points\n",
      "zero points\n"
     ]
    },
    {
     "name": "stderr",
     "output_type": "stream",
     "text": [
      "\r",
      " 37%|█████████████████████████████▌                                                 | 428/1144 [00:17<00:34, 20.71it/s]"
     ]
    },
    {
     "name": "stdout",
     "output_type": "stream",
     "text": [
      "zero points\n",
      "zero points\n",
      "zero points\n",
      "zero points\n"
     ]
    },
    {
     "name": "stderr",
     "output_type": "stream",
     "text": [
      "\r",
      " 38%|██████████████████████████████▍                                                | 440/1144 [00:17<00:25, 27.52it/s]"
     ]
    },
    {
     "name": "stdout",
     "output_type": "stream",
     "text": [
      "zero points\n"
     ]
    },
    {
     "name": "stderr",
     "output_type": "stream",
     "text": [
      " 40%|███████████████████████████████▊                                               | 461/1144 [00:19<00:48, 14.19it/s]"
     ]
    },
    {
     "name": "stdout",
     "output_type": "stream",
     "text": [
      "zero points\n"
     ]
    },
    {
     "name": "stderr",
     "output_type": "stream",
     "text": [
      "\r",
      " 41%|████████████████████████████████▎                                              | 468/1144 [00:19<00:54, 12.47it/s]"
     ]
    },
    {
     "name": "stdout",
     "output_type": "stream",
     "text": [
      "zero points\n",
      "zero points\n"
     ]
    },
    {
     "name": "stderr",
     "output_type": "stream",
     "text": [
      "\r",
      " 41%|████████████████████████████████▋                                              | 473/1144 [00:20<00:44, 15.07it/s]"
     ]
    },
    {
     "name": "stdout",
     "output_type": "stream",
     "text": [
      "zero points\n",
      "zero points\n",
      "zero points\n",
      "zero points\n",
      "zero points\n",
      "zero points\n",
      "zero points\n",
      "zero points\n"
     ]
    },
    {
     "name": "stderr",
     "output_type": "stream",
     "text": [
      "\r",
      " 43%|██████████████████████████████████▎                                            | 497/1144 [00:20<00:30, 20.92it/s]"
     ]
    },
    {
     "name": "stdout",
     "output_type": "stream",
     "text": [
      "zero points\n",
      "zero points\n",
      "zero points\n",
      "zero points\n"
     ]
    },
    {
     "name": "stderr",
     "output_type": "stream",
     "text": [
      " 46%|████████████████████████████████████                                           | 522/1144 [00:21<00:41, 15.08it/s]"
     ]
    },
    {
     "name": "stdout",
     "output_type": "stream",
     "text": [
      "zero points\n",
      "zero points\n"
     ]
    },
    {
     "name": "stderr",
     "output_type": "stream",
     "text": [
      "\r",
      " 46%|████████████████████████████████████▌                                          | 530/1144 [00:22<00:37, 16.41it/s]"
     ]
    },
    {
     "name": "stdout",
     "output_type": "stream",
     "text": [
      "zero points\n"
     ]
    },
    {
     "name": "stderr",
     "output_type": "stream",
     "text": [
      "\r",
      " 47%|█████████████████████████████████████                                          | 536/1144 [00:22<00:48, 12.61it/s]"
     ]
    },
    {
     "name": "stdout",
     "output_type": "stream",
     "text": [
      "zero points\n",
      "zero points\n",
      "zero points\n",
      "zero points\n",
      "zero points\n",
      "zero points\n",
      "zero points\n",
      "zero points\n",
      "zero points\n",
      "zero points\n",
      "zero points\n",
      "zero points\n",
      "zero points\n",
      "zero points\n"
     ]
    },
    {
     "name": "stderr",
     "output_type": "stream",
     "text": [
      "\r",
      " 49%|██████████████████████████████████████▌                                        | 559/1144 [00:23<00:33, 17.59it/s]"
     ]
    },
    {
     "name": "stdout",
     "output_type": "stream",
     "text": [
      "zero points\n",
      "zero points\n",
      "zero points\n",
      "zero points\n",
      "zero points\n"
     ]
    },
    {
     "name": "stderr",
     "output_type": "stream",
     "text": [
      "\r",
      " 50%|███████████████████████████████████████▋                                       | 574/1144 [00:23<00:23, 23.90it/s]"
     ]
    },
    {
     "name": "stdout",
     "output_type": "stream",
     "text": [
      "zero points\n"
     ]
    },
    {
     "name": "stderr",
     "output_type": "stream",
     "text": [
      "\r",
      " 51%|████████████████████████████████████████▍                                      | 586/1144 [00:24<00:29, 19.13it/s]"
     ]
    },
    {
     "name": "stdout",
     "output_type": "stream",
     "text": [
      "zero points\n"
     ]
    },
    {
     "name": "stderr",
     "output_type": "stream",
     "text": [
      "\r",
      " 52%|█████████████████████████████████████████                                      | 595/1144 [00:25<00:37, 14.77it/s]"
     ]
    },
    {
     "name": "stdout",
     "output_type": "stream",
     "text": [
      "zero points\n"
     ]
    },
    {
     "name": "stderr",
     "output_type": "stream",
     "text": [
      "\r",
      " 53%|█████████████████████████████████████████▌                                     | 602/1144 [00:25<00:41, 12.94it/s]"
     ]
    },
    {
     "name": "stdout",
     "output_type": "stream",
     "text": [
      "zero points\n",
      "zero points\n",
      "zero points\n",
      "zero points\n",
      "zero points\n",
      "zero points\n",
      "zero points\n",
      "zero points\n",
      "zero points\n",
      "zero points\n",
      "zero points\n",
      "zero points\n",
      "zero points\n",
      "zero points\n"
     ]
    },
    {
     "name": "stderr",
     "output_type": "stream",
     "text": [
      "\r",
      " 55%|███████████████████████████████████████████▏                                   | 625/1144 [00:25<00:28, 17.99it/s]"
     ]
    },
    {
     "name": "stdout",
     "output_type": "stream",
     "text": [
      "zero points\n",
      "zero points\n",
      "zero points\n",
      "zero points\n",
      "zero points\n",
      "zero points\n"
     ]
    },
    {
     "name": "stderr",
     "output_type": "stream",
     "text": [
      " 57%|█████████████████████████████████████████████                                  | 652/1144 [00:27<00:34, 14.43it/s]"
     ]
    },
    {
     "name": "stdout",
     "output_type": "stream",
     "text": [
      "zero points\n"
     ]
    },
    {
     "name": "stderr",
     "output_type": "stream",
     "text": [
      "\r",
      " 58%|█████████████████████████████████████████████▌                                 | 660/1144 [00:27<00:31, 15.32it/s]"
     ]
    },
    {
     "name": "stdout",
     "output_type": "stream",
     "text": [
      "zero points\n",
      "zero points\n"
     ]
    },
    {
     "name": "stderr",
     "output_type": "stream",
     "text": [
      "\r",
      " 58%|█████████████████████████████████████████████▉                                 | 666/1144 [00:28<00:41, 11.65it/s]"
     ]
    },
    {
     "name": "stdout",
     "output_type": "stream",
     "text": [
      "zero points\n",
      "zero points\n",
      "zero points\n",
      "zero points\n",
      "zero points\n",
      "zero points\n",
      "zero points\n",
      "zero points\n",
      "zero points\n",
      "zero points\n",
      "zero points\n",
      "zero points\n",
      "zero points\n"
     ]
    },
    {
     "name": "stderr",
     "output_type": "stream",
     "text": [
      "\r",
      " 60%|███████████████████████████████████████████████▌                               | 688/1144 [00:28<00:28, 16.25it/s]"
     ]
    },
    {
     "name": "stdout",
     "output_type": "stream",
     "text": [
      "zero points\n",
      "zero points\n",
      "zero points\n",
      "zero points\n",
      "zero points\n"
     ]
    },
    {
     "name": "stderr",
     "output_type": "stream",
     "text": [
      " 62%|█████████████████████████████████████████████████▎                             | 714/1144 [00:30<00:32, 13.07it/s]"
     ]
    },
    {
     "name": "stdout",
     "output_type": "stream",
     "text": [
      "zero points\n",
      "zero points\n",
      "zero points\n"
     ]
    },
    {
     "name": "stderr",
     "output_type": "stream",
     "text": [
      "\r",
      " 63%|█████████████████████████████████████████████████▊                             | 722/1144 [00:31<00:32, 12.96it/s]"
     ]
    },
    {
     "name": "stdout",
     "output_type": "stream",
     "text": [
      "zero points\n",
      "zero points\n"
     ]
    },
    {
     "name": "stderr",
     "output_type": "stream",
     "text": [
      "\r",
      " 64%|██████████████████████████████████████████████████▎                            | 728/1144 [00:31<00:32, 12.76it/s]"
     ]
    },
    {
     "name": "stdout",
     "output_type": "stream",
     "text": [
      "zero points\n",
      "zero points\n",
      "zero points\n",
      "zero points\n",
      "zero points\n",
      "zero points\n",
      "zero points\n",
      "zero points\n"
     ]
    },
    {
     "name": "stderr",
     "output_type": "stream",
     "text": [
      "\r",
      " 65%|███████████████████████████████████████████████████▋                           | 748/1144 [00:31<00:22, 17.71it/s]"
     ]
    },
    {
     "name": "stdout",
     "output_type": "stream",
     "text": [
      "zero points\n",
      "zero points\n",
      "zero points\n",
      "zero points\n",
      "zero points\n",
      "zero points\n"
     ]
    },
    {
     "name": "stderr",
     "output_type": "stream",
     "text": [
      " 67%|█████████████████████████████████████████████████████▎                         | 772/1144 [00:33<00:27, 13.56it/s]"
     ]
    },
    {
     "name": "stdout",
     "output_type": "stream",
     "text": [
      "zero points\n",
      "zero points\n"
     ]
    },
    {
     "name": "stderr",
     "output_type": "stream",
     "text": [
      "\r",
      " 68%|█████████████████████████████████████████████████████▊                         | 779/1144 [00:33<00:23, 15.74it/s]"
     ]
    },
    {
     "name": "stdout",
     "output_type": "stream",
     "text": [
      "zero points\n"
     ]
    },
    {
     "name": "stderr",
     "output_type": "stream",
     "text": [
      "\r",
      " 69%|██████████████████████████████████████████████████████▏                        | 785/1144 [00:34<00:31, 11.50it/s]"
     ]
    },
    {
     "name": "stdout",
     "output_type": "stream",
     "text": [
      "zero points\n",
      "zero points\n",
      "zero points\n",
      "zero points\n",
      "zero points\n",
      "zero points\n",
      "zero points\n",
      "zero points\n"
     ]
    },
    {
     "name": "stderr",
     "output_type": "stream",
     "text": [
      "\r",
      " 70%|███████████████████████████████████████████████████████▋                       | 806/1144 [00:34<00:21, 16.00it/s]"
     ]
    },
    {
     "name": "stdout",
     "output_type": "stream",
     "text": [
      "zero points\n",
      "zero points\n",
      "zero points\n",
      "zero points\n"
     ]
    },
    {
     "name": "stderr",
     "output_type": "stream",
     "text": [
      " 72%|█████████████████████████████████████████████████████████▏                     | 829/1144 [00:36<00:23, 13.15it/s]"
     ]
    },
    {
     "name": "stdout",
     "output_type": "stream",
     "text": [
      "zero points\n"
     ]
    },
    {
     "name": "stderr",
     "output_type": "stream",
     "text": [
      "\r",
      " 73%|█████████████████████████████████████████████████████████▋                     | 836/1144 [00:36<00:19, 15.48it/s]"
     ]
    },
    {
     "name": "stdout",
     "output_type": "stream",
     "text": [
      "zero points\n",
      "zero points\n",
      "zero points\n"
     ]
    },
    {
     "name": "stderr",
     "output_type": "stream",
     "text": [
      "\r",
      " 74%|██████████████████████████████████████████████████████████▏                    | 842/1144 [00:37<00:22, 13.34it/s]"
     ]
    },
    {
     "name": "stdout",
     "output_type": "stream",
     "text": [
      "zero points\n",
      "zero points\n",
      "zero points\n",
      "zero points\n",
      "zero points\n",
      "zero points\n",
      "zero points\n"
     ]
    },
    {
     "name": "stderr",
     "output_type": "stream",
     "text": [
      "\r",
      " 75%|███████████████████████████████████████████████████████████▌                   | 862/1144 [00:37<00:15, 18.52it/s]"
     ]
    },
    {
     "name": "stdout",
     "output_type": "stream",
     "text": [
      "zero points\n",
      "zero points\n",
      "zero points\n"
     ]
    },
    {
     "name": "stderr",
     "output_type": "stream",
     "text": [
      " 78%|█████████████████████████████████████████████████████████████▊                 | 895/1144 [00:39<00:17, 14.25it/s]"
     ]
    },
    {
     "name": "stdout",
     "output_type": "stream",
     "text": [
      "zero points\n"
     ]
    },
    {
     "name": "stderr",
     "output_type": "stream",
     "text": [
      "\r",
      " 79%|██████████████████████████████████████████████████████████████▏                | 901/1144 [00:39<00:16, 14.40it/s]"
     ]
    },
    {
     "name": "stdout",
     "output_type": "stream",
     "text": [
      "zero points\n",
      "zero points\n",
      "zero points\n"
     ]
    },
    {
     "name": "stderr",
     "output_type": "stream",
     "text": [
      "\r",
      " 79%|██████████████████████████████████████████████████████████████▌                | 906/1144 [00:39<00:15, 15.79it/s]"
     ]
    },
    {
     "name": "stdout",
     "output_type": "stream",
     "text": [
      "zero points\n",
      "zero points\n",
      "zero points\n",
      "zero points\n",
      "zero points\n",
      "zero points\n",
      "zero points\n",
      "zero points\n",
      "zero points\n",
      "zero points\n",
      "zero points\n"
     ]
    },
    {
     "name": "stderr",
     "output_type": "stream",
     "text": [
      "\r",
      " 81%|███████████████████████████████████████████████████████████████▊               | 924/1144 [00:39<00:10, 21.72it/s]"
     ]
    },
    {
     "name": "stdout",
     "output_type": "stream",
     "text": [
      "zero points\n",
      "zero points\n",
      "zero points\n",
      "zero points\n",
      "zero points\n"
     ]
    },
    {
     "name": "stderr",
     "output_type": "stream",
     "text": [
      "\r",
      " 82%|████████████████████████████████████████████████████████████████▊              | 939/1144 [00:39<00:07, 28.60it/s]"
     ]
    },
    {
     "name": "stdout",
     "output_type": "stream",
     "text": [
      "zero points\n"
     ]
    },
    {
     "name": "stderr",
     "output_type": "stream",
     "text": [
      " 84%|██████████████████████████████████████████████████████████████████▎            | 960/1144 [00:41<00:12, 14.79it/s]"
     ]
    },
    {
     "name": "stdout",
     "output_type": "stream",
     "text": [
      "zero points\n"
     ]
    },
    {
     "name": "stderr",
     "output_type": "stream",
     "text": [
      "\r",
      " 84%|██████████████████████████████████████████████████████████████████▋            | 965/1144 [00:42<00:13, 13.41it/s]"
     ]
    },
    {
     "name": "stdout",
     "output_type": "stream",
     "text": [
      "zero points\n",
      "zero points\n"
     ]
    },
    {
     "name": "stderr",
     "output_type": "stream",
     "text": [
      "\r",
      " 85%|██████████████████████████████████████████████████████████████████▉            | 969/1144 [00:42<00:12, 13.77it/s]"
     ]
    },
    {
     "name": "stdout",
     "output_type": "stream",
     "text": [
      "zero points\n",
      "zero points\n",
      "zero points\n",
      "zero points\n",
      "zero points\n",
      "zero points\n",
      "zero points\n",
      "zero points\n"
     ]
    },
    {
     "name": "stderr",
     "output_type": "stream",
     "text": [
      "\r",
      " 86%|████████████████████████████████████████████████████████████████████           | 985/1144 [00:42<00:08, 18.90it/s]"
     ]
    },
    {
     "name": "stdout",
     "output_type": "stream",
     "text": [
      "zero points\n",
      "zero points\n",
      "zero points\n",
      "zero points\n"
     ]
    },
    {
     "name": "stderr",
     "output_type": "stream",
     "text": [
      " 89%|█████████████████████████████████████████████████████████████████████▌        | 1021/1144 [00:45<00:09, 12.46it/s]"
     ]
    },
    {
     "name": "stdout",
     "output_type": "stream",
     "text": [
      "zero points\n",
      "zero points\n"
     ]
    },
    {
     "name": "stderr",
     "output_type": "stream",
     "text": [
      "\r",
      " 90%|█████████████████████████████████████████████████████████████████████▉        | 1025/1144 [00:45<00:09, 12.99it/s]"
     ]
    },
    {
     "name": "stdout",
     "output_type": "stream",
     "text": [
      "zero points\n",
      "zero points\n",
      "zero points\n",
      "zero points\n"
     ]
    },
    {
     "name": "stderr",
     "output_type": "stream",
     "text": [
      "\r",
      " 90%|██████████████████████████████████████████████████████████████████████▌       | 1034/1144 [00:45<00:06, 17.44it/s]"
     ]
    },
    {
     "name": "stdout",
     "output_type": "stream",
     "text": [
      "zero points\n",
      "zero points\n",
      "zero points\n",
      "zero points\n",
      "zero points\n",
      "zero points\n"
     ]
    },
    {
     "name": "stderr",
     "output_type": "stream",
     "text": [
      "\r",
      " 92%|███████████████████████████████████████████████████████████████████████▍      | 1047/1144 [00:45<00:04, 23.51it/s]"
     ]
    },
    {
     "name": "stdout",
     "output_type": "stream",
     "text": [
      "zero points\n",
      "zero points\n",
      "zero points\n",
      "zero points\n",
      "zero points\n",
      "zero points\n"
     ]
    },
    {
     "name": "stderr",
     "output_type": "stream",
     "text": [
      " 95%|█████████████████████████████████████████████████████████████████████████▊    | 1082/1144 [00:48<00:04, 12.49it/s]"
     ]
    },
    {
     "name": "stdout",
     "output_type": "stream",
     "text": [
      "zero points\n",
      "zero points\n"
     ]
    },
    {
     "name": "stderr",
     "output_type": "stream",
     "text": [
      "\r",
      " 95%|██████████████████████████████████████████████████████████████████████████    | 1086/1144 [00:48<00:04, 12.96it/s]"
     ]
    },
    {
     "name": "stdout",
     "output_type": "stream",
     "text": [
      "zero points\n",
      "zero points\n",
      "zero points\n",
      "zero points\n",
      "zero points\n",
      "zero points\n",
      "zero points\n",
      "zero points\n",
      "zero points\n",
      "zero points\n",
      "zero points\n",
      "zero points\n",
      "zero points\n",
      "zero points\n",
      "zero points\n",
      "zero points\n",
      "zero points\n",
      "zero points\n",
      "zero points\n",
      "zero points\n",
      "zero points\n",
      "zero points\n",
      "zero points\n",
      "zero points\n",
      "zero points\n",
      "zero points\n",
      "zero points\n",
      "zero points\n",
      "zero points\n"
     ]
    },
    {
     "name": "stderr",
     "output_type": "stream",
     "text": [
      "\r",
      " 98%|████████████████████████████████████████████████████████████████████████████▌ | 1123/1144 [00:48<00:01, 18.19it/s]"
     ]
    },
    {
     "name": "stdout",
     "output_type": "stream",
     "text": [
      "zero points\n",
      "zero points\n"
     ]
    },
    {
     "name": "stderr",
     "output_type": "stream",
     "text": [
      "\r",
      " 99%|█████████████████████████████████████████████████████████████████████████████▍| 1135/1144 [00:48<00:00, 21.94it/s]"
     ]
    },
    {
     "name": "stdout",
     "output_type": "stream",
     "text": [
      "zero points\n",
      "zero points\n",
      "zero points\n",
      "zero points\n",
      "zero points\n"
     ]
    },
    {
     "name": "stderr",
     "output_type": "stream",
     "text": [
      "100%|██████████████████████████████████████████████████████████████████████████████| 1144/1144 [00:48<00:00, 23.39it/s]\n",
      " 94%|████████████████████████████████████████████████████████████████████████▏    | 1073/1144 [00:02<00:00, 338.18it/s]"
     ]
    },
    {
     "name": "stdout",
     "output_type": "stream",
     "text": [
      "2020-06-12 13:03:29.024481-Saving C:/Users/SING1761/OneDrive Corp/OneDrive - Atkins Ltd/my_work/SBRI_3D/input_preprocessed_data/hdf5_files\\half_524900_0.h5...\n"
     ]
    },
    {
     "name": "stderr",
     "output_type": "stream",
     "text": [
      "100%|█████████████████████████████████████████████████████████████████████████████| 1144/1144 [00:08<00:00, 128.73it/s]\n"
     ]
    },
    {
     "name": "stdout",
     "output_type": "stream",
     "text": [
      "2020-06-12 13:03:37.838378-Computing block id of 9010491 points...\n",
      "2020-06-12 13:03:39.512444-Collecting points belong to each block...\n",
      "2020-06-12 13:03:53.807606-C:/Users/SING1761/OneDrive Corp/OneDrive - Atkins Ltd/my_work/SBRI_3D/input_preprocessed_data/numpys/XYZRGB_526275.npy is split into 977 blocks.\n"
     ]
    },
    {
     "name": "stderr",
     "output_type": "stream",
     "text": [
      "100%|█████████████████████████████████████████████████████████████████████████████| 977/977 [00:00<00:00, 44522.33it/s]\n"
     ]
    },
    {
     "name": "stdout",
     "output_type": "stream",
     "text": [
      "2020-06-12 13:03:53.839522-247 of 977 blocks are merged.\n"
     ]
    },
    {
     "name": "stderr",
     "output_type": "stream",
     "text": [
      "\r",
      "  0%|                                                                                          | 0/977 [00:00<?, ?it/s]"
     ]
    },
    {
     "name": "stdout",
     "output_type": "stream",
     "text": [
      "zero points\n",
      "zero points\n",
      "zero points\n",
      "zero points\n",
      "zero points\n",
      "zero points\n",
      "zero points\n",
      "zero points\n",
      "zero points\n",
      "zero points\n",
      "zero points\n"
     ]
    },
    {
     "name": "stderr",
     "output_type": "stream",
     "text": [
      "\r",
      "  2%|█▎                                                                              | 16/977 [00:00<00:06, 159.46it/s]"
     ]
    },
    {
     "name": "stdout",
     "output_type": "stream",
     "text": [
      "zero points\n",
      "zero points\n",
      "zero points\n",
      "zero points\n"
     ]
    },
    {
     "name": "stderr",
     "output_type": "stream",
     "text": [
      "  5%|████▍                                                                            | 53/977 [00:02<01:12, 12.72it/s]"
     ]
    },
    {
     "name": "stdout",
     "output_type": "stream",
     "text": [
      "zero points\n"
     ]
    },
    {
     "name": "stderr",
     "output_type": "stream",
     "text": [
      "  6%|█████▏                                                                           | 62/977 [00:03<01:04, 14.19it/s]"
     ]
    },
    {
     "name": "stdout",
     "output_type": "stream",
     "text": [
      "zero points\n",
      "zero points\n",
      "zero points\n",
      "zero points\n",
      "zero points\n",
      "zero points\n",
      "zero points\n"
     ]
    },
    {
     "name": "stderr",
     "output_type": "stream",
     "text": [
      "\r",
      "  8%|██████▍                                                                          | 78/977 [00:03<00:46, 19.47it/s]"
     ]
    },
    {
     "name": "stdout",
     "output_type": "stream",
     "text": [
      "zero points\n",
      "zero points\n",
      "zero points\n",
      "zero points\n",
      "zero points\n",
      "zero points\n",
      "zero points\n"
     ]
    },
    {
     "name": "stderr",
     "output_type": "stream",
     "text": [
      "\r",
      " 10%|███████▋                                                                         | 93/977 [00:03<00:33, 26.22it/s]"
     ]
    },
    {
     "name": "stdout",
     "output_type": "stream",
     "text": [
      "zero points\n"
     ]
    },
    {
     "name": "stderr",
     "output_type": "stream",
     "text": [
      " 12%|█████████▍                                                                      | 116/977 [00:05<00:59, 14.50it/s]"
     ]
    },
    {
     "name": "stdout",
     "output_type": "stream",
     "text": [
      "zero points\n"
     ]
    },
    {
     "name": "stderr",
     "output_type": "stream",
     "text": [
      "\r",
      " 12%|█████████▉                                                                      | 121/977 [00:05<01:15, 11.39it/s]"
     ]
    },
    {
     "name": "stdout",
     "output_type": "stream",
     "text": [
      "zero points\n",
      "zero points\n",
      "zero points\n",
      "zero points\n",
      "zero points\n"
     ]
    },
    {
     "name": "stderr",
     "output_type": "stream",
     "text": [
      "\r",
      " 14%|██████████▊                                                                     | 132/977 [00:06<00:54, 15.51it/s]"
     ]
    },
    {
     "name": "stdout",
     "output_type": "stream",
     "text": [
      "zero points\n",
      "zero points\n",
      "zero points\n",
      "zero points\n",
      "zero points\n",
      "zero points\n"
     ]
    },
    {
     "name": "stderr",
     "output_type": "stream",
     "text": [
      "\r",
      " 15%|███████████▉                                                                    | 146/977 [00:06<00:39, 21.12it/s]"
     ]
    },
    {
     "name": "stdout",
     "output_type": "stream",
     "text": [
      "zero points\n",
      "zero points\n",
      "zero points\n",
      "zero points\n",
      "zero points\n",
      "zero points\n",
      "zero points\n"
     ]
    },
    {
     "name": "stderr",
     "output_type": "stream",
     "text": [
      " 18%|██████████████▍                                                                 | 176/977 [00:08<00:54, 14.76it/s]"
     ]
    },
    {
     "name": "stdout",
     "output_type": "stream",
     "text": [
      "zero points\n",
      "zero points\n"
     ]
    },
    {
     "name": "stderr",
     "output_type": "stream",
     "text": [
      "\r",
      " 19%|██████████████▉                                                                 | 182/977 [00:08<01:03, 12.48it/s]"
     ]
    },
    {
     "name": "stdout",
     "output_type": "stream",
     "text": [
      "zero points\n",
      "zero points\n",
      "zero points\n",
      "zero points\n",
      "zero points\n",
      "zero points\n",
      "zero points\n",
      "zero points\n",
      "zero points\n",
      "zero points\n",
      "zero points\n",
      "zero points\n"
     ]
    },
    {
     "name": "stderr",
     "output_type": "stream",
     "text": [
      "\r",
      " 21%|████████████████▋                                                               | 204/977 [00:08<00:44, 17.35it/s]"
     ]
    },
    {
     "name": "stdout",
     "output_type": "stream",
     "text": [
      "zero points\n",
      "zero points\n",
      "zero points\n",
      "zero points\n",
      "zero points\n"
     ]
    },
    {
     "name": "stderr",
     "output_type": "stream",
     "text": [
      " 24%|███████████████████▍                                                            | 237/977 [00:10<00:48, 15.18it/s]"
     ]
    },
    {
     "name": "stdout",
     "output_type": "stream",
     "text": [
      "zero points\n",
      "zero points\n"
     ]
    },
    {
     "name": "stderr",
     "output_type": "stream",
     "text": [
      "\r",
      " 25%|███████████████████▉                                                            | 243/977 [00:11<00:55, 13.23it/s]"
     ]
    },
    {
     "name": "stdout",
     "output_type": "stream",
     "text": [
      "zero points\n",
      "zero points\n",
      "zero points\n",
      "zero points\n",
      "zero points\n",
      "zero points\n",
      "zero points\n",
      "zero points\n",
      "zero points\n",
      "zero points\n",
      "zero points\n",
      "zero points\n"
     ]
    },
    {
     "name": "stderr",
     "output_type": "stream",
     "text": [
      " 30%|████████████████████████                                                        | 294/977 [00:13<00:48, 14.09it/s]"
     ]
    },
    {
     "name": "stdout",
     "output_type": "stream",
     "text": [
      "zero points\n",
      "zero points\n"
     ]
    },
    {
     "name": "stderr",
     "output_type": "stream",
     "text": [
      "\r",
      " 31%|████████████████████████▍                                                       | 299/977 [00:14<00:55, 12.17it/s]"
     ]
    },
    {
     "name": "stdout",
     "output_type": "stream",
     "text": [
      "zero points\n"
     ]
    },
    {
     "name": "stderr",
     "output_type": "stream",
     "text": [
      "\r",
      " 31%|████████████████████████▉                                                       | 305/977 [00:14<00:42, 15.89it/s]"
     ]
    },
    {
     "name": "stdout",
     "output_type": "stream",
     "text": [
      "zero points\n",
      "zero points\n",
      "zero points\n",
      "zero points\n",
      "zero points\n",
      "zero points\n"
     ]
    },
    {
     "name": "stderr",
     "output_type": "stream",
     "text": [
      " 35%|████████████████████████████▏                                                   | 345/977 [00:16<01:00, 10.46it/s]"
     ]
    },
    {
     "name": "stdout",
     "output_type": "stream",
     "text": [
      "zero points\n"
     ]
    },
    {
     "name": "stderr",
     "output_type": "stream",
     "text": [
      "\r",
      " 36%|████████████████████████████▋                                                   | 350/977 [00:16<00:47, 13.33it/s]"
     ]
    },
    {
     "name": "stdout",
     "output_type": "stream",
     "text": [
      "zero points\n",
      "zero points\n"
     ]
    },
    {
     "name": "stderr",
     "output_type": "stream",
     "text": [
      "\r",
      " 36%|█████████████████████████████                                                   | 355/977 [00:17<00:52, 11.84it/s]"
     ]
    },
    {
     "name": "stdout",
     "output_type": "stream",
     "text": [
      "zero points\n",
      "zero points\n"
     ]
    },
    {
     "name": "stderr",
     "output_type": "stream",
     "text": [
      "\r",
      " 37%|█████████████████████████████▍                                                  | 359/977 [00:17<00:44, 13.81it/s]"
     ]
    },
    {
     "name": "stdout",
     "output_type": "stream",
     "text": [
      "zero points\n",
      "zero points\n",
      "zero points\n",
      "zero points\n",
      "zero points\n",
      "zero points\n",
      "zero points\n",
      "zero points\n",
      "zero points\n"
     ]
    },
    {
     "name": "stderr",
     "output_type": "stream",
     "text": [
      "\r",
      " 38%|██████████████████████████████▌                                                 | 374/977 [00:17<00:31, 18.97it/s]"
     ]
    },
    {
     "name": "stdout",
     "output_type": "stream",
     "text": [
      "zero points\n",
      "zero points\n",
      "zero points\n",
      "zero points\n"
     ]
    },
    {
     "name": "stderr",
     "output_type": "stream",
     "text": [
      " 41%|████████████████████████████████▌                                               | 398/977 [00:20<01:10,  8.26it/s]"
     ]
    },
    {
     "name": "stdout",
     "output_type": "stream",
     "text": [
      "zero points\n",
      "zero points\n"
     ]
    },
    {
     "name": "stderr",
     "output_type": "stream",
     "text": [
      "\r",
      " 41%|████████████████████████████████▉                                               | 403/977 [00:20<00:54, 10.45it/s]"
     ]
    },
    {
     "name": "stdout",
     "output_type": "stream",
     "text": [
      "zero points\n",
      "zero points\n"
     ]
    },
    {
     "name": "stderr",
     "output_type": "stream",
     "text": [
      "\r",
      " 42%|█████████████████████████████████▎                                              | 407/977 [00:20<00:47, 12.10it/s]"
     ]
    },
    {
     "name": "stdout",
     "output_type": "stream",
     "text": [
      "zero points\n",
      "zero points\n"
     ]
    },
    {
     "name": "stderr",
     "output_type": "stream",
     "text": [
      "\r",
      " 43%|██████████████████████████████████                                              | 416/977 [00:20<00:35, 15.66it/s]"
     ]
    },
    {
     "name": "stdout",
     "output_type": "stream",
     "text": [
      "zero points\n",
      "zero points\n",
      "zero points\n",
      "zero points\n",
      "zero points\n",
      "zero points\n"
     ]
    },
    {
     "name": "stderr",
     "output_type": "stream",
     "text": [
      "\r",
      " 44%|███████████████████████████████████▏                                            | 429/977 [00:20<00:25, 21.19it/s]"
     ]
    },
    {
     "name": "stdout",
     "output_type": "stream",
     "text": [
      "zero points\n",
      "zero points\n",
      "zero points\n",
      "zero points\n",
      "zero points\n",
      "zero points\n"
     ]
    },
    {
     "name": "stderr",
     "output_type": "stream",
     "text": [
      " 47%|█████████████████████████████████████▍                                          | 457/977 [00:22<00:41, 12.40it/s]"
     ]
    },
    {
     "name": "stdout",
     "output_type": "stream",
     "text": [
      "zero points\n"
     ]
    },
    {
     "name": "stderr",
     "output_type": "stream",
     "text": [
      "\r",
      " 47%|█████████████████████████████████████▊                                          | 462/977 [00:23<00:41, 12.50it/s]"
     ]
    },
    {
     "name": "stdout",
     "output_type": "stream",
     "text": [
      "zero points\n",
      "zero points\n"
     ]
    },
    {
     "name": "stderr",
     "output_type": "stream",
     "text": [
      "\r",
      " 48%|██████████████████████████████████████▏                                         | 466/977 [00:23<00:37, 13.69it/s]"
     ]
    },
    {
     "name": "stdout",
     "output_type": "stream",
     "text": [
      "zero points\n",
      "zero points\n"
     ]
    },
    {
     "name": "stderr",
     "output_type": "stream",
     "text": [
      "\r",
      " 49%|██████████████████████████████████████▉                                         | 475/977 [00:23<00:28, 17.47it/s]"
     ]
    },
    {
     "name": "stdout",
     "output_type": "stream",
     "text": [
      "zero points\n",
      "zero points\n",
      "zero points\n",
      "zero points\n",
      "zero points\n",
      "zero points\n",
      "zero points\n",
      "zero points\n"
     ]
    },
    {
     "name": "stderr",
     "output_type": "stream",
     "text": [
      "\r",
      " 50%|████████████████████████████████████████                                        | 490/977 [00:23<00:20, 23.73it/s]"
     ]
    },
    {
     "name": "stdout",
     "output_type": "stream",
     "text": [
      "zero points\n",
      "zero points\n",
      "zero points\n",
      "zero points\n"
     ]
    },
    {
     "name": "stderr",
     "output_type": "stream",
     "text": [
      " 53%|██████████████████████████████████████████▏                                     | 515/977 [00:25<00:35, 12.99it/s]"
     ]
    },
    {
     "name": "stdout",
     "output_type": "stream",
     "text": [
      "zero points\n"
     ]
    },
    {
     "name": "stderr",
     "output_type": "stream",
     "text": [
      " 54%|██████████████████████████████████████████▉                                     | 524/977 [00:26<00:35, 12.87it/s]"
     ]
    },
    {
     "name": "stdout",
     "output_type": "stream",
     "text": [
      "zero points\n",
      "zero points\n",
      "zero points\n",
      "zero points\n"
     ]
    },
    {
     "name": "stderr",
     "output_type": "stream",
     "text": [
      "\r",
      " 54%|███████████████████████████████████████████▍                                    | 531/977 [00:26<00:27, 16.13it/s]"
     ]
    },
    {
     "name": "stdout",
     "output_type": "stream",
     "text": [
      "zero points\n",
      "zero points\n",
      "zero points\n",
      "zero points\n",
      "zero points\n"
     ]
    },
    {
     "name": "stderr",
     "output_type": "stream",
     "text": [
      "\r",
      " 56%|████████████████████████████████████████████▍                                   | 543/977 [00:26<00:19, 21.75it/s]"
     ]
    },
    {
     "name": "stdout",
     "output_type": "stream",
     "text": [
      "zero points\n",
      "zero points\n",
      "zero points\n",
      "zero points\n"
     ]
    },
    {
     "name": "stderr",
     "output_type": "stream",
     "text": [
      " 59%|███████████████████████████████████████████████                                 | 574/977 [00:29<00:41,  9.73it/s]"
     ]
    },
    {
     "name": "stdout",
     "output_type": "stream",
     "text": [
      "zero points\n"
     ]
    },
    {
     "name": "stderr",
     "output_type": "stream",
     "text": [
      "\r",
      " 59%|███████████████████████████████████████████████▏                                | 577/977 [00:29<00:42,  9.47it/s]"
     ]
    },
    {
     "name": "stdout",
     "output_type": "stream",
     "text": [
      "zero points\n"
     ]
    },
    {
     "name": "stderr",
     "output_type": "stream",
     "text": [
      "\r",
      " 60%|████████████████████████████████████████████████▏                               | 589/977 [00:29<00:29, 13.04it/s]"
     ]
    },
    {
     "name": "stdout",
     "output_type": "stream",
     "text": [
      "zero points\n"
     ]
    },
    {
     "name": "stderr",
     "output_type": "stream",
     "text": [
      "\r",
      " 61%|████████████████████████████████████████████████▋                               | 594/977 [00:30<00:23, 16.08it/s]"
     ]
    },
    {
     "name": "stdout",
     "output_type": "stream",
     "text": [
      "zero points\n",
      "zero points\n",
      "zero points\n",
      "zero points\n",
      "zero points\n",
      "zero points\n",
      "zero points\n"
     ]
    },
    {
     "name": "stderr",
     "output_type": "stream",
     "text": [
      "\r",
      " 62%|█████████████████████████████████████████████████▊                              | 608/977 [00:30<00:16, 21.87it/s]"
     ]
    },
    {
     "name": "stdout",
     "output_type": "stream",
     "text": [
      "zero points\n",
      "zero points\n"
     ]
    },
    {
     "name": "stderr",
     "output_type": "stream",
     "text": [
      " 65%|███████████████████████████████████████████████████▊                            | 633/977 [00:32<00:29, 11.62it/s]"
     ]
    },
    {
     "name": "stdout",
     "output_type": "stream",
     "text": [
      "zero points\n"
     ]
    },
    {
     "name": "stderr",
     "output_type": "stream",
     "text": [
      "\r",
      " 65%|████████████████████████████████████████████████████                            | 636/977 [00:32<00:30, 11.22it/s]"
     ]
    },
    {
     "name": "stdout",
     "output_type": "stream",
     "text": [
      "zero points\n"
     ]
    },
    {
     "name": "stderr",
     "output_type": "stream",
     "text": [
      "\r",
      " 66%|████████████████████████████████████████████████████▉                           | 647/977 [00:33<00:22, 14.73it/s]"
     ]
    },
    {
     "name": "stdout",
     "output_type": "stream",
     "text": [
      "zero points\n",
      "zero points\n",
      "zero points\n",
      "zero points\n",
      "zero points\n",
      "zero points\n"
     ]
    },
    {
     "name": "stderr",
     "output_type": "stream",
     "text": [
      "\r",
      " 68%|██████████████████████████████████████████████████████                          | 661/977 [00:33<00:15, 20.07it/s]"
     ]
    },
    {
     "name": "stdout",
     "output_type": "stream",
     "text": [
      "zero points\n",
      "zero points\n",
      "zero points\n",
      "zero points\n",
      "zero points\n"
     ]
    },
    {
     "name": "stderr",
     "output_type": "stream",
     "text": [
      " 70%|████████████████████████████████████████████████████████▎                       | 687/977 [00:34<00:20, 13.85it/s]"
     ]
    },
    {
     "name": "stdout",
     "output_type": "stream",
     "text": [
      "zero points\n"
     ]
    },
    {
     "name": "stderr",
     "output_type": "stream",
     "text": [
      "\r",
      " 71%|████████████████████████████████████████████████████████▋                       | 692/977 [00:35<00:25, 11.13it/s]"
     ]
    },
    {
     "name": "stdout",
     "output_type": "stream",
     "text": [
      "zero points\n",
      "zero points\n"
     ]
    },
    {
     "name": "stderr",
     "output_type": "stream",
     "text": [
      "\r",
      " 72%|█████████████████████████████████████████████████████████▌                      | 703/977 [00:35<00:18, 14.84it/s]"
     ]
    },
    {
     "name": "stdout",
     "output_type": "stream",
     "text": [
      "zero points\n",
      "zero points\n"
     ]
    },
    {
     "name": "stderr",
     "output_type": "stream",
     "text": [
      "\r",
      " 73%|██████████████████████████████████████████████████████████▏                     | 710/977 [00:35<00:13, 19.33it/s]"
     ]
    },
    {
     "name": "stdout",
     "output_type": "stream",
     "text": [
      "zero points\n",
      "zero points\n",
      "zero points\n",
      "zero points\n",
      "zero points\n",
      "zero points\n"
     ]
    },
    {
     "name": "stderr",
     "output_type": "stream",
     "text": [
      " 76%|█████████████████████████████████████████████████████████████                   | 745/977 [00:37<00:17, 13.20it/s]"
     ]
    },
    {
     "name": "stdout",
     "output_type": "stream",
     "text": [
      "zero points\n"
     ]
    },
    {
     "name": "stderr",
     "output_type": "stream",
     "text": [
      "\r",
      " 77%|█████████████████████████████████████████████████████████████▎                  | 749/977 [00:38<00:22, 10.09it/s]"
     ]
    },
    {
     "name": "stdout",
     "output_type": "stream",
     "text": [
      "zero points\n"
     ]
    },
    {
     "name": "stderr",
     "output_type": "stream",
     "text": [
      "\r",
      " 77%|█████████████████████████████████████████████████████████████▉                  | 756/977 [00:38<00:17, 12.79it/s]"
     ]
    },
    {
     "name": "stdout",
     "output_type": "stream",
     "text": [
      "zero points\n",
      "zero points\n",
      "zero points\n",
      "zero points\n",
      "zero points\n"
     ]
    },
    {
     "name": "stderr",
     "output_type": "stream",
     "text": [
      "\r",
      " 79%|██████████████████████████████████████████████████████████████▉                 | 769/977 [00:38<00:11, 17.51it/s]"
     ]
    },
    {
     "name": "stdout",
     "output_type": "stream",
     "text": [
      "zero points\n",
      "zero points\n",
      "zero points\n"
     ]
    },
    {
     "name": "stderr",
     "output_type": "stream",
     "text": [
      " 82%|█████████████████████████████████████████████████████████████████▎              | 798/977 [00:41<00:15, 11.69it/s]"
     ]
    },
    {
     "name": "stdout",
     "output_type": "stream",
     "text": [
      "zero points\n"
     ]
    },
    {
     "name": "stderr",
     "output_type": "stream",
     "text": [
      "\r",
      " 82%|█████████████████████████████████████████████████████████████████▋              | 802/977 [00:41<00:14, 12.21it/s]"
     ]
    },
    {
     "name": "stdout",
     "output_type": "stream",
     "text": [
      "zero points\n",
      "zero points\n",
      "zero points\n"
     ]
    },
    {
     "name": "stderr",
     "output_type": "stream",
     "text": [
      "\r",
      " 83%|██████████████████████████████████████████████████████████████████▏             | 809/977 [00:41<00:10, 15.91it/s]"
     ]
    },
    {
     "name": "stdout",
     "output_type": "stream",
     "text": [
      "zero points\n",
      "zero points\n",
      "zero points\n"
     ]
    },
    {
     "name": "stderr",
     "output_type": "stream",
     "text": [
      "\r",
      " 84%|██████████████████████████████████████████████████████████████████▊             | 816/977 [00:41<00:07, 20.60it/s]"
     ]
    },
    {
     "name": "stdout",
     "output_type": "stream",
     "text": [
      "zero points\n",
      "zero points\n",
      "zero points\n",
      "zero points\n"
     ]
    },
    {
     "name": "stderr",
     "output_type": "stream",
     "text": [
      " 87%|█████████████████████████████████████████████████████████████████████▍          | 848/977 [00:43<00:10, 12.73it/s]"
     ]
    },
    {
     "name": "stdout",
     "output_type": "stream",
     "text": [
      "zero points\n"
     ]
    },
    {
     "name": "stderr",
     "output_type": "stream",
     "text": [
      " 88%|██████████████████████████████████████████████████████████████████████          | 855/977 [00:44<00:11, 10.84it/s]"
     ]
    },
    {
     "name": "stdout",
     "output_type": "stream",
     "text": [
      "zero points\n"
     ]
    },
    {
     "name": "stderr",
     "output_type": "stream",
     "text": [
      "\r",
      " 88%|██████████████████████████████████████████████████████████████████████▌         | 862/977 [00:44<00:08, 13.71it/s]"
     ]
    },
    {
     "name": "stdout",
     "output_type": "stream",
     "text": [
      "zero points\n",
      "zero points\n",
      "zero points\n",
      "zero points\n"
     ]
    },
    {
     "name": "stderr",
     "output_type": "stream",
     "text": [
      "\r",
      " 89%|███████████████████████████████████████████████████████████████████████▍        | 873/977 [00:44<00:05, 18.58it/s]"
     ]
    },
    {
     "name": "stdout",
     "output_type": "stream",
     "text": [
      "zero points\n",
      "zero points\n",
      "zero points\n",
      "zero points\n"
     ]
    },
    {
     "name": "stderr",
     "output_type": "stream",
     "text": [
      " 92%|█████████████████████████████████████████████████████████████████████████▉      | 903/977 [00:46<00:06, 12.03it/s]"
     ]
    },
    {
     "name": "stdout",
     "output_type": "stream",
     "text": [
      "zero points\n",
      "zero points\n"
     ]
    },
    {
     "name": "stderr",
     "output_type": "stream",
     "text": [
      "\r",
      " 93%|██████████████████████████████████████████████████████████████████████████▎     | 907/977 [00:46<00:04, 14.79it/s]"
     ]
    },
    {
     "name": "stdout",
     "output_type": "stream",
     "text": [
      "zero points\n",
      "zero points\n",
      "zero points\n",
      "zero points\n",
      "zero points\n",
      "zero points\n"
     ]
    },
    {
     "name": "stderr",
     "output_type": "stream",
     "text": [
      "\r",
      " 96%|████████████████████████████████████████████████████████████████████████████▋   | 936/977 [00:46<00:02, 20.44it/s]"
     ]
    },
    {
     "name": "stdout",
     "output_type": "stream",
     "text": [
      "zero points\n",
      "zero points\n",
      "zero points\n",
      "zero points\n",
      "zero points\n",
      "zero points\n",
      "zero points\n",
      "zero points\n",
      "zero points\n",
      "zero points\n",
      "zero points\n"
     ]
    },
    {
     "name": "stderr",
     "output_type": "stream",
     "text": [
      "\r",
      " 98%|██████████████████████████████████████████████████████████████████████████████▎ | 956/977 [00:47<00:00, 27.84it/s]"
     ]
    },
    {
     "name": "stdout",
     "output_type": "stream",
     "text": [
      "zero points\n"
     ]
    },
    {
     "name": "stderr",
     "output_type": "stream",
     "text": [
      "\r",
      " 99%|███████████████████████████████████████████████████████████████████████████████▏| 967/977 [00:47<00:00, 21.97it/s]"
     ]
    },
    {
     "name": "stdout",
     "output_type": "stream",
     "text": [
      "zero points\n"
     ]
    },
    {
     "name": "stderr",
     "output_type": "stream",
     "text": [
      "100%|████████████████████████████████████████████████████████████████████████████████| 977/977 [00:48<00:00, 20.14it/s]\n",
      " 99%|██████████████████████████████████████████████████████████████████████████████▎| 968/977 [00:02<00:00, 323.42it/s]"
     ]
    },
    {
     "name": "stdout",
     "output_type": "stream",
     "text": [
      "2020-06-12 13:04:45.285507-Saving C:/Users/SING1761/OneDrive Corp/OneDrive - Atkins Ltd/my_work/SBRI_3D/input_preprocessed_data/hdf5_files\\zero_524900_0.h5...\n"
     ]
    },
    {
     "name": "stderr",
     "output_type": "stream",
     "text": [
      "100%|███████████████████████████████████████████████████████████████████████████████| 977/977 [00:08<00:00, 118.66it/s]\n"
     ]
    },
    {
     "name": "stdout",
     "output_type": "stream",
     "text": [
      "2020-06-12 13:04:50.601060-Computing block id of 9010491 points...\n",
      "2020-06-12 13:04:52.054299-Collecting points belong to each block...\n",
      "2020-06-12 13:05:04.916307-C:/Users/SING1761/OneDrive Corp/OneDrive - Atkins Ltd/my_work/SBRI_3D/input_preprocessed_data/numpys/XYZRGB_526275.npy is split into 1027 blocks.\n"
     ]
    },
    {
     "name": "stderr",
     "output_type": "stream",
     "text": [
      "100%|███████████████████████████████████████████████████████████████████████████| 1027/1027 [00:00<00:00, 64355.19it/s]\n"
     ]
    },
    {
     "name": "stdout",
     "output_type": "stream",
     "text": [
      "2020-06-12 13:05:04.939219-273 of 1027 blocks are merged.\n"
     ]
    },
    {
     "name": "stderr",
     "output_type": "stream",
     "text": [
      "\r",
      "  0%|                                                                                         | 0/1027 [00:00<?, ?it/s]"
     ]
    },
    {
     "name": "stdout",
     "output_type": "stream",
     "text": [
      "zero points\n",
      "zero points\n",
      "zero points\n",
      "zero points\n",
      "zero points\n",
      "zero points\n",
      "zero points\n",
      "zero points\n",
      "zero points\n",
      "zero points\n",
      "zero points\n",
      "zero points\n",
      "zero points\n",
      "zero points\n",
      "zero points\n",
      "zero points\n",
      "zero points\n",
      "zero points\n",
      "zero points\n",
      "zero points\n",
      "zero points\n",
      "zero points\n"
     ]
    },
    {
     "name": "stderr",
     "output_type": "stream",
     "text": [
      "  4%|███▏                                                                            | 41/1027 [00:00<00:22, 43.49it/s]"
     ]
    },
    {
     "name": "stdout",
     "output_type": "stream",
     "text": [
      "zero points\n"
     ]
    },
    {
     "name": "stderr",
     "output_type": "stream",
     "text": [
      "\r",
      "  5%|███▋                                                                            | 48/1027 [00:01<00:25, 37.91it/s]"
     ]
    },
    {
     "name": "stdout",
     "output_type": "stream",
     "text": [
      "zero points\n",
      "zero points\n"
     ]
    },
    {
     "name": "stderr",
     "output_type": "stream",
     "text": [
      "\r",
      "  5%|████▏                                                                           | 54/1027 [00:01<00:28, 34.18it/s]"
     ]
    },
    {
     "name": "stdout",
     "output_type": "stream",
     "text": [
      "zero points\n",
      "zero points\n",
      "zero points\n"
     ]
    },
    {
     "name": "stderr",
     "output_type": "stream",
     "text": [
      "\r",
      "  6%|████▌                                                                           | 59/1027 [00:01<00:27, 35.01it/s]"
     ]
    },
    {
     "name": "stdout",
     "output_type": "stream",
     "text": [
      "zero points\n",
      "zero points\n",
      "zero points\n",
      "zero points\n",
      "zero points\n",
      "zero points\n",
      "zero points\n"
     ]
    },
    {
     "name": "stderr",
     "output_type": "stream",
     "text": [
      "\r",
      "  7%|█████▊                                                                          | 74/1027 [00:01<00:21, 44.78it/s]"
     ]
    },
    {
     "name": "stdout",
     "output_type": "stream",
     "text": [
      "zero points\n",
      "zero points\n",
      "zero points\n",
      "zero points\n",
      "zero points\n"
     ]
    },
    {
     "name": "stderr",
     "output_type": "stream",
     "text": [
      "\r",
      "  8%|██████▊                                                                         | 87/1027 [00:01<00:16, 55.54it/s]"
     ]
    },
    {
     "name": "stdout",
     "output_type": "stream",
     "text": [
      "zero points\n"
     ]
    },
    {
     "name": "stderr",
     "output_type": "stream",
     "text": [
      " 10%|████████                                                                       | 104/1027 [00:03<01:03, 14.63it/s]"
     ]
    },
    {
     "name": "stdout",
     "output_type": "stream",
     "text": [
      "zero points\n"
     ]
    },
    {
     "name": "stderr",
     "output_type": "stream",
     "text": [
      " 11%|█████████                                                                      | 118/1027 [00:04<01:09, 13.14it/s]"
     ]
    },
    {
     "name": "stdout",
     "output_type": "stream",
     "text": [
      "zero points\n",
      "zero points\n"
     ]
    },
    {
     "name": "stderr",
     "output_type": "stream",
     "text": [
      "\r",
      " 13%|██████████                                                                     | 130/1027 [00:04<00:50, 17.87it/s]"
     ]
    },
    {
     "name": "stdout",
     "output_type": "stream",
     "text": [
      "zero points\n",
      "zero points\n",
      "zero points\n",
      "zero points\n",
      "zero points\n",
      "zero points\n"
     ]
    },
    {
     "name": "stderr",
     "output_type": "stream",
     "text": [
      "\r",
      " 14%|███████████▏                                                                   | 146/1027 [00:04<00:36, 24.30it/s]"
     ]
    },
    {
     "name": "stdout",
     "output_type": "stream",
     "text": [
      "zero points\n",
      "zero points\n",
      "zero points\n",
      "zero points\n",
      "zero points\n",
      "zero points\n"
     ]
    },
    {
     "name": "stderr",
     "output_type": "stream",
     "text": [
      " 17%|█████████████▋                                                                 | 178/1027 [00:06<01:02, 13.54it/s]"
     ]
    },
    {
     "name": "stdout",
     "output_type": "stream",
     "text": [
      "zero points\n",
      "zero points\n",
      "zero points\n"
     ]
    },
    {
     "name": "stderr",
     "output_type": "stream",
     "text": [
      "\r",
      " 18%|██████████████▏                                                                | 184/1027 [00:07<00:57, 14.71it/s]"
     ]
    },
    {
     "name": "stdout",
     "output_type": "stream",
     "text": [
      "zero points\n",
      "zero points\n",
      "zero points\n",
      "zero points\n",
      "zero points\n",
      "zero points\n",
      "zero points\n",
      "zero points\n"
     ]
    },
    {
     "name": "stderr",
     "output_type": "stream",
     "text": [
      "\r",
      " 20%|███████████████▌                                                               | 202/1027 [00:07<00:40, 20.20it/s]"
     ]
    },
    {
     "name": "stdout",
     "output_type": "stream",
     "text": [
      "zero points\n",
      "zero points\n",
      "zero points\n",
      "zero points\n",
      "zero points\n",
      "zero points\n"
     ]
    },
    {
     "name": "stderr",
     "output_type": "stream",
     "text": [
      " 23%|██████████████████                                                             | 234/1027 [00:09<00:54, 14.43it/s]"
     ]
    },
    {
     "name": "stdout",
     "output_type": "stream",
     "text": [
      "zero points\n"
     ]
    },
    {
     "name": "stderr",
     "output_type": "stream",
     "text": [
      "\r",
      " 23%|██████████████████▍                                                            | 240/1027 [00:10<01:04, 12.12it/s]"
     ]
    },
    {
     "name": "stdout",
     "output_type": "stream",
     "text": [
      "zero points\n",
      "zero points\n",
      "zero points\n",
      "zero points\n",
      "zero points\n",
      "zero points\n",
      "zero points\n",
      "zero points\n",
      "zero points\n"
     ]
    },
    {
     "name": "stderr",
     "output_type": "stream",
     "text": [
      "\r",
      " 25%|████████████████████                                                           | 260/1027 [00:10<00:45, 16.80it/s]"
     ]
    },
    {
     "name": "stdout",
     "output_type": "stream",
     "text": [
      "zero points\n",
      "zero points\n",
      "zero points\n",
      "zero points\n"
     ]
    },
    {
     "name": "stderr",
     "output_type": "stream",
     "text": [
      " 28%|██████████████████████▍                                                        | 291/1027 [00:12<00:53, 13.86it/s]"
     ]
    },
    {
     "name": "stdout",
     "output_type": "stream",
     "text": [
      "zero points\n"
     ]
    },
    {
     "name": "stderr",
     "output_type": "stream",
     "text": [
      "\r",
      " 29%|██████████████████████▊                                                        | 297/1027 [00:12<00:59, 12.21it/s]"
     ]
    },
    {
     "name": "stdout",
     "output_type": "stream",
     "text": [
      "zero points\n",
      "zero points\n",
      "zero points\n",
      "zero points\n",
      "zero points\n",
      "zero points\n",
      "zero points\n"
     ]
    },
    {
     "name": "stderr",
     "output_type": "stream",
     "text": [
      "\r",
      " 31%|████████████████████████▏                                                      | 314/1027 [00:13<00:42, 16.87it/s]"
     ]
    },
    {
     "name": "stdout",
     "output_type": "stream",
     "text": [
      "zero points\n"
     ]
    },
    {
     "name": "stderr",
     "output_type": "stream",
     "text": [
      " 34%|███████████████████████████                                                    | 351/1027 [00:15<01:01, 11.01it/s]"
     ]
    },
    {
     "name": "stdout",
     "output_type": "stream",
     "text": [
      "zero points\n",
      "zero points\n"
     ]
    },
    {
     "name": "stderr",
     "output_type": "stream",
     "text": [
      "\r",
      " 35%|███████████████████████████▍                                                   | 356/1027 [00:15<00:48, 13.72it/s]"
     ]
    },
    {
     "name": "stdout",
     "output_type": "stream",
     "text": [
      "zero points\n",
      "zero points\n",
      "zero points\n",
      "zero points\n",
      "zero points\n",
      "zero points\n",
      "zero points\n",
      "zero points\n",
      "zero points\n",
      "zero points\n",
      "zero points\n",
      "zero points\n"
     ]
    },
    {
     "name": "stderr",
     "output_type": "stream",
     "text": [
      "\r",
      " 37%|████████████████████████████▊                                                  | 375/1027 [00:16<00:34, 18.94it/s]"
     ]
    },
    {
     "name": "stdout",
     "output_type": "stream",
     "text": [
      "zero points\n",
      "zero points\n"
     ]
    },
    {
     "name": "stderr",
     "output_type": "stream",
     "text": [
      " 39%|██████████████████████████████▋                                                | 399/1027 [00:19<01:20,  7.76it/s]"
     ]
    },
    {
     "name": "stdout",
     "output_type": "stream",
     "text": [
      "zero points\n"
     ]
    },
    {
     "name": "stderr",
     "output_type": "stream",
     "text": [
      " 39%|███████████████████████████████▏                                               | 405/1027 [00:19<01:10,  8.88it/s]"
     ]
    },
    {
     "name": "stdout",
     "output_type": "stream",
     "text": [
      "zero points\n",
      "zero points\n"
     ]
    },
    {
     "name": "stderr",
     "output_type": "stream",
     "text": [
      "\r",
      " 40%|███████████████████████████████▌                                               | 411/1027 [00:19<00:52, 11.69it/s]"
     ]
    },
    {
     "name": "stdout",
     "output_type": "stream",
     "text": [
      "zero points\n",
      "zero points\n",
      "zero points\n"
     ]
    },
    {
     "name": "stderr",
     "output_type": "stream",
     "text": [
      "\r",
      " 41%|████████████████████████████████                                               | 417/1027 [00:19<00:39, 15.33it/s]"
     ]
    },
    {
     "name": "stdout",
     "output_type": "stream",
     "text": [
      "zero points\n",
      "zero points\n",
      "zero points\n",
      "zero points\n",
      "zero points\n",
      "zero points\n",
      "zero points\n",
      "zero points\n"
     ]
    },
    {
     "name": "stderr",
     "output_type": "stream",
     "text": [
      " 44%|██████████████████████████████████▉                                            | 454/1027 [00:22<00:52, 10.89it/s]"
     ]
    },
    {
     "name": "stdout",
     "output_type": "stream",
     "text": [
      "zero points\n"
     ]
    },
    {
     "name": "stderr",
     "output_type": "stream",
     "text": [
      "\r",
      " 45%|███████████████████████████████████▏                                           | 458/1027 [00:22<00:52, 10.91it/s]"
     ]
    },
    {
     "name": "stdout",
     "output_type": "stream",
     "text": [
      "zero points\n",
      "zero points\n"
     ]
    },
    {
     "name": "stderr",
     "output_type": "stream",
     "text": [
      "\r",
      " 46%|████████████████████████████████████                                           | 469/1027 [00:22<00:38, 14.40it/s]"
     ]
    },
    {
     "name": "stdout",
     "output_type": "stream",
     "text": [
      "zero points\n",
      "zero points\n",
      "zero points\n",
      "zero points\n",
      "zero points\n",
      "zero points\n",
      "zero points\n"
     ]
    },
    {
     "name": "stderr",
     "output_type": "stream",
     "text": [
      "\r",
      " 47%|█████████████████████████████████████                                          | 482/1027 [00:22<00:27, 19.51it/s]"
     ]
    },
    {
     "name": "stdout",
     "output_type": "stream",
     "text": [
      "zero points\n",
      "zero points\n",
      "zero points\n",
      "zero points\n",
      "zero points\n"
     ]
    },
    {
     "name": "stderr",
     "output_type": "stream",
     "text": [
      " 50%|███████████████████████████████████████▌                                       | 514/1027 [00:25<00:42, 11.95it/s]"
     ]
    },
    {
     "name": "stdout",
     "output_type": "stream",
     "text": [
      "zero points\n"
     ]
    },
    {
     "name": "stderr",
     "output_type": "stream",
     "text": [
      "\r",
      " 50%|███████████████████████████████████████▊                                       | 518/1027 [00:25<00:41, 12.30it/s]"
     ]
    },
    {
     "name": "stdout",
     "output_type": "stream",
     "text": [
      "zero points\n"
     ]
    },
    {
     "name": "stderr",
     "output_type": "stream",
     "text": [
      "\r",
      " 51%|████████████████████████████████████████▍                                      | 526/1027 [00:25<00:30, 16.24it/s]"
     ]
    },
    {
     "name": "stdout",
     "output_type": "stream",
     "text": [
      "zero points\n",
      "zero points\n",
      "zero points\n",
      "zero points\n",
      "zero points\n",
      "zero points\n"
     ]
    },
    {
     "name": "stderr",
     "output_type": "stream",
     "text": [
      "\r",
      " 52%|█████████████████████████████████████████▎                                     | 537/1027 [00:25<00:22, 21.71it/s]"
     ]
    },
    {
     "name": "stdout",
     "output_type": "stream",
     "text": [
      "zero points\n",
      "zero points\n",
      "zero points\n",
      "zero points\n"
     ]
    },
    {
     "name": "stderr",
     "output_type": "stream",
     "text": [
      "\r",
      " 54%|██████████████████████████████████████████▍                                    | 551/1027 [00:25<00:16, 28.97it/s]"
     ]
    },
    {
     "name": "stdout",
     "output_type": "stream",
     "text": [
      "zero points\n"
     ]
    },
    {
     "name": "stderr",
     "output_type": "stream",
     "text": [
      " 56%|███████████████████████████████████████████▉                                   | 571/1027 [00:27<00:36, 12.44it/s]"
     ]
    },
    {
     "name": "stdout",
     "output_type": "stream",
     "text": [
      "zero points\n"
     ]
    },
    {
     "name": "stderr",
     "output_type": "stream",
     "text": [
      "\r",
      " 56%|████████████████████████████████████████████▏                                  | 575/1027 [00:28<00:35, 12.57it/s]"
     ]
    },
    {
     "name": "stdout",
     "output_type": "stream",
     "text": [
      "zero points\n",
      "zero points\n",
      "zero points\n"
     ]
    },
    {
     "name": "stderr",
     "output_type": "stream",
     "text": [
      "\r",
      " 57%|████████████████████████████████████████████▉                                  | 584/1027 [00:28<00:27, 16.21it/s]"
     ]
    },
    {
     "name": "stdout",
     "output_type": "stream",
     "text": [
      "zero points\n",
      "zero points\n",
      "zero points\n",
      "zero points\n",
      "zero points\n"
     ]
    },
    {
     "name": "stderr",
     "output_type": "stream",
     "text": [
      "\r",
      " 58%|█████████████████████████████████████████████▊                                 | 596/1027 [00:28<00:19, 21.82it/s]"
     ]
    },
    {
     "name": "stdout",
     "output_type": "stream",
     "text": [
      "zero points\n",
      "zero points\n",
      "zero points\n",
      "zero points\n"
     ]
    },
    {
     "name": "stderr",
     "output_type": "stream",
     "text": [
      " 61%|████████████████████████████████████████████████▎                              | 628/1027 [00:30<00:30, 13.04it/s]"
     ]
    },
    {
     "name": "stdout",
     "output_type": "stream",
     "text": [
      "zero points\n"
     ]
    },
    {
     "name": "stderr",
     "output_type": "stream",
     "text": [
      "\r",
      " 62%|████████████████████████████████████████████████▌                              | 632/1027 [00:30<00:29, 13.26it/s]"
     ]
    },
    {
     "name": "stdout",
     "output_type": "stream",
     "text": [
      "zero points\n"
     ]
    },
    {
     "name": "stderr",
     "output_type": "stream",
     "text": [
      "\r",
      " 63%|█████████████████████████████████████████████████▍                             | 643/1027 [00:31<00:21, 17.57it/s]"
     ]
    },
    {
     "name": "stdout",
     "output_type": "stream",
     "text": [
      "zero points\n",
      "zero points\n",
      "zero points\n",
      "zero points\n",
      "zero points\n"
     ]
    },
    {
     "name": "stderr",
     "output_type": "stream",
     "text": [
      "\r",
      " 64%|██████████████████████████████████████████████████▎                            | 654/1027 [00:31<00:15, 23.45it/s]"
     ]
    },
    {
     "name": "stdout",
     "output_type": "stream",
     "text": [
      "zero points\n",
      "zero points\n",
      "zero points\n",
      "zero points\n",
      "zero points\n",
      "zero points\n",
      "zero points\n"
     ]
    },
    {
     "name": "stderr",
     "output_type": "stream",
     "text": [
      " 67%|█████████████████████████████████████████████████████                          | 689/1027 [00:33<00:29, 11.32it/s]"
     ]
    },
    {
     "name": "stdout",
     "output_type": "stream",
     "text": [
      "zero points\n",
      "zero points\n",
      "zero points\n"
     ]
    },
    {
     "name": "stderr",
     "output_type": "stream",
     "text": [
      "\r",
      " 68%|██████████████████████████████████████████████████████                         | 702/1027 [00:34<00:21, 15.15it/s]"
     ]
    },
    {
     "name": "stdout",
     "output_type": "stream",
     "text": [
      "zero points\n",
      "zero points\n",
      "zero points\n",
      "zero points\n",
      "zero points\n",
      "zero points\n",
      "zero points\n",
      "zero points\n",
      "zero points\n",
      "zero points\n",
      "zero points\n"
     ]
    },
    {
     "name": "stderr",
     "output_type": "stream",
     "text": [
      "\r",
      " 70%|███████████████████████████████████████████████████████▍                       | 720/1027 [00:34<00:14, 20.82it/s]"
     ]
    },
    {
     "name": "stdout",
     "output_type": "stream",
     "text": [
      "zero points\n"
     ]
    },
    {
     "name": "stderr",
     "output_type": "stream",
     "text": [
      " 72%|████████████████████████████████████████████████████████▋                      | 737/1027 [00:35<00:22, 12.81it/s]"
     ]
    },
    {
     "name": "stdout",
     "output_type": "stream",
     "text": [
      "zero points\n"
     ]
    },
    {
     "name": "stderr",
     "output_type": "stream",
     "text": [
      "\r",
      " 72%|█████████████████████████████████████████████████████████▏                     | 743/1027 [00:35<00:20, 14.17it/s]"
     ]
    },
    {
     "name": "stdout",
     "output_type": "stream",
     "text": [
      "zero points\n"
     ]
    },
    {
     "name": "stderr",
     "output_type": "stream",
     "text": [
      " 74%|██████████████████████████████████████████████████████████                     | 755/1027 [00:36<00:18, 15.00it/s]"
     ]
    },
    {
     "name": "stdout",
     "output_type": "stream",
     "text": [
      "zero points\n",
      "zero points\n",
      "zero points\n",
      "zero points\n",
      "zero points\n"
     ]
    },
    {
     "name": "stderr",
     "output_type": "stream",
     "text": [
      "\r",
      " 75%|███████████████████████████████████████████████████████████                    | 768/1027 [00:36<00:12, 20.41it/s]"
     ]
    },
    {
     "name": "stdout",
     "output_type": "stream",
     "text": [
      "zero points\n",
      "zero points\n",
      "zero points\n"
     ]
    },
    {
     "name": "stderr",
     "output_type": "stream",
     "text": [
      " 77%|█████████████████████████████████████████████████████████████                  | 793/1027 [00:38<00:19, 12.15it/s]"
     ]
    },
    {
     "name": "stdout",
     "output_type": "stream",
     "text": [
      "zero points\n"
     ]
    },
    {
     "name": "stderr",
     "output_type": "stream",
     "text": [
      "\r",
      " 78%|█████████████████████████████████████████████████████████████▎                 | 797/1027 [00:38<00:17, 13.47it/s]"
     ]
    },
    {
     "name": "stdout",
     "output_type": "stream",
     "text": [
      "zero points\n"
     ]
    },
    {
     "name": "stderr",
     "output_type": "stream",
     "text": [
      "\r",
      " 78%|█████████████████████████████████████████████████████████████▌                 | 801/1027 [00:39<00:19, 11.35it/s]"
     ]
    },
    {
     "name": "stdout",
     "output_type": "stream",
     "text": [
      "zero points\n",
      "zero points\n",
      "zero points\n"
     ]
    },
    {
     "name": "stderr",
     "output_type": "stream",
     "text": [
      "\r",
      " 79%|██████████████████████████████████████████████████████████████▎                | 810/1027 [00:39<00:14, 14.76it/s]"
     ]
    },
    {
     "name": "stdout",
     "output_type": "stream",
     "text": [
      "zero points\n",
      "zero points\n",
      "zero points\n"
     ]
    },
    {
     "name": "stderr",
     "output_type": "stream",
     "text": [
      "\r",
      " 80%|███████████████████████████████████████████████████████████████▏               | 822/1027 [00:39<00:10, 20.01it/s]"
     ]
    },
    {
     "name": "stdout",
     "output_type": "stream",
     "text": [
      "zero points\n",
      "zero points\n",
      "zero points\n",
      "zero points\n",
      "zero points\n"
     ]
    },
    {
     "name": "stderr",
     "output_type": "stream",
     "text": [
      " 82%|█████████████████████████████████████████████████████████████████              | 846/1027 [00:41<00:16, 11.17it/s]"
     ]
    },
    {
     "name": "stdout",
     "output_type": "stream",
     "text": [
      "zero points\n"
     ]
    },
    {
     "name": "stderr",
     "output_type": "stream",
     "text": [
      " 83%|█████████████████████████████████████████████████████████████████▋             | 854/1027 [00:42<00:17, 10.11it/s]"
     ]
    },
    {
     "name": "stdout",
     "output_type": "stream",
     "text": [
      "zero points\n",
      "zero points\n",
      "zero points\n"
     ]
    },
    {
     "name": "stderr",
     "output_type": "stream",
     "text": [
      "\r",
      " 84%|██████████████████████████████████████████████████████████████████▎            | 862/1027 [00:42<00:12, 13.11it/s]"
     ]
    },
    {
     "name": "stdout",
     "output_type": "stream",
     "text": [
      "zero points\n",
      "zero points\n",
      "zero points\n",
      "zero points\n",
      "zero points\n",
      "zero points\n",
      "zero points\n"
     ]
    },
    {
     "name": "stderr",
     "output_type": "stream",
     "text": [
      "\r",
      " 85%|███████████████████████████████████████████████████████████████████▍           | 876/1027 [00:42<00:08, 17.95it/s]"
     ]
    },
    {
     "name": "stdout",
     "output_type": "stream",
     "text": [
      "zero points\n",
      "zero points\n"
     ]
    },
    {
     "name": "stderr",
     "output_type": "stream",
     "text": [
      " 88%|█████████████████████████████████████████████████████████████████████▌         | 904/1027 [00:44<00:11, 10.76it/s]"
     ]
    },
    {
     "name": "stdout",
     "output_type": "stream",
     "text": [
      "zero points\n",
      "zero points\n"
     ]
    },
    {
     "name": "stderr",
     "output_type": "stream",
     "text": [
      "\r",
      " 91%|███████████████████████████████████████████████████████████████████████▌       | 930/1027 [00:44<00:06, 15.10it/s]"
     ]
    },
    {
     "name": "stdout",
     "output_type": "stream",
     "text": [
      "zero points\n",
      "zero points\n"
     ]
    },
    {
     "name": "stderr",
     "output_type": "stream",
     "text": [
      "\r",
      " 92%|████████████████████████████████████████████████████████████████████████▎      | 940/1027 [00:45<00:04, 18.94it/s]"
     ]
    },
    {
     "name": "stdout",
     "output_type": "stream",
     "text": [
      "zero points\n",
      "zero points\n",
      "zero points\n",
      "zero points\n"
     ]
    },
    {
     "name": "stderr",
     "output_type": "stream",
     "text": [
      "\r",
      " 93%|█████████████████████████████████████████████████████████████████████████▏     | 951/1027 [00:45<00:03, 25.19it/s]"
     ]
    },
    {
     "name": "stdout",
     "output_type": "stream",
     "text": [
      "zero points\n",
      "zero points\n"
     ]
    },
    {
     "name": "stderr",
     "output_type": "stream",
     "text": [
      " 95%|███████████████████████████████████████████████████████████████████████████    | 975/1027 [00:47<00:03, 14.53it/s]"
     ]
    },
    {
     "name": "stdout",
     "output_type": "stream",
     "text": [
      "zero points\n",
      "zero points\n"
     ]
    },
    {
     "name": "stderr",
     "output_type": "stream",
     "text": [
      "\r",
      " 95%|███████████████████████████████████████████████████████████████████████████▍   | 980/1027 [00:47<00:03, 14.70it/s]"
     ]
    },
    {
     "name": "stdout",
     "output_type": "stream",
     "text": [
      "zero points\n",
      "zero points\n",
      "zero points\n",
      "zero points\n",
      "zero points\n",
      "zero points\n",
      "zero points\n",
      "zero points\n",
      "zero points\n",
      "zero points\n",
      "zero points\n",
      "zero points\n",
      "zero points\n",
      "zero points\n",
      "zero points\n",
      "zero points\n",
      "zero points\n",
      "zero points\n",
      "zero points\n",
      "zero points\n",
      "zero points\n",
      "zero points\n",
      "zero points\n",
      "zero points\n"
     ]
    },
    {
     "name": "stderr",
     "output_type": "stream",
     "text": [
      "\r",
      " 98%|████████████████████████████████████████████████████████████████████████████▋ | 1010/1027 [00:47<00:00, 20.52it/s]"
     ]
    },
    {
     "name": "stdout",
     "output_type": "stream",
     "text": [
      "zero points\n"
     ]
    },
    {
     "name": "stderr",
     "output_type": "stream",
     "text": [
      "\r",
      " 99%|█████████████████████████████████████████████████████████████████████████████▌| 1021/1027 [00:47<00:00, 23.67it/s]"
     ]
    },
    {
     "name": "stdout",
     "output_type": "stream",
     "text": [
      "zero points\n",
      "zero points\n",
      "zero points\n",
      "zero points\n"
     ]
    },
    {
     "name": "stderr",
     "output_type": "stream",
     "text": [
      "100%|██████████████████████████████████████████████████████████████████████████████| 1027/1027 [00:47<00:00, 21.44it/s]\n",
      " 94%|█████████████████████████████████████████████████████████████████████████▌    | 968/1027 [00:02<00:00, 350.07it/s]"
     ]
    },
    {
     "name": "stdout",
     "output_type": "stream",
     "text": [
      "2020-06-12 13:05:55.483820-Saving C:/Users/SING1761/OneDrive Corp/OneDrive - Atkins Ltd/my_work/SBRI_3D/input_preprocessed_data/hdf5_files\\half_524900_0.h5...\n"
     ]
    },
    {
     "name": "stderr",
     "output_type": "stream",
     "text": [
      "100%|█████████████████████████████████████████████████████████████████████████████| 1027/1027 [00:07<00:00, 137.95it/s]\n"
     ]
    },
    {
     "name": "stdout",
     "output_type": "stream",
     "text": [
      "2020-06-12 13:06:02.678359-Computing block id of 9467982 points...\n",
      "2020-06-12 13:06:04.045599-Collecting points belong to each block...\n",
      "2020-06-12 13:06:17.187864-C:/Users/SING1761/OneDrive Corp/OneDrive - Atkins Ltd/my_work/SBRI_3D/input_preprocessed_data/numpys/XYZRGB_526300.npy is split into 1000 blocks.\n"
     ]
    },
    {
     "name": "stderr",
     "output_type": "stream",
     "text": [
      "100%|███████████████████████████████████████████████████████████████████████████| 1000/1000 [00:00<00:00, 52775.14it/s]\n"
     ]
    },
    {
     "name": "stdout",
     "output_type": "stream",
     "text": [
      "2020-06-12 13:06:17.214793-192 of 1000 blocks are merged.\n"
     ]
    },
    {
     "name": "stderr",
     "output_type": "stream",
     "text": [
      "\r",
      "  0%|                                                                                         | 0/1000 [00:00<?, ?it/s]"
     ]
    },
    {
     "name": "stdout",
     "output_type": "stream",
     "text": [
      "zero points\n"
     ]
    },
    {
     "name": "stderr",
     "output_type": "stream",
     "text": [
      "\r",
      "  1%|▊                                                                               | 10/1000 [00:00<00:22, 44.56it/s]"
     ]
    },
    {
     "name": "stdout",
     "output_type": "stream",
     "text": [
      "zero points\n",
      "zero points\n",
      "zero points\n",
      "zero points\n",
      "zero points\n",
      "zero points\n"
     ]
    },
    {
     "name": "stderr",
     "output_type": "stream",
     "text": [
      "\r",
      "  2%|██                                                                              | 25/1000 [00:00<00:17, 56.05it/s]"
     ]
    },
    {
     "name": "stdout",
     "output_type": "stream",
     "text": [
      "zero points\n"
     ]
    },
    {
     "name": "stderr",
     "output_type": "stream",
     "text": [
      "  5%|████                                                                            | 50/1000 [00:02<01:22, 11.52it/s]"
     ]
    },
    {
     "name": "stdout",
     "output_type": "stream",
     "text": [
      "zero points\n",
      "zero points\n",
      "zero points\n"
     ]
    },
    {
     "name": "stderr",
     "output_type": "stream",
     "text": [
      "\r",
      "  6%|████▉                                                                           | 62/1000 [00:02<01:02, 15.10it/s]"
     ]
    },
    {
     "name": "stdout",
     "output_type": "stream",
     "text": [
      "zero points\n",
      "zero points\n",
      "zero points\n",
      "zero points\n",
      "zero points\n",
      "zero points\n",
      "zero points\n",
      "zero points\n"
     ]
    },
    {
     "name": "stderr",
     "output_type": "stream",
     "text": [
      "\r",
      "  8%|██████                                                                          | 76/1000 [00:02<00:44, 20.59it/s]"
     ]
    },
    {
     "name": "stdout",
     "output_type": "stream",
     "text": [
      "zero points\n"
     ]
    },
    {
     "name": "stderr",
     "output_type": "stream",
     "text": [
      " 10%|████████                                                                       | 102/1000 [00:04<01:17, 11.53it/s]"
     ]
    },
    {
     "name": "stdout",
     "output_type": "stream",
     "text": [
      "zero points\n",
      "zero points\n",
      "zero points\n"
     ]
    },
    {
     "name": "stderr",
     "output_type": "stream",
     "text": [
      "\r",
      " 12%|█████████▏                                                                     | 116/1000 [00:05<00:55, 15.82it/s]"
     ]
    },
    {
     "name": "stdout",
     "output_type": "stream",
     "text": [
      "zero points\n"
     ]
    },
    {
     "name": "stderr",
     "output_type": "stream",
     "text": [
      "\r",
      " 12%|█████████▋                                                                     | 122/1000 [00:05<00:45, 19.27it/s]"
     ]
    },
    {
     "name": "stdout",
     "output_type": "stream",
     "text": [
      "zero points\n",
      "zero points\n",
      "zero points\n",
      "zero points\n",
      "zero points\n"
     ]
    },
    {
     "name": "stderr",
     "output_type": "stream",
     "text": [
      " 16%|████████████▋                                                                  | 160/1000 [00:07<00:56, 14.94it/s]"
     ]
    },
    {
     "name": "stdout",
     "output_type": "stream",
     "text": [
      "zero points\n"
     ]
    },
    {
     "name": "stderr",
     "output_type": "stream",
     "text": [
      "\r",
      " 17%|█████████████▎                                                                 | 168/1000 [00:07<00:45, 18.34it/s]"
     ]
    },
    {
     "name": "stdout",
     "output_type": "stream",
     "text": [
      "zero points\n",
      "zero points\n",
      "zero points\n",
      "zero points\n",
      "zero points\n",
      "zero points\n",
      "zero points\n"
     ]
    },
    {
     "name": "stderr",
     "output_type": "stream",
     "text": [
      "\r",
      " 18%|██████████████▍                                                                | 183/1000 [00:07<00:32, 24.85it/s]"
     ]
    },
    {
     "name": "stdout",
     "output_type": "stream",
     "text": [
      "zero points\n"
     ]
    },
    {
     "name": "stderr",
     "output_type": "stream",
     "text": [
      " 21%|████████████████▎                                                              | 207/1000 [00:09<01:08, 11.53it/s]"
     ]
    },
    {
     "name": "stdout",
     "output_type": "stream",
     "text": [
      "zero points\n",
      "zero points\n",
      "zero points\n",
      "zero points\n"
     ]
    },
    {
     "name": "stderr",
     "output_type": "stream",
     "text": [
      "\r",
      " 22%|█████████████████▍                                                             | 220/1000 [00:09<00:49, 15.82it/s]"
     ]
    },
    {
     "name": "stdout",
     "output_type": "stream",
     "text": [
      "zero points\n"
     ]
    },
    {
     "name": "stderr",
     "output_type": "stream",
     "text": [
      "\r",
      " 23%|█████████████████▊                                                             | 226/1000 [00:10<00:42, 18.09it/s]"
     ]
    },
    {
     "name": "stdout",
     "output_type": "stream",
     "text": [
      "zero points\n",
      "zero points\n",
      "zero points\n",
      "zero points\n",
      "zero points\n",
      "zero points\n"
     ]
    },
    {
     "name": "stderr",
     "output_type": "stream",
     "text": [
      " 26%|████████████████████▍                                                          | 259/1000 [00:12<01:06, 11.10it/s]"
     ]
    },
    {
     "name": "stdout",
     "output_type": "stream",
     "text": [
      "zero points\n"
     ]
    },
    {
     "name": "stderr",
     "output_type": "stream",
     "text": [
      "\r",
      " 29%|██████████████████████▊                                                        | 289/1000 [00:12<00:46, 15.31it/s]"
     ]
    },
    {
     "name": "stdout",
     "output_type": "stream",
     "text": [
      "zero points\n"
     ]
    },
    {
     "name": "stderr",
     "output_type": "stream",
     "text": [
      "\r",
      " 30%|███████████████████████▍                                                       | 297/1000 [00:12<00:34, 20.19it/s]"
     ]
    },
    {
     "name": "stdout",
     "output_type": "stream",
     "text": [
      "zero points\n",
      "zero points\n"
     ]
    },
    {
     "name": "stderr",
     "output_type": "stream",
     "text": [
      " 32%|█████████████████████████▍                                                     | 322/1000 [00:14<00:59, 11.47it/s]"
     ]
    },
    {
     "name": "stdout",
     "output_type": "stream",
     "text": [
      "zero points\n"
     ]
    },
    {
     "name": "stderr",
     "output_type": "stream",
     "text": [
      "\r",
      " 33%|█████████████████████████▊                                                     | 327/1000 [00:15<00:56, 11.90it/s]"
     ]
    },
    {
     "name": "stdout",
     "output_type": "stream",
     "text": [
      "zero points\n",
      "zero points\n",
      "zero points\n"
     ]
    },
    {
     "name": "stderr",
     "output_type": "stream",
     "text": [
      "\r",
      " 37%|█████████████████████████████▏                                                 | 370/1000 [00:15<00:37, 16.80it/s]"
     ]
    },
    {
     "name": "stdout",
     "output_type": "stream",
     "text": [
      "zero points\n",
      "zero points\n",
      "zero points\n",
      "zero points\n",
      "zero points\n"
     ]
    },
    {
     "name": "stderr",
     "output_type": "stream",
     "text": [
      "\r",
      " 38%|██████████████████████████████▍                                                | 385/1000 [00:15<00:29, 21.16it/s]"
     ]
    },
    {
     "name": "stdout",
     "output_type": "stream",
     "text": [
      "zero points\n"
     ]
    },
    {
     "name": "stderr",
     "output_type": "stream",
     "text": [
      " 41%|████████████████████████████████▏                                              | 408/1000 [00:17<00:46, 12.72it/s]"
     ]
    },
    {
     "name": "stdout",
     "output_type": "stream",
     "text": [
      "zero points\n",
      "zero points\n",
      "zero points\n",
      "zero points\n"
     ]
    },
    {
     "name": "stderr",
     "output_type": "stream",
     "text": [
      "\r",
      " 42%|████████████████████████████████▊                                              | 415/1000 [00:18<00:44, 13.17it/s]"
     ]
    },
    {
     "name": "stdout",
     "output_type": "stream",
     "text": [
      "zero points\n",
      "zero points\n"
     ]
    },
    {
     "name": "stderr",
     "output_type": "stream",
     "text": [
      "\r",
      " 43%|█████████████████████████████████▋                                             | 426/1000 [00:18<00:32, 17.86it/s]"
     ]
    },
    {
     "name": "stdout",
     "output_type": "stream",
     "text": [
      "zero points\n",
      "zero points\n",
      "zero points\n",
      "zero points\n",
      "zero points\n",
      "zero points\n",
      "zero points\n"
     ]
    },
    {
     "name": "stderr",
     "output_type": "stream",
     "text": [
      "\r",
      " 46%|████████████████████████████████████▋                                          | 464/1000 [00:18<00:22, 24.26it/s]"
     ]
    },
    {
     "name": "stdout",
     "output_type": "stream",
     "text": [
      "zero points\n",
      "zero points\n",
      "zero points\n",
      "zero points\n",
      "zero points\n",
      "zero points\n"
     ]
    },
    {
     "name": "stderr",
     "output_type": "stream",
     "text": [
      " 50%|███████████████████████████████████████▌                                       | 501/1000 [00:20<00:41, 12.15it/s]"
     ]
    },
    {
     "name": "stdout",
     "output_type": "stream",
     "text": [
      "zero points\n"
     ]
    },
    {
     "name": "stderr",
     "output_type": "stream",
     "text": [
      "\r",
      " 50%|███████████████████████████████████████▉                                       | 505/1000 [00:21<00:37, 13.31it/s]"
     ]
    },
    {
     "name": "stdout",
     "output_type": "stream",
     "text": [
      "zero points\n",
      "zero points\n",
      "zero points\n",
      "zero points\n",
      "zero points\n",
      "zero points\n",
      "zero points\n",
      "zero points\n",
      "zero points\n",
      "zero points\n",
      "zero points\n",
      "zero points\n",
      "zero points\n"
     ]
    },
    {
     "name": "stderr",
     "output_type": "stream",
     "text": [
      "\r",
      " 53%|█████████████████████████████████████████▊                                     | 529/1000 [00:21<00:26, 17.72it/s]"
     ]
    },
    {
     "name": "stdout",
     "output_type": "stream",
     "text": [
      "zero points\n"
     ]
    },
    {
     "name": "stderr",
     "output_type": "stream",
     "text": [
      "\r",
      " 53%|██████████████████████████████████████████▏                                    | 534/1000 [00:21<00:21, 21.24it/s]"
     ]
    },
    {
     "name": "stdout",
     "output_type": "stream",
     "text": [
      "zero points\n",
      "zero points\n",
      "zero points\n",
      "zero points\n"
     ]
    },
    {
     "name": "stderr",
     "output_type": "stream",
     "text": [
      " 57%|████████████████████████████████████████████▊                                  | 567/1000 [00:23<00:41, 10.46it/s]"
     ]
    },
    {
     "name": "stdout",
     "output_type": "stream",
     "text": [
      "zero points\n"
     ]
    },
    {
     "name": "stderr",
     "output_type": "stream",
     "text": [
      "\r",
      " 57%|█████████████████████████████████████████████                                  | 570/1000 [00:24<00:35, 12.00it/s]"
     ]
    },
    {
     "name": "stdout",
     "output_type": "stream",
     "text": [
      "zero points\n",
      "zero points\n",
      "zero points\n"
     ]
    },
    {
     "name": "stderr",
     "output_type": "stream",
     "text": [
      "\r",
      " 59%|██████████████████████████████████████████████▎                                | 586/1000 [00:24<00:26, 15.72it/s]"
     ]
    },
    {
     "name": "stdout",
     "output_type": "stream",
     "text": [
      "zero points\n",
      "zero points\n",
      "zero points\n",
      "zero points\n",
      "zero points\n"
     ]
    },
    {
     "name": "stderr",
     "output_type": "stream",
     "text": [
      " 62%|█████████████████████████████████████████████████▏                             | 623/1000 [00:27<00:46,  8.02it/s]"
     ]
    },
    {
     "name": "stdout",
     "output_type": "stream",
     "text": [
      "zero points\n",
      "zero points\n",
      "zero points\n",
      "zero points\n",
      "zero points\n",
      "zero points\n",
      "zero points\n"
     ]
    },
    {
     "name": "stderr",
     "output_type": "stream",
     "text": [
      "\r",
      " 64%|██████████████████████████████████████████████████▉                            | 644/1000 [00:27<00:32, 10.89it/s]"
     ]
    },
    {
     "name": "stdout",
     "output_type": "stream",
     "text": [
      "zero points\n",
      "zero points\n",
      "zero points\n",
      "zero points\n",
      "zero points\n",
      "zero points\n"
     ]
    },
    {
     "name": "stderr",
     "output_type": "stream",
     "text": [
      " 68%|██████████████████████████████████████████████████████                         | 685/1000 [00:30<00:35,  8.92it/s]"
     ]
    },
    {
     "name": "stdout",
     "output_type": "stream",
     "text": [
      "zero points\n",
      "zero points\n",
      "zero points\n",
      "zero points\n"
     ]
    },
    {
     "name": "stderr",
     "output_type": "stream",
     "text": [
      "\r",
      " 70%|██████████████████████████████████████████████████████▉                        | 696/1000 [00:30<00:26, 11.37it/s]"
     ]
    },
    {
     "name": "stdout",
     "output_type": "stream",
     "text": [
      "zero points\n",
      "zero points\n",
      "zero points\n",
      "zero points\n",
      "zero points\n"
     ]
    },
    {
     "name": "stderr",
     "output_type": "stream",
     "text": [
      " 74%|██████████████████████████████████████████████████████████                     | 735/1000 [00:33<00:31,  8.46it/s]"
     ]
    },
    {
     "name": "stdout",
     "output_type": "stream",
     "text": [
      "zero points\n",
      "zero points\n",
      "zero points\n"
     ]
    },
    {
     "name": "stderr",
     "output_type": "stream",
     "text": [
      "\r",
      " 75%|███████████████████████████████████████████████████████████▎                   | 750/1000 [00:33<00:22, 11.21it/s]"
     ]
    },
    {
     "name": "stdout",
     "output_type": "stream",
     "text": [
      "zero points\n",
      "zero points\n",
      "zero points\n",
      "zero points\n",
      "zero points\n",
      "zero points\n",
      "zero points\n",
      "zero points\n"
     ]
    },
    {
     "name": "stderr",
     "output_type": "stream",
     "text": [
      " 79%|██████████████████████████████████████████████████████████████▏                | 787/1000 [00:36<00:21,  9.95it/s]"
     ]
    },
    {
     "name": "stdout",
     "output_type": "stream",
     "text": [
      "zero points\n"
     ]
    },
    {
     "name": "stderr",
     "output_type": "stream",
     "text": [
      "\r",
      " 79%|██████████████████████████████████████████████████████████████▍                | 790/1000 [00:36<00:26,  7.97it/s]"
     ]
    },
    {
     "name": "stdout",
     "output_type": "stream",
     "text": [
      "zero points\n",
      "zero points\n",
      "zero points\n",
      "zero points\n",
      "zero points\n",
      "zero points\n",
      "zero points\n",
      "zero points\n",
      "zero points\n",
      "zero points\n"
     ]
    },
    {
     "name": "stderr",
     "output_type": "stream",
     "text": [
      "\r",
      " 81%|███████████████████████████████████████████████████████████████▋               | 806/1000 [00:36<00:18, 10.60it/s]"
     ]
    },
    {
     "name": "stdout",
     "output_type": "stream",
     "text": [
      "zero points\n",
      "zero points\n",
      "zero points\n",
      "zero points\n",
      "zero points\n",
      "zero points\n",
      "zero points\n"
     ]
    },
    {
     "name": "stderr",
     "output_type": "stream",
     "text": [
      "\r",
      " 82%|████████████████████████████████████████████████████████████████▊              | 821/1000 [00:37<00:12, 14.67it/s]"
     ]
    },
    {
     "name": "stdout",
     "output_type": "stream",
     "text": [
      "zero points\n"
     ]
    },
    {
     "name": "stderr",
     "output_type": "stream",
     "text": [
      " 85%|██████████████████████████████████████████████████████████████████▊            | 846/1000 [00:39<00:18,  8.34it/s]"
     ]
    },
    {
     "name": "stdout",
     "output_type": "stream",
     "text": [
      "zero points\n",
      "zero points\n",
      "zero points\n",
      "zero points\n"
     ]
    },
    {
     "name": "stderr",
     "output_type": "stream",
     "text": [
      " 87%|████████████████████████████████████████████████████████████████████▍          | 867/1000 [00:40<00:09, 14.68it/s]"
     ]
    },
    {
     "name": "stdout",
     "output_type": "stream",
     "text": [
      "zero points\n",
      "zero points\n",
      "zero points\n",
      "zero points\n",
      "zero points\n"
     ]
    },
    {
     "name": "stderr",
     "output_type": "stream",
     "text": [
      " 90%|██████████████████████████████████████████████████████████████████████▊        | 897/1000 [00:41<00:08, 12.61it/s]"
     ]
    },
    {
     "name": "stdout",
     "output_type": "stream",
     "text": [
      "zero points\n"
     ]
    },
    {
     "name": "stderr",
     "output_type": "stream",
     "text": [
      "\r",
      " 90%|███████████████████████████████████████████████████████████████████████▏       | 901/1000 [00:42<00:11,  8.71it/s]"
     ]
    },
    {
     "name": "stdout",
     "output_type": "stream",
     "text": [
      "zero points\n",
      "zero points\n",
      "zero points\n"
     ]
    },
    {
     "name": "stderr",
     "output_type": "stream",
     "text": [
      "\r",
      " 91%|███████████████████████████████████████████████████████████████████████▉       | 910/1000 [00:42<00:07, 11.49it/s]"
     ]
    },
    {
     "name": "stdout",
     "output_type": "stream",
     "text": [
      "zero points\n"
     ]
    },
    {
     "name": "stderr",
     "output_type": "stream",
     "text": [
      "\r",
      " 91%|████████████████████████████████████████████████████████████████████████▏      | 914/1000 [00:43<00:05, 14.58it/s]"
     ]
    },
    {
     "name": "stdout",
     "output_type": "stream",
     "text": [
      "zero points\n",
      "zero points\n",
      "zero points\n",
      "zero points\n",
      "zero points\n",
      "zero points\n"
     ]
    },
    {
     "name": "stderr",
     "output_type": "stream",
     "text": [
      "\r",
      " 93%|█████████████████████████████████████████████████████████████████████████▏     | 926/1000 [00:43<00:03, 19.77it/s]"
     ]
    },
    {
     "name": "stdout",
     "output_type": "stream",
     "text": [
      "zero points\n"
     ]
    },
    {
     "name": "stderr",
     "output_type": "stream",
     "text": [
      " 95%|██████████████████████████████████████████████████████████████████████████▊    | 947/1000 [00:45<00:04, 12.26it/s]"
     ]
    },
    {
     "name": "stdout",
     "output_type": "stream",
     "text": [
      "zero points\n"
     ]
    },
    {
     "name": "stderr",
     "output_type": "stream",
     "text": [
      "\r",
      " 95%|███████████████████████████████████████████████████████████████████████████▏   | 951/1000 [00:45<00:05,  8.54it/s]"
     ]
    },
    {
     "name": "stdout",
     "output_type": "stream",
     "text": [
      "zero points\n",
      "zero points\n"
     ]
    },
    {
     "name": "stderr",
     "output_type": "stream",
     "text": [
      "\r",
      " 96%|███████████████████████████████████████████████████████████████████████████▋   | 958/1000 [00:46<00:03, 11.40it/s]"
     ]
    },
    {
     "name": "stdout",
     "output_type": "stream",
     "text": [
      "zero points\n",
      "zero points\n"
     ]
    },
    {
     "name": "stderr",
     "output_type": "stream",
     "text": [
      "\r",
      " 97%|████████████████████████████████████████████████████████████████████████████▊  | 972/1000 [00:46<00:01, 15.69it/s]"
     ]
    },
    {
     "name": "stdout",
     "output_type": "stream",
     "text": [
      "zero points\n",
      "zero points\n",
      "zero points\n"
     ]
    },
    {
     "name": "stderr",
     "output_type": "stream",
     "text": [
      "100%|██████████████████████████████████████████████████████████████████████████████▊| 997/1000 [00:47<00:00, 14.99it/s]"
     ]
    },
    {
     "name": "stdout",
     "output_type": "stream",
     "text": [
      "zero points\n"
     ]
    },
    {
     "name": "stderr",
     "output_type": "stream",
     "text": [
      "100%|██████████████████████████████████████████████████████████████████████████████| 1000/1000 [00:48<00:00, 20.83it/s]\n",
      "100%|█████████████████████████████████████████████████████████████████████████████▊| 998/1000 [00:02<00:00, 266.72it/s]"
     ]
    },
    {
     "name": "stdout",
     "output_type": "stream",
     "text": [
      "2020-06-12 13:07:08.147042-Saving C:/Users/SING1761/OneDrive Corp/OneDrive - Atkins Ltd/my_work/SBRI_3D/input_preprocessed_data/hdf5_files\\zero_524900_0.h5...\n"
     ]
    },
    {
     "name": "stderr",
     "output_type": "stream",
     "text": [
      "100%|█████████████████████████████████████████████████████████████████████████████| 1000/1000 [00:06<00:00, 147.90it/s]\n"
     ]
    },
    {
     "name": "stdout",
     "output_type": "stream",
     "text": [
      "2020-06-12 13:07:11.998287-Computing block id of 9467982 points...\n",
      "2020-06-12 13:07:13.354713-Collecting points belong to each block...\n",
      "2020-06-12 13:07:26.519576-C:/Users/SING1761/OneDrive Corp/OneDrive - Atkins Ltd/my_work/SBRI_3D/input_preprocessed_data/numpys/XYZRGB_526300.npy is split into 1071 blocks.\n"
     ]
    },
    {
     "name": "stderr",
     "output_type": "stream",
     "text": [
      "100%|███████████████████████████████████████████████████████████████████████████| 1071/1071 [00:00<00:00, 63152.49it/s]\n"
     ]
    },
    {
     "name": "stdout",
     "output_type": "stream",
     "text": [
      "2020-06-12 13:07:26.545475-244 of 1071 blocks are merged.\n"
     ]
    },
    {
     "name": "stderr",
     "output_type": "stream",
     "text": [
      "\r",
      "  0%|                                                                                         | 0/1071 [00:00<?, ?it/s]"
     ]
    },
    {
     "name": "stdout",
     "output_type": "stream",
     "text": [
      "zero points\n",
      "zero points\n"
     ]
    },
    {
     "name": "stderr",
     "output_type": "stream",
     "text": [
      "\r",
      "  1%|▋                                                                               | 10/1071 [00:00<00:12, 86.44it/s]"
     ]
    },
    {
     "name": "stdout",
     "output_type": "stream",
     "text": [
      "zero points\n",
      "zero points\n",
      "zero points\n",
      "zero points\n",
      "zero points\n",
      "zero points\n",
      "zero points\n",
      "zero points\n",
      "zero points\n",
      "zero points\n"
     ]
    },
    {
     "name": "stderr",
     "output_type": "stream",
     "text": [
      "  4%|███▎                                                                            | 45/1071 [00:01<00:39, 26.06it/s]"
     ]
    },
    {
     "name": "stdout",
     "output_type": "stream",
     "text": [
      "zero points\n",
      "zero points\n"
     ]
    },
    {
     "name": "stderr",
     "output_type": "stream",
     "text": [
      "\r",
      "  5%|███▋                                                                            | 50/1071 [00:01<00:39, 25.58it/s]"
     ]
    },
    {
     "name": "stdout",
     "output_type": "stream",
     "text": [
      "zero points\n",
      "zero points\n",
      "zero points\n",
      "zero points\n"
     ]
    },
    {
     "name": "stderr",
     "output_type": "stream",
     "text": [
      "\r",
      "  6%|████▌                                                                           | 61/1071 [00:01<00:32, 31.23it/s]"
     ]
    },
    {
     "name": "stdout",
     "output_type": "stream",
     "text": [
      "zero points\n",
      "zero points\n"
     ]
    },
    {
     "name": "stderr",
     "output_type": "stream",
     "text": [
      "\r",
      "  6%|█████                                                                           | 68/1071 [00:01<00:27, 36.65it/s]"
     ]
    },
    {
     "name": "stdout",
     "output_type": "stream",
     "text": [
      "zero points\n",
      "zero points\n",
      "zero points\n",
      "zero points\n",
      "zero points\n"
     ]
    },
    {
     "name": "stderr",
     "output_type": "stream",
     "text": [
      "  9%|███████                                                                         | 95/1071 [00:03<01:17, 12.59it/s]"
     ]
    },
    {
     "name": "stdout",
     "output_type": "stream",
     "text": [
      "zero points\n"
     ]
    },
    {
     "name": "stderr",
     "output_type": "stream",
     "text": [
      "\r",
      "  9%|███████▍                                                                        | 99/1071 [00:03<01:02, 15.54it/s]"
     ]
    },
    {
     "name": "stdout",
     "output_type": "stream",
     "text": [
      "zero points\n"
     ]
    },
    {
     "name": "stderr",
     "output_type": "stream",
     "text": [
      "\r",
      " 10%|███████▌                                                                       | 103/1071 [00:03<01:06, 14.47it/s]"
     ]
    },
    {
     "name": "stdout",
     "output_type": "stream",
     "text": [
      "zero points\n",
      "zero points\n",
      "zero points\n"
     ]
    },
    {
     "name": "stderr",
     "output_type": "stream",
     "text": [
      "\r",
      " 11%|████████▍                                                                      | 114/1071 [00:03<00:51, 18.54it/s]"
     ]
    },
    {
     "name": "stdout",
     "output_type": "stream",
     "text": [
      "zero points\n",
      "zero points\n",
      "zero points\n",
      "zero points\n"
     ]
    },
    {
     "name": "stderr",
     "output_type": "stream",
     "text": [
      "\r",
      " 12%|█████████▎                                                                     | 126/1071 [00:04<00:38, 24.74it/s]"
     ]
    },
    {
     "name": "stdout",
     "output_type": "stream",
     "text": [
      "zero points\n",
      "zero points\n"
     ]
    },
    {
     "name": "stderr",
     "output_type": "stream",
     "text": [
      " 14%|███████████▏                                                                   | 151/1071 [00:05<01:05, 14.14it/s]"
     ]
    },
    {
     "name": "stdout",
     "output_type": "stream",
     "text": [
      "zero points\n",
      "zero points\n"
     ]
    },
    {
     "name": "stderr",
     "output_type": "stream",
     "text": [
      "\r",
      " 14%|███████████▍                                                                   | 155/1071 [00:06<01:09, 13.09it/s]"
     ]
    },
    {
     "name": "stdout",
     "output_type": "stream",
     "text": [
      "zero points\n"
     ]
    },
    {
     "name": "stderr",
     "output_type": "stream",
     "text": [
      "\r",
      " 15%|████████████▏                                                                  | 166/1071 [00:06<00:52, 17.13it/s]"
     ]
    },
    {
     "name": "stdout",
     "output_type": "stream",
     "text": [
      "zero points\n"
     ]
    },
    {
     "name": "stderr",
     "output_type": "stream",
     "text": [
      "\r",
      " 16%|████████████▋                                                                  | 172/1071 [00:06<00:41, 21.50it/s]"
     ]
    },
    {
     "name": "stdout",
     "output_type": "stream",
     "text": [
      "zero points\n",
      "zero points\n",
      "zero points\n",
      "zero points\n",
      "zero points\n"
     ]
    },
    {
     "name": "stderr",
     "output_type": "stream",
     "text": [
      " 19%|███████████████▎                                                               | 208/1071 [00:08<01:06, 12.99it/s]"
     ]
    },
    {
     "name": "stdout",
     "output_type": "stream",
     "text": [
      "zero points\n",
      "zero points\n",
      "zero points\n"
     ]
    },
    {
     "name": "stderr",
     "output_type": "stream",
     "text": [
      "\r",
      " 21%|████████████████▏                                                              | 220/1071 [00:09<00:50, 16.79it/s]"
     ]
    },
    {
     "name": "stdout",
     "output_type": "stream",
     "text": [
      "zero points\n",
      "zero points\n",
      "zero points\n",
      "zero points\n",
      "zero points\n",
      "zero points\n",
      "zero points\n"
     ]
    },
    {
     "name": "stderr",
     "output_type": "stream",
     "text": [
      "\r",
      " 22%|█████████████████▎                                                             | 235/1071 [00:09<00:36, 22.88it/s]"
     ]
    },
    {
     "name": "stdout",
     "output_type": "stream",
     "text": [
      "zero points\n"
     ]
    },
    {
     "name": "stderr",
     "output_type": "stream",
     "text": [
      " 23%|██████████████████▍                                                            | 250/1071 [00:10<01:04, 12.71it/s]"
     ]
    },
    {
     "name": "stdout",
     "output_type": "stream",
     "text": [
      "zero points\n"
     ]
    },
    {
     "name": "stderr",
     "output_type": "stream",
     "text": [
      " 24%|███████████████████                                                            | 259/1071 [00:11<01:13, 10.98it/s]"
     ]
    },
    {
     "name": "stdout",
     "output_type": "stream",
     "text": [
      "zero points\n",
      "zero points\n",
      "zero points\n"
     ]
    },
    {
     "name": "stderr",
     "output_type": "stream",
     "text": [
      " 27%|█████████████████████▏                                                         | 288/1071 [00:11<00:39, 19.70it/s]"
     ]
    },
    {
     "name": "stdout",
     "output_type": "stream",
     "text": [
      "zero points\n",
      "zero points\n",
      "zero points\n",
      "zero points\n",
      "zero points\n"
     ]
    },
    {
     "name": "stderr",
     "output_type": "stream",
     "text": [
      " 29%|██████████████████████▊                                                        | 309/1071 [00:13<00:50, 15.02it/s]"
     ]
    },
    {
     "name": "stdout",
     "output_type": "stream",
     "text": [
      "zero points\n"
     ]
    },
    {
     "name": "stderr",
     "output_type": "stream",
     "text": [
      " 30%|███████████████████████▌                                                       | 320/1071 [00:14<00:58, 12.92it/s]"
     ]
    },
    {
     "name": "stdout",
     "output_type": "stream",
     "text": [
      "zero points\n",
      "zero points\n",
      "zero points\n",
      "zero points\n",
      "zero points\n",
      "zero points\n",
      "zero points\n",
      "zero points\n",
      "zero points\n",
      "zero points\n",
      "zero points\n",
      "zero points\n",
      "zero points\n",
      "zero points\n"
     ]
    },
    {
     "name": "stderr",
     "output_type": "stream",
     "text": [
      "\r",
      " 34%|███████████████████████████▏                                                   | 369/1071 [00:14<00:38, 18.25it/s]"
     ]
    },
    {
     "name": "stdout",
     "output_type": "stream",
     "text": [
      "zero points\n",
      "zero points\n",
      "zero points\n",
      "zero points\n"
     ]
    },
    {
     "name": "stderr",
     "output_type": "stream",
     "text": [
      " 37%|█████████████████████████████▌                                                 | 400/1071 [00:15<00:41, 16.16it/s]"
     ]
    },
    {
     "name": "stdout",
     "output_type": "stream",
     "text": [
      "zero points\n",
      "zero points\n"
     ]
    },
    {
     "name": "stderr",
     "output_type": "stream",
     "text": [
      "\r",
      " 38%|██████████████████████████████▏                                                | 410/1071 [00:16<00:43, 15.31it/s]"
     ]
    },
    {
     "name": "stdout",
     "output_type": "stream",
     "text": [
      "zero points\n",
      "zero points\n",
      "zero points\n",
      "zero points\n",
      "zero points\n",
      "zero points\n",
      "zero points\n",
      "zero points\n",
      "zero points\n",
      "zero points\n"
     ]
    },
    {
     "name": "stderr",
     "output_type": "stream",
     "text": [
      "\r",
      " 40%|███████████████████████████████▌                                               | 428/1071 [00:16<00:30, 21.10it/s]"
     ]
    },
    {
     "name": "stdout",
     "output_type": "stream",
     "text": [
      "zero points\n",
      "zero points\n",
      "zero points\n",
      "zero points\n",
      "zero points\n"
     ]
    },
    {
     "name": "stderr",
     "output_type": "stream",
     "text": [
      "\r",
      " 43%|██████████████████████████████████                                             | 462/1071 [00:16<00:21, 28.46it/s]"
     ]
    },
    {
     "name": "stdout",
     "output_type": "stream",
     "text": [
      "zero points\n",
      "zero points\n",
      "zero points\n",
      "zero points\n",
      "zero points\n",
      "zero points\n"
     ]
    },
    {
     "name": "stderr",
     "output_type": "stream",
     "text": [
      "\r",
      " 45%|███████████████████████████████████▏                                           | 477/1071 [00:17<00:17, 33.49it/s]"
     ]
    },
    {
     "name": "stdout",
     "output_type": "stream",
     "text": [
      "zero points\n"
     ]
    },
    {
     "name": "stderr",
     "output_type": "stream",
     "text": [
      " 47%|█████████████████████████████████████                                          | 502/1071 [00:19<00:40, 14.20it/s]"
     ]
    },
    {
     "name": "stdout",
     "output_type": "stream",
     "text": [
      "zero points\n",
      "zero points\n"
     ]
    },
    {
     "name": "stderr",
     "output_type": "stream",
     "text": [
      "\r",
      " 48%|█████████████████████████████████████▊                                         | 512/1071 [00:19<00:29, 19.13it/s]"
     ]
    },
    {
     "name": "stdout",
     "output_type": "stream",
     "text": [
      "zero points\n",
      "zero points\n",
      "zero points\n",
      "zero points\n",
      "zero points\n",
      "zero points\n",
      "zero points\n",
      "zero points\n",
      "zero points\n",
      "zero points\n",
      "zero points\n",
      "zero points\n",
      "zero points\n",
      "zero points\n",
      "zero points\n",
      "zero points\n",
      "zero points\n",
      "zero points\n",
      "zero points\n"
     ]
    },
    {
     "name": "stderr",
     "output_type": "stream",
     "text": [
      "\r",
      " 51%|████████████████████████████████████████▍                                      | 548/1071 [00:19<00:19, 26.38it/s]"
     ]
    },
    {
     "name": "stdout",
     "output_type": "stream",
     "text": [
      "zero points\n",
      "zero points\n",
      "zero points\n",
      "zero points\n"
     ]
    },
    {
     "name": "stderr",
     "output_type": "stream",
     "text": [
      "\r",
      " 52%|█████████████████████████████████████████▎                                     | 560/1071 [00:19<00:16, 31.12it/s]"
     ]
    },
    {
     "name": "stdout",
     "output_type": "stream",
     "text": [
      "zero points\n",
      "zero points\n",
      "zero points\n"
     ]
    },
    {
     "name": "stderr",
     "output_type": "stream",
     "text": [
      " 55%|███████████████████████████████████████████▌                                   | 590/1071 [00:22<00:38, 12.34it/s]"
     ]
    },
    {
     "name": "stdout",
     "output_type": "stream",
     "text": [
      "zero points\n",
      "zero points\n",
      "zero points\n",
      "zero points\n",
      "zero points\n"
     ]
    },
    {
     "name": "stderr",
     "output_type": "stream",
     "text": [
      "\r",
      " 56%|████████████████████████████████████████████▌                                  | 604/1071 [00:22<00:29, 16.04it/s]"
     ]
    },
    {
     "name": "stdout",
     "output_type": "stream",
     "text": [
      "zero points\n",
      "zero points\n",
      "zero points\n",
      "zero points\n",
      "zero points\n"
     ]
    },
    {
     "name": "stderr",
     "output_type": "stream",
     "text": [
      " 59%|██████████████████████████████████████████████▉                                | 637/1071 [00:24<00:34, 12.65it/s]"
     ]
    },
    {
     "name": "stdout",
     "output_type": "stream",
     "text": [
      "zero points\n"
     ]
    },
    {
     "name": "stderr",
     "output_type": "stream",
     "text": [
      " 60%|███████████████████████████████████████████████▌                               | 644/1071 [00:25<00:41, 10.32it/s]"
     ]
    },
    {
     "name": "stdout",
     "output_type": "stream",
     "text": [
      "zero points\n",
      "zero points\n",
      "zero points\n",
      "zero points\n",
      "zero points\n"
     ]
    },
    {
     "name": "stderr",
     "output_type": "stream",
     "text": [
      "\r",
      " 62%|████████████████████████████████████████████████▊                              | 661/1071 [00:25<00:28, 14.31it/s]"
     ]
    },
    {
     "name": "stdout",
     "output_type": "stream",
     "text": [
      "zero points\n"
     ]
    },
    {
     "name": "stderr",
     "output_type": "stream",
     "text": [
      "\r",
      " 62%|█████████████████████████████████████████████████▏                             | 667/1071 [00:25<00:25, 15.87it/s]"
     ]
    },
    {
     "name": "stdout",
     "output_type": "stream",
     "text": [
      "zero points\n",
      "zero points\n",
      "zero points\n"
     ]
    },
    {
     "name": "stderr",
     "output_type": "stream",
     "text": [
      " 66%|███████████████████████████████████████████████████▊                           | 703/1071 [00:28<00:35, 10.43it/s]"
     ]
    },
    {
     "name": "stdout",
     "output_type": "stream",
     "text": [
      "zero points\n",
      "zero points\n",
      "zero points\n"
     ]
    },
    {
     "name": "stderr",
     "output_type": "stream",
     "text": [
      " 67%|█████████████████████████████████████████████████████                          | 720/1071 [00:28<00:21, 16.12it/s]"
     ]
    },
    {
     "name": "stdout",
     "output_type": "stream",
     "text": [
      "zero points\n",
      "zero points\n",
      "zero points\n",
      "zero points\n",
      "zero points\n",
      "zero points\n"
     ]
    },
    {
     "name": "stderr",
     "output_type": "stream",
     "text": [
      " 71%|███████████████████████████████████████████████████████▊                       | 757/1071 [00:31<00:35,  8.96it/s]"
     ]
    },
    {
     "name": "stdout",
     "output_type": "stream",
     "text": [
      "zero points\n",
      "zero points\n",
      "zero points\n",
      "zero points\n",
      "zero points\n"
     ]
    },
    {
     "name": "stderr",
     "output_type": "stream",
     "text": [
      "\r",
      " 72%|████████████████████████████████████████████████████████▊                      | 770/1071 [00:31<00:25, 11.71it/s]"
     ]
    },
    {
     "name": "stdout",
     "output_type": "stream",
     "text": [
      "zero points\n",
      "zero points\n",
      "zero points\n",
      "zero points\n",
      "zero points\n",
      "zero points\n"
     ]
    },
    {
     "name": "stderr",
     "output_type": "stream",
     "text": [
      "\r",
      " 73%|█████████████████████████████████████████████████████████▉                     | 786/1071 [00:31<00:17, 16.19it/s]"
     ]
    },
    {
     "name": "stdout",
     "output_type": "stream",
     "text": [
      "zero points\n"
     ]
    },
    {
     "name": "stderr",
     "output_type": "stream",
     "text": [
      " 75%|███████████████████████████████████████████████████████████▌                   | 807/1071 [00:34<00:24, 10.85it/s]"
     ]
    },
    {
     "name": "stdout",
     "output_type": "stream",
     "text": [
      "zero points\n"
     ]
    },
    {
     "name": "stderr",
     "output_type": "stream",
     "text": [
      "\r",
      " 76%|███████████████████████████████████████████████████████████▋                   | 810/1071 [00:34<00:28,  9.07it/s]"
     ]
    },
    {
     "name": "stdout",
     "output_type": "stream",
     "text": [
      "zero points\n",
      "zero points\n",
      "zero points\n",
      "zero points\n",
      "zero points\n"
     ]
    },
    {
     "name": "stderr",
     "output_type": "stream",
     "text": [
      "\r",
      " 77%|████████████████████████████████████████████████████████████▊                  | 825/1071 [00:34<00:20, 11.84it/s]"
     ]
    },
    {
     "name": "stdout",
     "output_type": "stream",
     "text": [
      "zero points\n",
      "zero points\n",
      "zero points\n",
      "zero points\n",
      "zero points\n",
      "zero points\n",
      "zero points\n",
      "zero points\n",
      "zero points\n"
     ]
    },
    {
     "name": "stderr",
     "output_type": "stream",
     "text": [
      "\r",
      " 79%|██████████████████████████████████████████████████████████████                 | 841/1071 [00:34<00:14, 16.38it/s]"
     ]
    },
    {
     "name": "stdout",
     "output_type": "stream",
     "text": [
      "zero points\n"
     ]
    },
    {
     "name": "stderr",
     "output_type": "stream",
     "text": [
      " 81%|███████████████████████████████████████████████████████████████▋               | 863/1071 [00:37<00:22,  9.26it/s]"
     ]
    },
    {
     "name": "stdout",
     "output_type": "stream",
     "text": [
      "zero points\n"
     ]
    },
    {
     "name": "stderr",
     "output_type": "stream",
     "text": [
      "\r",
      " 81%|███████████████████████████████████████████████████████████████▉               | 866/1071 [00:37<00:19, 10.65it/s]"
     ]
    },
    {
     "name": "stdout",
     "output_type": "stream",
     "text": [
      "zero points\n",
      "zero points\n",
      "zero points\n",
      "zero points\n"
     ]
    },
    {
     "name": "stderr",
     "output_type": "stream",
     "text": [
      "\r",
      " 82%|████████████████████████████████████████████████████████████████▉              | 880/1071 [00:37<00:13, 14.24it/s]"
     ]
    },
    {
     "name": "stdout",
     "output_type": "stream",
     "text": [
      "zero points\n",
      "zero points\n",
      "zero points\n",
      "zero points\n",
      "zero points\n",
      "zero points\n"
     ]
    },
    {
     "name": "stderr",
     "output_type": "stream",
     "text": [
      "\r",
      " 83%|█████████████████████████████████████████████████████████████████▉             | 894/1071 [00:37<00:09, 19.46it/s]"
     ]
    },
    {
     "name": "stdout",
     "output_type": "stream",
     "text": [
      "zero points\n",
      "zero points\n"
     ]
    },
    {
     "name": "stderr",
     "output_type": "stream",
     "text": [
      " 86%|███████████████████████████████████████████████████████████████████▋           | 918/1071 [00:39<00:13, 11.59it/s]"
     ]
    },
    {
     "name": "stdout",
     "output_type": "stream",
     "text": [
      "zero points\n"
     ]
    },
    {
     "name": "stderr",
     "output_type": "stream",
     "text": [
      "\r",
      " 86%|███████████████████████████████████████████████████████████████████▉           | 921/1071 [00:40<00:15,  9.54it/s]"
     ]
    },
    {
     "name": "stdout",
     "output_type": "stream",
     "text": [
      "zero points\n",
      "zero points\n"
     ]
    },
    {
     "name": "stderr",
     "output_type": "stream",
     "text": [
      "\r",
      " 87%|████████████████████████████████████████████████████████████████████▋          | 932/1071 [00:40<00:10, 12.72it/s]"
     ]
    },
    {
     "name": "stdout",
     "output_type": "stream",
     "text": [
      "zero points\n"
     ]
    },
    {
     "name": "stderr",
     "output_type": "stream",
     "text": [
      "\r",
      " 88%|█████████████████████████████████████████████████████████████████████▏         | 938/1071 [00:40<00:07, 16.63it/s]"
     ]
    },
    {
     "name": "stdout",
     "output_type": "stream",
     "text": [
      "zero points\n",
      "zero points\n",
      "zero points\n",
      "zero points\n",
      "zero points\n",
      "zero points\n"
     ]
    },
    {
     "name": "stderr",
     "output_type": "stream",
     "text": [
      " 91%|███████████████████████████████████████████████████████████████████████▋       | 972/1071 [00:43<00:11,  8.70it/s]"
     ]
    },
    {
     "name": "stdout",
     "output_type": "stream",
     "text": [
      "zero points\n",
      "zero points\n"
     ]
    },
    {
     "name": "stderr",
     "output_type": "stream",
     "text": [
      "\r",
      " 92%|████████████████████████████████████████████████████████████████████████▌      | 984/1071 [00:43<00:07, 11.69it/s]"
     ]
    },
    {
     "name": "stdout",
     "output_type": "stream",
     "text": [
      "zero points\n",
      "zero points\n",
      "zero points\n",
      "zero points\n",
      "zero points\n"
     ]
    },
    {
     "name": "stderr",
     "output_type": "stream",
     "text": [
      " 96%|██████████████████████████████████████████████████████████████████████████▌   | 1023/1071 [00:46<00:06,  6.99it/s]"
     ]
    },
    {
     "name": "stdout",
     "output_type": "stream",
     "text": [
      "zero points\n",
      "zero points\n",
      "zero points\n",
      "zero points\n",
      "zero points\n",
      "zero points\n",
      "zero points\n",
      "zero points\n",
      "zero points\n",
      "zero points\n",
      "zero points\n",
      "zero points\n"
     ]
    },
    {
     "name": "stderr",
     "output_type": "stream",
     "text": [
      "\r",
      " 98%|████████████████████████████████████████████████████████████████████████████▎ | 1048/1071 [00:46<00:02,  9.86it/s]"
     ]
    },
    {
     "name": "stdout",
     "output_type": "stream",
     "text": [
      "zero points\n",
      "zero points\n",
      "zero points\n",
      "zero points\n"
     ]
    },
    {
     "name": "stderr",
     "output_type": "stream",
     "text": [
      "\r",
      " 99%|████████████████████████████████████████████████████████████████████████████▉ | 1057/1071 [00:46<00:01, 13.37it/s]"
     ]
    },
    {
     "name": "stdout",
     "output_type": "stream",
     "text": [
      "zero points\n",
      "zero points\n",
      "zero points\n"
     ]
    },
    {
     "name": "stderr",
     "output_type": "stream",
     "text": [
      "\r",
      "100%|█████████████████████████████████████████████████████████████████████████████▋| 1066/1071 [00:46<00:00, 16.97it/s]"
     ]
    },
    {
     "name": "stdout",
     "output_type": "stream",
     "text": [
      "zero points\n",
      "zero points\n"
     ]
    },
    {
     "name": "stderr",
     "output_type": "stream",
     "text": [
      "100%|██████████████████████████████████████████████████████████████████████████████| 1071/1071 [00:46<00:00, 22.80it/s]\n",
      "100%|████████████████████████████████████████████████████████████████████████████▊| 1068/1071 [00:02<00:00, 326.64it/s]"
     ]
    },
    {
     "name": "stdout",
     "output_type": "stream",
     "text": [
      "2020-06-12 13:08:16.327638-Saving C:/Users/SING1761/OneDrive Corp/OneDrive - Atkins Ltd/my_work/SBRI_3D/input_preprocessed_data/hdf5_files\\half_524900_0.h5...\n"
     ]
    },
    {
     "name": "stderr",
     "output_type": "stream",
     "text": [
      "100%|█████████████████████████████████████████████████████████████████████████████| 1071/1071 [00:09<00:00, 112.48it/s]\n"
     ]
    },
    {
     "name": "stdout",
     "output_type": "stream",
     "text": [
      "2020-06-12 13:08:25.435749-Computing block id of 9533440 points...\n",
      "2020-06-12 13:08:26.809199-Collecting points belong to each block...\n",
      "2020-06-12 13:08:39.653188-C:/Users/SING1761/OneDrive Corp/OneDrive - Atkins Ltd/my_work/SBRI_3D/input_preprocessed_data/numpys/XYZRGB_526325.npy is split into 938 blocks.\n"
     ]
    },
    {
     "name": "stderr",
     "output_type": "stream",
     "text": [
      "100%|█████████████████████████████████████████████████████████████████████████████| 938/938 [00:00<00:00, 58774.64it/s]\n"
     ]
    },
    {
     "name": "stdout",
     "output_type": "stream",
     "text": [
      "2020-06-12 13:08:39.678121-256 of 938 blocks are merged.\n"
     ]
    },
    {
     "name": "stderr",
     "output_type": "stream",
     "text": [
      "\r",
      "  0%|                                                                                          | 0/938 [00:00<?, ?it/s]"
     ]
    },
    {
     "name": "stdout",
     "output_type": "stream",
     "text": [
      "zero points\n",
      "zero points\n",
      "zero points\n"
     ]
    },
    {
     "name": "stderr",
     "output_type": "stream",
     "text": [
      "\r",
      "  1%|█                                                                                | 13/938 [00:00<00:10, 91.13it/s]"
     ]
    },
    {
     "name": "stdout",
     "output_type": "stream",
     "text": [
      "zero points\n",
      "zero points\n",
      "zero points\n",
      "zero points\n",
      "zero points\n"
     ]
    },
    {
     "name": "stderr",
     "output_type": "stream",
     "text": [
      "  6%|████▍                                                                            | 52/938 [00:03<01:34,  9.39it/s]"
     ]
    },
    {
     "name": "stdout",
     "output_type": "stream",
     "text": [
      "zero points\n"
     ]
    },
    {
     "name": "stderr",
     "output_type": "stream",
     "text": [
      "\r",
      "  6%|████▋                                                                            | 54/938 [00:03<01:26, 10.24it/s]"
     ]
    },
    {
     "name": "stdout",
     "output_type": "stream",
     "text": [
      "zero points\n",
      "zero points\n",
      "zero points\n",
      "zero points\n",
      "zero points\n",
      "zero points\n"
     ]
    },
    {
     "name": "stderr",
     "output_type": "stream",
     "text": [
      "\r",
      "  7%|█████▌                                                                           | 65/938 [00:03<01:02, 13.88it/s]"
     ]
    },
    {
     "name": "stdout",
     "output_type": "stream",
     "text": [
      "zero points\n",
      "zero points\n",
      "zero points\n",
      "zero points\n",
      "zero points\n"
     ]
    },
    {
     "name": "stderr",
     "output_type": "stream",
     "text": [
      "\r",
      "  8%|██████▊                                                                          | 79/938 [00:03<00:45, 19.02it/s]"
     ]
    },
    {
     "name": "stdout",
     "output_type": "stream",
     "text": [
      "zero points\n"
     ]
    },
    {
     "name": "stderr",
     "output_type": "stream",
     "text": [
      " 11%|█████████▏                                                                      | 107/938 [00:06<01:22, 10.08it/s]"
     ]
    },
    {
     "name": "stdout",
     "output_type": "stream",
     "text": [
      "zero points\n",
      "zero points\n",
      "zero points\n",
      "zero points\n",
      "zero points\n",
      "zero points\n"
     ]
    },
    {
     "name": "stderr",
     "output_type": "stream",
     "text": [
      "\r",
      " 13%|██████████▏                                                                     | 119/938 [00:06<01:01, 13.35it/s]"
     ]
    },
    {
     "name": "stdout",
     "output_type": "stream",
     "text": [
      "zero points\n",
      "zero points\n",
      "zero points\n",
      "zero points\n",
      "zero points\n"
     ]
    },
    {
     "name": "stderr",
     "output_type": "stream",
     "text": [
      " 16%|█████████████▏                                                                  | 154/938 [00:08<01:25,  9.14it/s]"
     ]
    },
    {
     "name": "stdout",
     "output_type": "stream",
     "text": [
      "zero points\n"
     ]
    },
    {
     "name": "stderr",
     "output_type": "stream",
     "text": [
      " 17%|█████████████▉                                                                  | 163/938 [00:09<01:04, 12.11it/s]"
     ]
    },
    {
     "name": "stdout",
     "output_type": "stream",
     "text": [
      "zero points\n",
      "zero points\n",
      "zero points\n",
      "zero points\n",
      "zero points\n"
     ]
    },
    {
     "name": "stderr",
     "output_type": "stream",
     "text": [
      "\r",
      " 19%|██████████████▉                                                                 | 175/938 [00:09<00:50, 15.09it/s]"
     ]
    },
    {
     "name": "stdout",
     "output_type": "stream",
     "text": [
      "zero points\n",
      "zero points\n",
      "zero points\n",
      "zero points\n",
      "zero points\n"
     ]
    },
    {
     "name": "stderr",
     "output_type": "stream",
     "text": [
      " 22%|█████████████████▉                                                              | 211/938 [00:12<01:28,  8.24it/s]"
     ]
    },
    {
     "name": "stdout",
     "output_type": "stream",
     "text": [
      "zero points\n"
     ]
    },
    {
     "name": "stderr",
     "output_type": "stream",
     "text": [
      " 23%|██████████████████▌                                                             | 218/938 [00:12<01:15,  9.55it/s]"
     ]
    },
    {
     "name": "stdout",
     "output_type": "stream",
     "text": [
      "zero points\n",
      "zero points\n",
      "zero points\n",
      "zero points\n",
      "zero points\n",
      "zero points\n",
      "zero points\n",
      "zero points\n",
      "zero points\n"
     ]
    },
    {
     "name": "stderr",
     "output_type": "stream",
     "text": [
      "\r",
      " 25%|███████████████████▊                                                            | 232/938 [00:12<00:54, 13.07it/s]"
     ]
    },
    {
     "name": "stdout",
     "output_type": "stream",
     "text": [
      "zero points\n",
      "zero points\n",
      "zero points\n"
     ]
    },
    {
     "name": "stderr",
     "output_type": "stream",
     "text": [
      "\r",
      " 26%|████████████████████▌                                                           | 241/938 [00:12<00:39, 17.56it/s]"
     ]
    },
    {
     "name": "stdout",
     "output_type": "stream",
     "text": [
      "zero points\n",
      "zero points\n"
     ]
    },
    {
     "name": "stderr",
     "output_type": "stream",
     "text": [
      " 29%|███████████████████████▌                                                        | 276/938 [00:16<01:05, 10.17it/s]"
     ]
    },
    {
     "name": "stdout",
     "output_type": "stream",
     "text": [
      "zero points\n",
      "zero points\n",
      "zero points\n",
      "zero points\n",
      "zero points\n"
     ]
    },
    {
     "name": "stderr",
     "output_type": "stream",
     "text": [
      "\r",
      " 31%|████████████████████████▍                                                       | 287/938 [00:16<00:48, 13.56it/s]"
     ]
    },
    {
     "name": "stdout",
     "output_type": "stream",
     "text": [
      "zero points\n",
      "zero points\n",
      "zero points\n",
      "zero points\n",
      "zero points\n"
     ]
    },
    {
     "name": "stderr",
     "output_type": "stream",
     "text": [
      "\r",
      " 32%|█████████████████████████▊                                                      | 303/938 [00:16<00:33, 18.69it/s]"
     ]
    },
    {
     "name": "stdout",
     "output_type": "stream",
     "text": [
      "zero points\n",
      "zero points\n",
      "zero points\n"
     ]
    },
    {
     "name": "stderr",
     "output_type": "stream",
     "text": [
      " 35%|████████████████████████████                                                    | 329/938 [00:18<00:52, 11.60it/s]"
     ]
    },
    {
     "name": "stdout",
     "output_type": "stream",
     "text": [
      "zero points\n"
     ]
    },
    {
     "name": "stderr",
     "output_type": "stream",
     "text": [
      "\r",
      " 36%|████████████████████████████▍                                                   | 333/938 [00:19<00:58, 10.31it/s]"
     ]
    },
    {
     "name": "stdout",
     "output_type": "stream",
     "text": [
      "zero points\n",
      "zero points\n",
      "zero points\n",
      "zero points\n",
      "zero points\n"
     ]
    },
    {
     "name": "stderr",
     "output_type": "stream",
     "text": [
      "\r",
      " 37%|█████████████████████████████▍                                                  | 345/938 [00:19<00:42, 13.85it/s]"
     ]
    },
    {
     "name": "stdout",
     "output_type": "stream",
     "text": [
      "zero points\n",
      "zero points\n",
      "zero points\n",
      "zero points\n",
      "zero points\n",
      "zero points\n",
      "zero points\n"
     ]
    },
    {
     "name": "stderr",
     "output_type": "stream",
     "text": [
      "\r",
      " 39%|██████████████████████████████▊                                                 | 362/938 [00:19<00:30, 19.11it/s]"
     ]
    },
    {
     "name": "stdout",
     "output_type": "stream",
     "text": [
      "zero points\n",
      "zero points\n",
      "zero points\n"
     ]
    },
    {
     "name": "stderr",
     "output_type": "stream",
     "text": [
      " 41%|████████████████████████████████▊                                               | 384/938 [00:21<00:47, 11.58it/s]"
     ]
    },
    {
     "name": "stdout",
     "output_type": "stream",
     "text": [
      "zero points\n"
     ]
    },
    {
     "name": "stderr",
     "output_type": "stream",
     "text": [
      " 42%|█████████████████████████████████▌                                              | 393/938 [00:22<00:38, 14.14it/s]"
     ]
    },
    {
     "name": "stdout",
     "output_type": "stream",
     "text": [
      "zero points\n",
      "zero points\n",
      "zero points\n",
      "zero points\n"
     ]
    },
    {
     "name": "stderr",
     "output_type": "stream",
     "text": [
      "\r",
      " 43%|██████████████████████████████████▎                                             | 403/938 [00:22<00:29, 18.25it/s]"
     ]
    },
    {
     "name": "stdout",
     "output_type": "stream",
     "text": [
      "zero points\n",
      "zero points\n",
      "zero points\n",
      "zero points\n",
      "zero points\n",
      "zero points\n",
      "zero points\n",
      "zero points\n",
      "zero points\n",
      "zero points\n",
      "zero points\n",
      "zero points\n"
     ]
    },
    {
     "name": "stderr",
     "output_type": "stream",
     "text": [
      "\r",
      " 45%|███████████████████████████████████▉                                            | 421/938 [00:22<00:20, 24.81it/s]"
     ]
    },
    {
     "name": "stdout",
     "output_type": "stream",
     "text": [
      "zero points\n"
     ]
    },
    {
     "name": "stderr",
     "output_type": "stream",
     "text": [
      " 48%|██████████████████████████████████████▏                                         | 448/938 [00:25<00:38, 12.81it/s]"
     ]
    },
    {
     "name": "stdout",
     "output_type": "stream",
     "text": [
      "zero points\n",
      "zero points\n",
      "zero points\n",
      "zero points\n"
     ]
    },
    {
     "name": "stderr",
     "output_type": "stream",
     "text": [
      "\r",
      " 49%|███████████████████████████████████████▏                                        | 460/938 [00:25<00:28, 16.72it/s]"
     ]
    },
    {
     "name": "stdout",
     "output_type": "stream",
     "text": [
      "zero points\n",
      "zero points\n",
      "zero points\n",
      "zero points\n",
      "zero points\n",
      "zero points\n",
      "zero points\n",
      "zero points\n",
      "zero points\n",
      "zero points\n",
      "zero points\n",
      "zero points\n"
     ]
    },
    {
     "name": "stderr",
     "output_type": "stream",
     "text": [
      " 54%|██████████████████████████████████████████▉                                     | 504/938 [00:28<00:39, 11.02it/s]"
     ]
    },
    {
     "name": "stdout",
     "output_type": "stream",
     "text": [
      "zero points\n",
      "zero points\n",
      "zero points\n",
      "zero points\n",
      "zero points\n"
     ]
    },
    {
     "name": "stderr",
     "output_type": "stream",
     "text": [
      "\r",
      " 55%|████████████████████████████████████████████                                    | 517/938 [00:28<00:27, 15.05it/s]"
     ]
    },
    {
     "name": "stdout",
     "output_type": "stream",
     "text": [
      "zero points\n",
      "zero points\n",
      "zero points\n",
      "zero points\n"
     ]
    },
    {
     "name": "stderr",
     "output_type": "stream",
     "text": [
      "\r",
      " 56%|████████████████████████████████████████████▉                                   | 527/938 [00:28<00:20, 20.18it/s]"
     ]
    },
    {
     "name": "stdout",
     "output_type": "stream",
     "text": [
      "zero points\n",
      "zero points\n",
      "zero points\n",
      "zero points\n"
     ]
    },
    {
     "name": "stderr",
     "output_type": "stream",
     "text": [
      " 60%|███████████████████████████████████████████████▊                                | 561/938 [00:30<00:29, 12.83it/s]"
     ]
    },
    {
     "name": "stdout",
     "output_type": "stream",
     "text": [
      "zero points\n",
      "zero points\n",
      "zero points\n",
      "zero points\n",
      "zero points\n"
     ]
    },
    {
     "name": "stderr",
     "output_type": "stream",
     "text": [
      "\r",
      " 61%|████████████████████████████████████████████████▊                               | 572/938 [00:30<00:21, 17.31it/s]"
     ]
    },
    {
     "name": "stdout",
     "output_type": "stream",
     "text": [
      "zero points\n",
      "zero points\n",
      "zero points\n",
      "zero points\n",
      "zero points\n"
     ]
    },
    {
     "name": "stderr",
     "output_type": "stream",
     "text": [
      "\r",
      " 62%|█████████████████████████████████████████████████▉                              | 586/938 [00:30<00:15, 23.21it/s]"
     ]
    },
    {
     "name": "stdout",
     "output_type": "stream",
     "text": [
      "zero points\n",
      "zero points\n",
      "zero points\n",
      "zero points\n",
      "zero points\n",
      "zero points\n",
      "zero points\n",
      "zero points\n",
      "zero points\n"
     ]
    },
    {
     "name": "stderr",
     "output_type": "stream",
     "text": [
      " 65%|████████████████████████████████████████████████████                            | 610/938 [00:32<00:21, 15.46it/s]"
     ]
    },
    {
     "name": "stdout",
     "output_type": "stream",
     "text": [
      "zero points\n"
     ]
    },
    {
     "name": "stderr",
     "output_type": "stream",
     "text": [
      "\r",
      " 66%|████████████████████████████████████████████████████▍                           | 615/938 [00:33<00:22, 14.62it/s]"
     ]
    },
    {
     "name": "stdout",
     "output_type": "stream",
     "text": [
      "zero points\n",
      "zero points\n",
      "zero points\n",
      "zero points\n",
      "zero points\n",
      "zero points\n"
     ]
    },
    {
     "name": "stderr",
     "output_type": "stream",
     "text": [
      "\r",
      " 67%|█████████████████████████████████████████████████████▏                          | 624/938 [00:33<00:16, 18.62it/s]"
     ]
    },
    {
     "name": "stdout",
     "output_type": "stream",
     "text": [
      "zero points\n",
      "zero points\n",
      "zero points\n",
      "zero points\n",
      "zero points\n",
      "zero points\n",
      "zero points\n",
      "zero points\n"
     ]
    },
    {
     "name": "stderr",
     "output_type": "stream",
     "text": [
      "\r",
      " 68%|██████████████████████████████████████████████████████▍                         | 639/938 [00:33<00:12, 24.64it/s]"
     ]
    },
    {
     "name": "stdout",
     "output_type": "stream",
     "text": [
      "zero points\n",
      "zero points\n",
      "zero points\n",
      "zero points\n",
      "zero points\n"
     ]
    },
    {
     "name": "stderr",
     "output_type": "stream",
     "text": [
      " 71%|████████████████████████████████████████████████████████▋                       | 665/938 [00:35<00:21, 12.53it/s]"
     ]
    },
    {
     "name": "stdout",
     "output_type": "stream",
     "text": [
      "zero points\n"
     ]
    },
    {
     "name": "stderr",
     "output_type": "stream",
     "text": [
      "\r",
      " 71%|█████████████████████████████████████████████████████████▏                      | 670/938 [00:35<00:16, 15.96it/s]"
     ]
    },
    {
     "name": "stdout",
     "output_type": "stream",
     "text": [
      "zero points\n",
      "zero points\n",
      "zero points\n",
      "zero points\n"
     ]
    },
    {
     "name": "stderr",
     "output_type": "stream",
     "text": [
      "\r",
      " 72%|█████████████████████████████████████████████████████████▋                      | 677/938 [00:35<00:12, 20.34it/s]"
     ]
    },
    {
     "name": "stdout",
     "output_type": "stream",
     "text": [
      "zero points\n",
      "zero points\n",
      "zero points\n",
      "zero points\n",
      "zero points\n",
      "zero points\n",
      "zero points\n",
      "zero points\n",
      "zero points\n",
      "zero points\n",
      "zero points\n",
      "zero points\n",
      "zero points\n",
      "zero points\n",
      "zero points\n",
      "zero points\n"
     ]
    },
    {
     "name": "stderr",
     "output_type": "stream",
     "text": [
      "\r",
      " 74%|███████████████████████████████████████████████████████████▍                    | 697/938 [00:35<00:08, 27.59it/s]"
     ]
    },
    {
     "name": "stdout",
     "output_type": "stream",
     "text": [
      "zero points\n"
     ]
    },
    {
     "name": "stderr",
     "output_type": "stream",
     "text": [
      " 77%|█████████████████████████████████████████████████████████████▏                  | 718/938 [00:37<00:16, 13.09it/s]"
     ]
    },
    {
     "name": "stdout",
     "output_type": "stream",
     "text": [
      "zero points\n"
     ]
    },
    {
     "name": "stderr",
     "output_type": "stream",
     "text": [
      "\r",
      " 77%|█████████████████████████████████████████████████████████████▋                  | 723/938 [00:38<00:17, 12.57it/s]"
     ]
    },
    {
     "name": "stdout",
     "output_type": "stream",
     "text": [
      "zero points\n",
      "zero points\n",
      "zero points\n",
      "zero points\n",
      "zero points\n"
     ]
    },
    {
     "name": "stderr",
     "output_type": "stream",
     "text": [
      "\r",
      " 78%|██████████████████████████████████████████████████████████████▍                 | 732/938 [00:38<00:12, 16.85it/s]"
     ]
    },
    {
     "name": "stdout",
     "output_type": "stream",
     "text": [
      "zero points\n",
      "zero points\n",
      "zero points\n",
      "zero points\n",
      "zero points\n",
      "zero points\n",
      "zero points\n",
      "zero points\n",
      "zero points\n",
      "zero points\n"
     ]
    },
    {
     "name": "stderr",
     "output_type": "stream",
     "text": [
      "\r",
      " 80%|████████████████████████████████████████████████████████████████▎               | 754/938 [00:38<00:07, 23.29it/s]"
     ]
    },
    {
     "name": "stdout",
     "output_type": "stream",
     "text": [
      "zero points\n"
     ]
    },
    {
     "name": "stderr",
     "output_type": "stream",
     "text": [
      " 82%|█████████████████████████████████████████████████████████████████▊              | 772/938 [00:40<00:11, 14.33it/s]"
     ]
    },
    {
     "name": "stdout",
     "output_type": "stream",
     "text": [
      "zero points\n",
      "zero points\n"
     ]
    },
    {
     "name": "stderr",
     "output_type": "stream",
     "text": [
      "\r",
      " 83%|██████████████████████████████████████████████████████████████████▎             | 778/938 [00:40<00:11, 13.84it/s]"
     ]
    },
    {
     "name": "stdout",
     "output_type": "stream",
     "text": [
      "zero points\n",
      "zero points\n",
      "zero points\n",
      "zero points\n",
      "zero points\n",
      "zero points\n"
     ]
    },
    {
     "name": "stderr",
     "output_type": "stream",
     "text": [
      "\r",
      " 84%|███████████████████████████████████████████████████████████████████▍            | 790/938 [00:41<00:08, 17.97it/s]"
     ]
    },
    {
     "name": "stdout",
     "output_type": "stream",
     "text": [
      "zero points\n",
      "zero points\n",
      "zero points\n",
      "zero points\n",
      "zero points\n",
      "zero points\n",
      "zero points\n",
      "zero points\n",
      "zero points\n",
      "zero points\n",
      "zero points\n",
      "zero points\n",
      "zero points\n"
     ]
    },
    {
     "name": "stderr",
     "output_type": "stream",
     "text": [
      " 89%|██████████████████████████████████████████████████████████████████████▊         | 831/938 [00:43<00:09, 10.84it/s]"
     ]
    },
    {
     "name": "stdout",
     "output_type": "stream",
     "text": [
      "zero points\n"
     ]
    },
    {
     "name": "stderr",
     "output_type": "stream",
     "text": [
      "\r",
      " 89%|███████████████████████████████████████████████████████████████████████▏        | 835/938 [00:43<00:09, 11.00it/s]"
     ]
    },
    {
     "name": "stdout",
     "output_type": "stream",
     "text": [
      "zero points\n"
     ]
    },
    {
     "name": "stderr",
     "output_type": "stream",
     "text": [
      "\r",
      " 89%|███████████████████████████████████████████████████████████████████████▍        | 838/938 [00:43<00:07, 13.23it/s]"
     ]
    },
    {
     "name": "stdout",
     "output_type": "stream",
     "text": [
      "zero points\n",
      "zero points\n",
      "zero points\n",
      "zero points\n"
     ]
    },
    {
     "name": "stderr",
     "output_type": "stream",
     "text": [
      "\r",
      " 91%|█████████████████████████████████████████████████████████████████████████▏      | 858/938 [00:44<00:04, 18.36it/s]"
     ]
    },
    {
     "name": "stdout",
     "output_type": "stream",
     "text": [
      "zero points\n",
      "zero points\n",
      "zero points\n",
      "zero points\n",
      "zero points\n",
      "zero points\n",
      "zero points\n"
     ]
    },
    {
     "name": "stderr",
     "output_type": "stream",
     "text": [
      " 93%|██████████████████████████████████████████████████████████████████████████▊     | 877/938 [00:46<00:06,  9.70it/s]"
     ]
    },
    {
     "name": "stdout",
     "output_type": "stream",
     "text": [
      "zero points\n"
     ]
    },
    {
     "name": "stderr",
     "output_type": "stream",
     "text": [
      " 95%|███████████████████████████████████████████████████████████████████████████▋    | 888/938 [00:47<00:05,  9.56it/s]"
     ]
    },
    {
     "name": "stdout",
     "output_type": "stream",
     "text": [
      "zero points\n",
      "zero points\n",
      "zero points\n"
     ]
    },
    {
     "name": "stderr",
     "output_type": "stream",
     "text": [
      "\r",
      " 97%|█████████████████████████████████████████████████████████████████████████████▎  | 906/938 [00:47<00:02, 12.88it/s]"
     ]
    },
    {
     "name": "stdout",
     "output_type": "stream",
     "text": [
      "zero points\n"
     ]
    },
    {
     "name": "stderr",
     "output_type": "stream",
     "text": [
      "\r",
      " 97%|█████████████████████████████████████████████████████████████████████████████▋  | 911/938 [00:47<00:01, 16.51it/s]"
     ]
    },
    {
     "name": "stdout",
     "output_type": "stream",
     "text": [
      "zero points\n",
      "zero points\n",
      "zero points\n",
      "zero points\n"
     ]
    },
    {
     "name": "stderr",
     "output_type": "stream",
     "text": [
      " 99%|███████████████████████████████████████████████████████████████████████████████▎| 930/938 [00:49<00:00, 12.79it/s]"
     ]
    },
    {
     "name": "stdout",
     "output_type": "stream",
     "text": [
      "zero points\n"
     ]
    },
    {
     "name": "stderr",
     "output_type": "stream",
     "text": [
      "100%|████████████████████████████████████████████████████████████████████████████████| 938/938 [00:49<00:00, 18.87it/s]\n",
      "100%|██████████████████████████████████████████████████████████████████████████████▉| 937/938 [00:03<00:00, 289.58it/s]"
     ]
    },
    {
     "name": "stdout",
     "output_type": "stream",
     "text": [
      "2020-06-12 13:09:32.439186-Saving C:/Users/SING1761/OneDrive Corp/OneDrive - Atkins Ltd/my_work/SBRI_3D/input_preprocessed_data/hdf5_files\\zero_524900_0.h5...\n"
     ]
    },
    {
     "name": "stderr",
     "output_type": "stream",
     "text": [
      "100%|████████████████████████████████████████████████████████████████████████████████| 938/938 [00:09<00:00, 95.18it/s]\n"
     ]
    },
    {
     "name": "stdout",
     "output_type": "stream",
     "text": [
      "2020-06-12 13:09:39.250394-Computing block id of 9533440 points...\n",
      "2020-06-12 13:09:40.689571-Collecting points belong to each block...\n",
      "2020-06-12 13:09:56.098442-C:/Users/SING1761/OneDrive Corp/OneDrive - Atkins Ltd/my_work/SBRI_3D/input_preprocessed_data/numpys/XYZRGB_526325.npy is split into 974 blocks.\n"
     ]
    },
    {
     "name": "stderr",
     "output_type": "stream",
     "text": [
      "100%|█████████████████████████████████████████████████████████████████████████████| 974/974 [00:00<00:00, 40693.82it/s]\n"
     ]
    },
    {
     "name": "stdout",
     "output_type": "stream",
     "text": [
      "2020-06-12 13:09:56.131353-279 of 974 blocks are merged.\n"
     ]
    },
    {
     "name": "stderr",
     "output_type": "stream",
     "text": [
      "\r",
      "  0%|                                                                                          | 0/972 [00:00<?, ?it/s]"
     ]
    },
    {
     "name": "stdout",
     "output_type": "stream",
     "text": [
      "zero points\n",
      "zero points\n"
     ]
    },
    {
     "name": "stderr",
     "output_type": "stream",
     "text": [
      "\r",
      "  1%|█                                                                               | 13/972 [00:00<00:08, 118.50it/s]"
     ]
    },
    {
     "name": "stdout",
     "output_type": "stream",
     "text": [
      "zero points\n",
      "zero points\n",
      "zero points\n",
      "zero points\n"
     ]
    },
    {
     "name": "stderr",
     "output_type": "stream",
     "text": [
      "  5%|████                                                                             | 49/972 [00:01<00:56, 16.27it/s]"
     ]
    },
    {
     "name": "stdout",
     "output_type": "stream",
     "text": [
      "zero points\n"
     ]
    },
    {
     "name": "stderr",
     "output_type": "stream",
     "text": [
      "\r",
      "  5%|████▎                                                                            | 52/972 [00:01<00:50, 18.20it/s]"
     ]
    },
    {
     "name": "stdout",
     "output_type": "stream",
     "text": [
      "zero points\n",
      "zero points\n",
      "zero points\n"
     ]
    },
    {
     "name": "stderr",
     "output_type": "stream",
     "text": [
      "\r",
      "  6%|████▊                                                                            | 58/972 [00:02<00:40, 22.42it/s]"
     ]
    },
    {
     "name": "stdout",
     "output_type": "stream",
     "text": [
      "zero points\n"
     ]
    },
    {
     "name": "stderr",
     "output_type": "stream",
     "text": [
      "\r",
      "  7%|█████▋                                                                           | 68/972 [00:02<00:30, 29.18it/s]"
     ]
    },
    {
     "name": "stdout",
     "output_type": "stream",
     "text": [
      "zero points\n",
      "zero points\n",
      "zero points\n"
     ]
    },
    {
     "name": "stderr",
     "output_type": "stream",
     "text": [
      " 10%|████████                                                                         | 96/972 [00:06<02:08,  6.83it/s]"
     ]
    },
    {
     "name": "stdout",
     "output_type": "stream",
     "text": [
      "zero points\n",
      "zero points\n"
     ]
    },
    {
     "name": "stderr",
     "output_type": "stream",
     "text": [
      "\r",
      " 10%|████████▎                                                                        | 99/972 [00:06<01:44,  8.38it/s]"
     ]
    },
    {
     "name": "stdout",
     "output_type": "stream",
     "text": [
      "zero points\n",
      "zero points\n",
      "zero points\n",
      "zero points\n",
      "zero points\n",
      "zero points\n",
      "zero points\n",
      "zero points\n",
      "zero points\n"
     ]
    },
    {
     "name": "stderr",
     "output_type": "stream",
     "text": [
      "\r",
      " 12%|█████████▏                                                                      | 112/972 [00:06<01:15, 11.42it/s]"
     ]
    },
    {
     "name": "stdout",
     "output_type": "stream",
     "text": [
      "zero points\n",
      "zero points\n",
      "zero points\n"
     ]
    },
    {
     "name": "stderr",
     "output_type": "stream",
     "text": [
      "\r",
      " 13%|██████████▍                                                                     | 127/972 [00:06<00:53, 15.77it/s]"
     ]
    },
    {
     "name": "stdout",
     "output_type": "stream",
     "text": [
      "zero points\n",
      "zero points\n",
      "zero points\n"
     ]
    },
    {
     "name": "stderr",
     "output_type": "stream",
     "text": [
      " 16%|████████████▍                                                                   | 151/972 [00:10<01:46,  7.69it/s]"
     ]
    },
    {
     "name": "stdout",
     "output_type": "stream",
     "text": [
      "zero points\n"
     ]
    },
    {
     "name": "stderr",
     "output_type": "stream",
     "text": [
      "\r",
      " 16%|████████████▋                                                                   | 154/972 [00:10<01:29,  9.12it/s]"
     ]
    },
    {
     "name": "stdout",
     "output_type": "stream",
     "text": [
      "zero points\n",
      "zero points\n",
      "zero points\n",
      "zero points\n",
      "zero points\n",
      "zero points\n"
     ]
    },
    {
     "name": "stderr",
     "output_type": "stream",
     "text": [
      "\r",
      " 17%|█████████████▋                                                                  | 167/972 [00:10<01:07, 11.95it/s]"
     ]
    },
    {
     "name": "stdout",
     "output_type": "stream",
     "text": [
      "zero points\n",
      "zero points\n"
     ]
    },
    {
     "name": "stderr",
     "output_type": "stream",
     "text": [
      "\r",
      " 18%|██████████████▍                                                                 | 176/972 [00:10<00:49, 16.13it/s]"
     ]
    },
    {
     "name": "stdout",
     "output_type": "stream",
     "text": [
      "zero points\n",
      "zero points\n",
      "zero points\n",
      "zero points\n"
     ]
    },
    {
     "name": "stderr",
     "output_type": "stream",
     "text": [
      "\r",
      " 19%|███████████████▏                                                                | 184/972 [00:10<00:38, 20.69it/s]"
     ]
    },
    {
     "name": "stdout",
     "output_type": "stream",
     "text": [
      "zero points\n"
     ]
    },
    {
     "name": "stderr",
     "output_type": "stream",
     "text": [
      " 22%|█████████████████▍                                                              | 212/972 [00:15<01:46,  7.16it/s]"
     ]
    },
    {
     "name": "stdout",
     "output_type": "stream",
     "text": [
      "zero points\n",
      "zero points\n",
      "zero points\n",
      "zero points\n",
      "zero points\n"
     ]
    },
    {
     "name": "stderr",
     "output_type": "stream",
     "text": [
      "\r",
      " 23%|██████████████████▎                                                             | 222/972 [00:15<01:20,  9.34it/s]"
     ]
    },
    {
     "name": "stdout",
     "output_type": "stream",
     "text": [
      "zero points\n",
      "zero points\n",
      "zero points\n",
      "zero points\n",
      "zero points\n",
      "zero points\n",
      "zero points\n"
     ]
    },
    {
     "name": "stderr",
     "output_type": "stream",
     "text": [
      " 27%|█████████████████████▌                                                          | 262/972 [00:19<01:19,  8.93it/s]"
     ]
    },
    {
     "name": "stdout",
     "output_type": "stream",
     "text": [
      "zero points\n"
     ]
    },
    {
     "name": "stderr",
     "output_type": "stream",
     "text": [
      " 27%|█████████████████████▉                                                          | 266/972 [00:19<01:52,  6.27it/s]"
     ]
    },
    {
     "name": "stdout",
     "output_type": "stream",
     "text": [
      "zero points\n",
      "zero points\n",
      "zero points\n",
      "zero points\n",
      "zero points\n",
      "zero points\n"
     ]
    },
    {
     "name": "stderr",
     "output_type": "stream",
     "text": [
      "\r",
      " 28%|██████████████████████▊                                                         | 277/972 [00:20<01:19,  8.70it/s]"
     ]
    },
    {
     "name": "stdout",
     "output_type": "stream",
     "text": [
      "zero points\n",
      "zero points\n",
      "zero points\n"
     ]
    },
    {
     "name": "stderr",
     "output_type": "stream",
     "text": [
      "\r",
      " 29%|███████████████████████▎                                                        | 284/972 [00:20<00:58, 11.78it/s]"
     ]
    },
    {
     "name": "stdout",
     "output_type": "stream",
     "text": [
      "zero points\n",
      "zero points\n",
      "zero points\n",
      "zero points\n",
      "zero points\n",
      "zero points\n"
     ]
    },
    {
     "name": "stderr",
     "output_type": "stream",
     "text": [
      " 33%|██████████████████████████▎                                                     | 320/972 [00:24<01:53,  5.76it/s]"
     ]
    },
    {
     "name": "stdout",
     "output_type": "stream",
     "text": [
      "zero points\n",
      "zero points\n",
      "zero points\n",
      "zero points\n"
     ]
    },
    {
     "name": "stderr",
     "output_type": "stream",
     "text": [
      "\r",
      " 34%|███████████████████████████▏                                                    | 330/972 [00:24<01:20,  8.02it/s]"
     ]
    },
    {
     "name": "stdout",
     "output_type": "stream",
     "text": [
      "zero points\n"
     ]
    },
    {
     "name": "stderr",
     "output_type": "stream",
     "text": [
      "\r",
      " 34%|███████████████████████████▌                                                    | 335/972 [00:24<01:01, 10.32it/s]"
     ]
    },
    {
     "name": "stdout",
     "output_type": "stream",
     "text": [
      "zero points\n",
      "zero points\n",
      "zero points\n",
      "zero points\n",
      "zero points\n",
      "zero points\n"
     ]
    },
    {
     "name": "stderr",
     "output_type": "stream",
     "text": [
      " 39%|███████████████████████████████                                                 | 377/972 [00:27<01:08,  8.68it/s]"
     ]
    },
    {
     "name": "stdout",
     "output_type": "stream",
     "text": [
      "zero points\n",
      "zero points\n",
      "zero points\n",
      "zero points\n",
      "zero points\n"
     ]
    },
    {
     "name": "stderr",
     "output_type": "stream",
     "text": [
      "\r",
      " 40%|████████████████████████████████                                                | 390/972 [00:28<00:49, 11.81it/s]"
     ]
    },
    {
     "name": "stdout",
     "output_type": "stream",
     "text": [
      "zero points\n",
      "zero points\n",
      "zero points\n",
      "zero points\n",
      "zero points\n",
      "zero points\n",
      "zero points\n",
      "zero points\n",
      "zero points\n",
      "zero points\n",
      "zero points\n",
      "zero points\n",
      "zero points\n"
     ]
    },
    {
     "name": "stderr",
     "output_type": "stream",
     "text": [
      "\r",
      " 42%|█████████████████████████████████▌                                              | 408/972 [00:28<00:34, 16.35it/s]"
     ]
    },
    {
     "name": "stdout",
     "output_type": "stream",
     "text": [
      "zero points\n",
      "zero points\n"
     ]
    },
    {
     "name": "stderr",
     "output_type": "stream",
     "text": [
      " 45%|███████████████████████████████████▊                                            | 435/972 [00:30<00:46, 11.65it/s]"
     ]
    },
    {
     "name": "stdout",
     "output_type": "stream",
     "text": [
      "zero points\n",
      "zero points\n",
      "zero points\n",
      "zero points\n"
     ]
    },
    {
     "name": "stderr",
     "output_type": "stream",
     "text": [
      "\r",
      " 46%|████████████████████████████████████▊                                           | 448/972 [00:30<00:34, 15.30it/s]"
     ]
    },
    {
     "name": "stdout",
     "output_type": "stream",
     "text": [
      "zero points\n",
      "zero points\n",
      "zero points\n",
      "zero points\n",
      "zero points\n"
     ]
    },
    {
     "name": "stderr",
     "output_type": "stream",
     "text": [
      "\r",
      " 47%|█████████████████████████████████████▌                                          | 457/972 [00:31<00:25, 20.36it/s]"
     ]
    },
    {
     "name": "stdout",
     "output_type": "stream",
     "text": [
      "zero points\n",
      "zero points\n",
      "zero points\n",
      "zero points\n",
      "zero points\n",
      "zero points\n",
      "zero points\n"
     ]
    },
    {
     "name": "stderr",
     "output_type": "stream",
     "text": [
      " 51%|████████████████████████████████████████▍                                       | 492/972 [00:33<00:45, 10.54it/s]"
     ]
    },
    {
     "name": "stdout",
     "output_type": "stream",
     "text": [
      "zero points\n"
     ]
    },
    {
     "name": "stderr",
     "output_type": "stream",
     "text": [
      "\r",
      " 51%|████████████████████████████████████████▋                                       | 495/972 [00:33<00:37, 12.63it/s]"
     ]
    },
    {
     "name": "stdout",
     "output_type": "stream",
     "text": [
      "zero points\n",
      "zero points\n",
      "zero points\n"
     ]
    },
    {
     "name": "stderr",
     "output_type": "stream",
     "text": [
      "\r",
      " 52%|█████████████████████████████████████████▋                                      | 506/972 [00:33<00:27, 17.15it/s]"
     ]
    },
    {
     "name": "stdout",
     "output_type": "stream",
     "text": [
      "zero points\n",
      "zero points\n",
      "zero points\n"
     ]
    },
    {
     "name": "stderr",
     "output_type": "stream",
     "text": [
      "\r",
      " 53%|██████████████████████████████████████████                                      | 511/972 [00:33<00:22, 20.28it/s]"
     ]
    },
    {
     "name": "stdout",
     "output_type": "stream",
     "text": [
      "zero points\n",
      "zero points\n",
      "zero points\n",
      "zero points\n",
      "zero points\n",
      "zero points\n"
     ]
    },
    {
     "name": "stderr",
     "output_type": "stream",
     "text": [
      " 56%|█████████████████████████████████████████████▏                                  | 549/972 [00:36<00:43,  9.68it/s]"
     ]
    },
    {
     "name": "stdout",
     "output_type": "stream",
     "text": [
      "zero points\n"
     ]
    },
    {
     "name": "stderr",
     "output_type": "stream",
     "text": [
      "\r",
      " 57%|█████████████████████████████████████████████▍                                  | 552/972 [00:37<00:37, 11.33it/s]"
     ]
    },
    {
     "name": "stdout",
     "output_type": "stream",
     "text": [
      "zero points\n",
      "zero points\n"
     ]
    },
    {
     "name": "stderr",
     "output_type": "stream",
     "text": [
      "\r",
      " 58%|██████████████████████████████████████████████▏                                 | 561/972 [00:37<00:28, 14.49it/s]"
     ]
    },
    {
     "name": "stdout",
     "output_type": "stream",
     "text": [
      "zero points\n",
      "zero points\n",
      "zero points\n",
      "zero points\n",
      "zero points\n"
     ]
    },
    {
     "name": "stderr",
     "output_type": "stream",
     "text": [
      "\r",
      " 59%|███████████████████████████████████████████████▏                                | 573/972 [00:37<00:20, 19.68it/s]"
     ]
    },
    {
     "name": "stdout",
     "output_type": "stream",
     "text": [
      "zero points\n",
      "zero points\n",
      "zero points\n",
      "zero points\n",
      "zero points\n",
      "zero points\n",
      "zero points\n",
      "zero points\n"
     ]
    },
    {
     "name": "stderr",
     "output_type": "stream",
     "text": [
      " 62%|█████████████████████████████████████████████████▍                              | 600/972 [00:40<00:44,  8.32it/s]"
     ]
    },
    {
     "name": "stdout",
     "output_type": "stream",
     "text": [
      "zero points\n",
      "zero points\n"
     ]
    },
    {
     "name": "stderr",
     "output_type": "stream",
     "text": [
      "\r",
      " 62%|█████████████████████████████████████████████████▋                              | 604/972 [00:41<01:02,  5.90it/s]"
     ]
    },
    {
     "name": "stdout",
     "output_type": "stream",
     "text": [
      "zero points\n",
      "zero points\n",
      "zero points\n",
      "zero points\n",
      "zero points\n",
      "zero points\n",
      "zero points\n"
     ]
    },
    {
     "name": "stderr",
     "output_type": "stream",
     "text": [
      "\r",
      " 63%|██████████████████████████████████████████████████▌                             | 614/972 [00:42<00:43,  8.20it/s]"
     ]
    },
    {
     "name": "stdout",
     "output_type": "stream",
     "text": [
      "zero points\n",
      "zero points\n",
      "zero points\n"
     ]
    },
    {
     "name": "stderr",
     "output_type": "stream",
     "text": [
      "\r",
      " 64%|██████████████████████████████████████████████████▉                             | 619/972 [00:42<00:34, 10.18it/s]"
     ]
    },
    {
     "name": "stdout",
     "output_type": "stream",
     "text": [
      "zero points\n",
      "zero points\n",
      "zero points\n",
      "zero points\n",
      "zero points\n"
     ]
    },
    {
     "name": "stderr",
     "output_type": "stream",
     "text": [
      "\r",
      " 65%|███████████████████████████████████████████████████▊                            | 629/972 [00:42<00:24, 13.94it/s]"
     ]
    },
    {
     "name": "stdout",
     "output_type": "stream",
     "text": [
      "zero points\n",
      "zero points\n",
      "zero points\n"
     ]
    },
    {
     "name": "stderr",
     "output_type": "stream",
     "text": [
      "\r",
      " 65%|████████████████████████████████████████████████████▎                           | 635/972 [00:42<00:20, 16.64it/s]"
     ]
    },
    {
     "name": "stdout",
     "output_type": "stream",
     "text": [
      "zero points\n",
      "zero points\n",
      "zero points\n",
      "zero points\n",
      "zero points\n"
     ]
    },
    {
     "name": "stderr",
     "output_type": "stream",
     "text": [
      " 68%|██████████████████████████████████████████████████████▏                         | 659/972 [00:46<00:41,  7.49it/s]"
     ]
    },
    {
     "name": "stdout",
     "output_type": "stream",
     "text": [
      "zero points\n",
      "zero points\n",
      "zero points\n"
     ]
    },
    {
     "name": "stderr",
     "output_type": "stream",
     "text": [
      "\r",
      " 69%|██████████████████████████████████████████████████████▉                         | 668/972 [00:46<00:30,  9.97it/s]"
     ]
    },
    {
     "name": "stdout",
     "output_type": "stream",
     "text": [
      "zero points\n"
     ]
    },
    {
     "name": "stderr",
     "output_type": "stream",
     "text": [
      "\r",
      " 69%|███████████████████████████████████████████████████████▏                        | 671/972 [00:46<00:24, 12.05it/s]"
     ]
    },
    {
     "name": "stdout",
     "output_type": "stream",
     "text": [
      "zero points\n",
      "zero points\n",
      "zero points\n",
      "zero points\n",
      "zero points\n",
      "zero points\n",
      "zero points\n",
      "zero points\n",
      "zero points\n"
     ]
    },
    {
     "name": "stderr",
     "output_type": "stream",
     "text": [
      "\r",
      " 70%|████████████████████████████████████████████████████████▎                       | 684/972 [00:46<00:17, 16.54it/s]"
     ]
    },
    {
     "name": "stdout",
     "output_type": "stream",
     "text": [
      "zero points\n",
      "zero points\n",
      "zero points\n",
      "zero points\n"
     ]
    },
    {
     "name": "stderr",
     "output_type": "stream",
     "text": [
      "\r",
      " 71%|█████████████████████████████████████████████████████████                       | 693/972 [00:46<00:13, 21.32it/s]"
     ]
    },
    {
     "name": "stdout",
     "output_type": "stream",
     "text": [
      "zero points\n"
     ]
    },
    {
     "name": "stderr",
     "output_type": "stream",
     "text": [
      " 73%|██████████████████████████████████████████████████████████▊                     | 714/972 [00:50<00:30,  8.49it/s]"
     ]
    },
    {
     "name": "stdout",
     "output_type": "stream",
     "text": [
      "zero points\n",
      "zero points\n",
      "zero points\n",
      "zero points\n"
     ]
    },
    {
     "name": "stderr",
     "output_type": "stream",
     "text": [
      "\r",
      " 74%|███████████████████████████████████████████████████████████▍                    | 722/972 [00:50<00:21, 11.40it/s]"
     ]
    },
    {
     "name": "stdout",
     "output_type": "stream",
     "text": [
      "zero points\n",
      "zero points\n",
      "zero points\n",
      "zero points\n",
      "zero points\n",
      "zero points\n",
      "zero points\n"
     ]
    },
    {
     "name": "stderr",
     "output_type": "stream",
     "text": [
      "\r",
      " 76%|████████████████████████████████████████████████████████████▍                   | 734/972 [00:50<00:15, 15.63it/s]"
     ]
    },
    {
     "name": "stdout",
     "output_type": "stream",
     "text": [
      "zero points\n",
      "zero points\n",
      "zero points\n",
      "zero points\n",
      "zero points\n",
      "zero points\n",
      "zero points\n",
      "zero points\n",
      "zero points\n",
      "zero points\n"
     ]
    },
    {
     "name": "stderr",
     "output_type": "stream",
     "text": [
      " 78%|██████████████████████████████████████████████████████████████▍                 | 759/972 [00:53<00:27,  7.74it/s]"
     ]
    },
    {
     "name": "stdout",
     "output_type": "stream",
     "text": [
      "zero points\n"
     ]
    },
    {
     "name": "stderr",
     "output_type": "stream",
     "text": [
      " 79%|███████████████████████████████████████████████████████████████▏                | 767/972 [00:54<00:24,  8.23it/s]"
     ]
    },
    {
     "name": "stdout",
     "output_type": "stream",
     "text": [
      "zero points\n",
      "zero points\n",
      "zero points\n"
     ]
    },
    {
     "name": "stderr",
     "output_type": "stream",
     "text": [
      "\r",
      " 80%|███████████████████████████████████████████████████████████████▉                | 777/972 [00:54<00:17, 10.93it/s]"
     ]
    },
    {
     "name": "stdout",
     "output_type": "stream",
     "text": [
      "zero points\n",
      "zero points\n",
      "zero points\n",
      "zero points\n",
      "zero points\n",
      "zero points\n"
     ]
    },
    {
     "name": "stderr",
     "output_type": "stream",
     "text": [
      "\r",
      " 82%|█████████████████████████████████████████████████████████████████▍              | 795/972 [00:54<00:11, 15.22it/s]"
     ]
    },
    {
     "name": "stdout",
     "output_type": "stream",
     "text": [
      "zero points\n"
     ]
    },
    {
     "name": "stderr",
     "output_type": "stream",
     "text": [
      "\r",
      " 83%|██████████████████████████████████████████████████████████████████              | 803/972 [00:54<00:08, 19.91it/s]"
     ]
    },
    {
     "name": "stdout",
     "output_type": "stream",
     "text": [
      "zero points\n"
     ]
    },
    {
     "name": "stderr",
     "output_type": "stream",
     "text": [
      " 84%|███████████████████████████████████████████████████████████████████▏            | 817/972 [00:56<00:14, 11.00it/s]"
     ]
    },
    {
     "name": "stdout",
     "output_type": "stream",
     "text": [
      "zero points\n"
     ]
    },
    {
     "name": "stderr",
     "output_type": "stream",
     "text": [
      "\r",
      " 85%|███████████████████████████████████████████████████████████████████▋            | 822/972 [00:57<00:15,  9.99it/s]"
     ]
    },
    {
     "name": "stdout",
     "output_type": "stream",
     "text": [
      "zero points\n",
      "zero points\n",
      "zero points\n",
      "zero points\n",
      "zero points\n",
      "zero points\n"
     ]
    },
    {
     "name": "stderr",
     "output_type": "stream",
     "text": [
      "\r",
      " 86%|████████████████████████████████████████████████████████████████████▌           | 833/972 [00:57<00:10, 13.70it/s]"
     ]
    },
    {
     "name": "stdout",
     "output_type": "stream",
     "text": [
      "zero points\n",
      "zero points\n",
      "zero points\n",
      "zero points\n",
      "zero points\n",
      "zero points\n",
      "zero points\n",
      "zero points\n",
      "zero points\n",
      "zero points\n",
      "zero points\n",
      "zero points\n",
      "zero points\n"
     ]
    },
    {
     "name": "stderr",
     "output_type": "stream",
     "text": [
      " 90%|████████████████████████████████████████████████████████████████████████        | 875/972 [01:00<00:08, 11.65it/s]"
     ]
    },
    {
     "name": "stdout",
     "output_type": "stream",
     "text": [
      "zero points\n"
     ]
    },
    {
     "name": "stderr",
     "output_type": "stream",
     "text": [
      "\r",
      " 91%|████████████████████████████████████████████████████████████████████████▌       | 881/972 [01:00<00:07, 11.74it/s]"
     ]
    },
    {
     "name": "stdout",
     "output_type": "stream",
     "text": [
      "zero points\n",
      "zero points\n",
      "zero points\n",
      "zero points\n"
     ]
    },
    {
     "name": "stderr",
     "output_type": "stream",
     "text": [
      "\r",
      " 92%|█████████████████████████████████████████████████████████████████████████▋      | 896/972 [01:01<00:04, 16.12it/s]"
     ]
    },
    {
     "name": "stdout",
     "output_type": "stream",
     "text": [
      "zero points\n",
      "zero points\n",
      "zero points\n"
     ]
    },
    {
     "name": "stderr",
     "output_type": "stream",
     "text": [
      "\r",
      " 93%|██████████████████████████████████████████████████████████████████████████▎     | 903/972 [01:01<00:03, 20.29it/s]"
     ]
    },
    {
     "name": "stdout",
     "output_type": "stream",
     "text": [
      "zero points\n",
      "zero points\n",
      "zero points\n",
      "zero points\n",
      "zero points\n"
     ]
    },
    {
     "name": "stderr",
     "output_type": "stream",
     "text": [
      " 95%|████████████████████████████████████████████████████████████████████████████▎   | 927/972 [01:03<00:04, 10.11it/s]"
     ]
    },
    {
     "name": "stdout",
     "output_type": "stream",
     "text": [
      "zero points\n",
      "zero points\n",
      "zero points\n",
      "zero points\n",
      "zero points\n",
      "zero points\n",
      "zero points\n",
      "zero points\n",
      "zero points\n",
      "zero points\n"
     ]
    },
    {
     "name": "stderr",
     "output_type": "stream",
     "text": [
      "\r",
      " 98%|██████████████████████████████████████████████████████████████████████████████▎ | 952/972 [01:04<00:01, 14.19it/s]"
     ]
    },
    {
     "name": "stdout",
     "output_type": "stream",
     "text": [
      "zero points\n",
      "zero points\n",
      "zero points\n",
      "zero points\n"
     ]
    },
    {
     "name": "stderr",
     "output_type": "stream",
     "text": [
      "\r",
      " 99%|███████████████████████████████████████████████████████████████████████████████▏| 962/972 [01:04<00:00, 17.46it/s]"
     ]
    },
    {
     "name": "stdout",
     "output_type": "stream",
     "text": [
      "zero points\n",
      "zero points\n",
      "zero points\n",
      "zero points\n"
     ]
    },
    {
     "name": "stderr",
     "output_type": "stream",
     "text": [
      "\r",
      "100%|███████████████████████████████████████████████████████████████████████████████▊| 970/972 [01:04<00:00, 22.19it/s]"
     ]
    },
    {
     "name": "stdout",
     "output_type": "stream",
     "text": [
      "zero points\n"
     ]
    },
    {
     "name": "stderr",
     "output_type": "stream",
     "text": [
      "100%|████████████████████████████████████████████████████████████████████████████████| 972/972 [01:04<00:00, 15.09it/s]\n",
      " 96%|███████████████████████████████████████████████████████████████████████████▉   | 934/972 [00:03<00:00, 177.20it/s]"
     ]
    },
    {
     "name": "stdout",
     "output_type": "stream",
     "text": [
      "2020-06-12 13:11:04.067600-Saving C:/Users/SING1761/OneDrive Corp/OneDrive - Atkins Ltd/my_work/SBRI_3D/input_preprocessed_data/hdf5_files\\half_524900_0.h5...\n"
     ]
    },
    {
     "name": "stderr",
     "output_type": "stream",
     "text": [
      "100%|███████████████████████████████████████████████████████████████████████████████| 972/972 [00:09<00:00, 101.83it/s]\n"
     ]
    },
    {
     "name": "stdout",
     "output_type": "stream",
     "text": [
      "2020-06-12 13:11:12.211360-Computing block id of 6733248 points...\n",
      "2020-06-12 13:11:13.284486-Collecting points belong to each block...\n",
      "2020-06-12 13:11:23.207913-C:/Users/SING1761/OneDrive Corp/OneDrive - Atkins Ltd/my_work/SBRI_3D/input_preprocessed_data/numpys/XYZRGB_526350.npy is split into 426 blocks.\n"
     ]
    },
    {
     "name": "stderr",
     "output_type": "stream",
     "text": [
      "100%|█████████████████████████████████████████████████████████████████████████████| 426/426 [00:00<00:00, 35595.93it/s]\n"
     ]
    },
    {
     "name": "stdout",
     "output_type": "stream",
     "text": [
      "2020-06-12 13:11:23.226863-83 of 426 blocks are merged.\n"
     ]
    },
    {
     "name": "stderr",
     "output_type": "stream",
     "text": [
      "\r",
      "  0%|                                                                                          | 0/425 [00:00<?, ?it/s]"
     ]
    },
    {
     "name": "stdout",
     "output_type": "stream",
     "text": [
      "zero points\n"
     ]
    },
    {
     "name": "stderr",
     "output_type": "stream",
     "text": [
      "\r",
      "  1%|█▏                                                                                | 6/425 [00:00<00:07, 58.98it/s]"
     ]
    },
    {
     "name": "stdout",
     "output_type": "stream",
     "text": [
      "zero points\n",
      "zero points\n",
      "zero points\n",
      "zero points\n"
     ]
    },
    {
     "name": "stderr",
     "output_type": "stream",
     "text": [
      "\r",
      "  5%|████▍                                                                            | 23/425 [00:00<00:05, 73.09it/s]"
     ]
    },
    {
     "name": "stdout",
     "output_type": "stream",
     "text": [
      "zero points\n"
     ]
    },
    {
     "name": "stderr",
     "output_type": "stream",
     "text": [
      "\r",
      "  7%|█████▋                                                                           | 30/425 [00:00<00:07, 50.09it/s]"
     ]
    },
    {
     "name": "stdout",
     "output_type": "stream",
     "text": [
      "zero points\n"
     ]
    },
    {
     "name": "stderr",
     "output_type": "stream",
     "text": [
      " 12%|█████████▎                                                                       | 49/425 [00:02<00:32, 11.69it/s]"
     ]
    },
    {
     "name": "stdout",
     "output_type": "stream",
     "text": [
      "zero points\n",
      "zero points\n",
      "zero points\n",
      "zero points\n",
      "zero points\n",
      "zero points\n",
      "zero points\n",
      "zero points\n",
      "zero points\n",
      "zero points\n",
      "zero points\n",
      "zero points\n",
      "zero points\n"
     ]
    },
    {
     "name": "stderr",
     "output_type": "stream",
     "text": [
      " 21%|█████████████████▎                                                               | 91/425 [00:05<00:39,  8.48it/s]"
     ]
    },
    {
     "name": "stdout",
     "output_type": "stream",
     "text": [
      "zero points\n"
     ]
    },
    {
     "name": "stderr",
     "output_type": "stream",
     "text": [
      "\r",
      " 23%|██████████████████▎                                                              | 96/425 [00:05<00:30, 10.87it/s]"
     ]
    },
    {
     "name": "stdout",
     "output_type": "stream",
     "text": [
      "zero points\n"
     ]
    },
    {
     "name": "stderr",
     "output_type": "stream",
     "text": [
      "\r",
      " 24%|███████████████████                                                             | 101/425 [00:06<00:29, 10.83it/s]"
     ]
    },
    {
     "name": "stdout",
     "output_type": "stream",
     "text": [
      "zero points\n",
      "zero points\n",
      "zero points\n",
      "zero points\n",
      "zero points\n",
      "zero points\n",
      "zero points\n"
     ]
    },
    {
     "name": "stderr",
     "output_type": "stream",
     "text": [
      " 32%|█████████████████████████▍                                                      | 135/425 [00:09<00:35,  8.09it/s]"
     ]
    },
    {
     "name": "stdout",
     "output_type": "stream",
     "text": [
      "zero points\n"
     ]
    },
    {
     "name": "stderr",
     "output_type": "stream",
     "text": [
      "\r",
      " 33%|██████████████████████████▎                                                     | 140/425 [00:09<00:35,  7.99it/s]"
     ]
    },
    {
     "name": "stdout",
     "output_type": "stream",
     "text": [
      "zero points\n",
      "zero points\n",
      "zero points\n",
      "zero points\n",
      "zero points\n"
     ]
    },
    {
     "name": "stderr",
     "output_type": "stream",
     "text": [
      " 41%|████████████████████████████████▉                                               | 175/425 [00:13<00:24, 10.05it/s]"
     ]
    },
    {
     "name": "stdout",
     "output_type": "stream",
     "text": [
      "zero points\n",
      "zero points\n",
      "zero points\n"
     ]
    },
    {
     "name": "stderr",
     "output_type": "stream",
     "text": [
      " 46%|████████████████████████████████████▉                                           | 196/425 [00:15<00:21, 10.90it/s]"
     ]
    },
    {
     "name": "stdout",
     "output_type": "stream",
     "text": [
      "zero points\n",
      "zero points\n",
      "zero points\n"
     ]
    },
    {
     "name": "stderr",
     "output_type": "stream",
     "text": [
      " 50%|███████████████████████████████████████▋                                        | 211/425 [00:17<00:23,  9.18it/s]"
     ]
    },
    {
     "name": "stdout",
     "output_type": "stream",
     "text": [
      "zero points\n"
     ]
    },
    {
     "name": "stderr",
     "output_type": "stream",
     "text": [
      "\r",
      " 50%|████████████████████████████████████████▎                                       | 214/425 [00:17<00:18, 11.59it/s]"
     ]
    },
    {
     "name": "stdout",
     "output_type": "stream",
     "text": [
      "zero points\n",
      "zero points\n",
      "zero points\n",
      "zero points\n"
     ]
    },
    {
     "name": "stderr",
     "output_type": "stream",
     "text": [
      " 55%|███████████████████████████████████████████▋                                    | 232/425 [00:20<00:24,  8.01it/s]"
     ]
    },
    {
     "name": "stdout",
     "output_type": "stream",
     "text": [
      "zero points\n",
      "zero points\n"
     ]
    },
    {
     "name": "stderr",
     "output_type": "stream",
     "text": [
      "\r",
      " 56%|████████████████████████████████████████████▌                                   | 237/425 [00:20<00:18, 10.23it/s]"
     ]
    },
    {
     "name": "stdout",
     "output_type": "stream",
     "text": [
      "zero points\n",
      "zero points\n"
     ]
    },
    {
     "name": "stderr",
     "output_type": "stream",
     "text": [
      " 59%|███████████████████████████████████████████████                                 | 250/425 [00:22<00:20,  8.54it/s]"
     ]
    },
    {
     "name": "stdout",
     "output_type": "stream",
     "text": [
      "zero points\n",
      "zero points\n",
      "zero points\n"
     ]
    },
    {
     "name": "stderr",
     "output_type": "stream",
     "text": [
      "\r",
      " 60%|████████████████████████████████████████████████▍                               | 257/425 [00:22<00:14, 11.26it/s]"
     ]
    },
    {
     "name": "stdout",
     "output_type": "stream",
     "text": [
      "zero points\n"
     ]
    },
    {
     "name": "stderr",
     "output_type": "stream",
     "text": [
      " 64%|██████████████████████████████████████████████████▊                             | 270/425 [00:24<00:17,  8.96it/s]"
     ]
    },
    {
     "name": "stdout",
     "output_type": "stream",
     "text": [
      "zero points\n"
     ]
    },
    {
     "name": "stderr",
     "output_type": "stream",
     "text": [
      " 69%|███████████████████████████████████████████████████████▎                        | 294/425 [00:27<00:12, 10.11it/s]"
     ]
    },
    {
     "name": "stdout",
     "output_type": "stream",
     "text": [
      "zero points\n"
     ]
    },
    {
     "name": "stderr",
     "output_type": "stream",
     "text": [
      "\r",
      " 70%|███████████████████████████████████████████████████████▉                        | 297/425 [00:27<00:10, 11.74it/s]"
     ]
    },
    {
     "name": "stdout",
     "output_type": "stream",
     "text": [
      "zero points\n"
     ]
    },
    {
     "name": "stderr",
     "output_type": "stream",
     "text": [
      " 72%|█████████████████████████████████████████████████████████▉                      | 308/425 [00:29<00:16,  7.18it/s]"
     ]
    },
    {
     "name": "stdout",
     "output_type": "stream",
     "text": [
      "zero points\n",
      "zero points\n"
     ]
    },
    {
     "name": "stderr",
     "output_type": "stream",
     "text": [
      "\r",
      " 74%|███████████████████████████████████████████████████████████▎                    | 315/425 [00:30<00:11,  9.62it/s]"
     ]
    },
    {
     "name": "stdout",
     "output_type": "stream",
     "text": [
      "zero points\n",
      "zero points\n"
     ]
    },
    {
     "name": "stderr",
     "output_type": "stream",
     "text": [
      "\r",
      " 75%|███████████████████████████████████████████████████████████▊                    | 318/425 [00:30<00:09, 10.88it/s]"
     ]
    },
    {
     "name": "stdout",
     "output_type": "stream",
     "text": [
      "zero points\n"
     ]
    },
    {
     "name": "stderr",
     "output_type": "stream",
     "text": [
      " 77%|█████████████████████████████████████████████████████████████▋                  | 328/425 [00:33<00:18,  5.33it/s]"
     ]
    },
    {
     "name": "stdout",
     "output_type": "stream",
     "text": [
      "zero points\n",
      "zero points\n"
     ]
    },
    {
     "name": "stderr",
     "output_type": "stream",
     "text": [
      "\r",
      " 79%|███████████████████████████████████████████████████████████████                 | 335/425 [00:33<00:12,  7.18it/s]"
     ]
    },
    {
     "name": "stdout",
     "output_type": "stream",
     "text": [
      "zero points\n"
     ]
    },
    {
     "name": "stderr",
     "output_type": "stream",
     "text": [
      "\r",
      " 79%|███████████████████████████████████████████████████████████████▍                | 337/425 [00:33<00:16,  5.34it/s]"
     ]
    },
    {
     "name": "stdout",
     "output_type": "stream",
     "text": [
      "zero points\n"
     ]
    },
    {
     "name": "stderr",
     "output_type": "stream",
     "text": [
      " 84%|██████████████████████████████████████████████████████████████████▊             | 355/425 [00:36<00:10,  6.89it/s]"
     ]
    },
    {
     "name": "stdout",
     "output_type": "stream",
     "text": [
      "zero points\n"
     ]
    },
    {
     "name": "stderr",
     "output_type": "stream",
     "text": [
      "\r",
      " 84%|███████████████████████████████████████████████████████████████████▏            | 357/425 [00:37<00:12,  5.33it/s]"
     ]
    },
    {
     "name": "stdout",
     "output_type": "stream",
     "text": [
      "zero points\n"
     ]
    },
    {
     "name": "stderr",
     "output_type": "stream",
     "text": [
      " 89%|███████████████████████████████████████████████████████████████████████▏        | 378/425 [00:40<00:08,  5.75it/s]"
     ]
    },
    {
     "name": "stdout",
     "output_type": "stream",
     "text": [
      "zero points\n"
     ]
    },
    {
     "name": "stderr",
     "output_type": "stream",
     "text": [
      " 92%|█████████████████████████████████████████████████████████████████████████▊      | 392/425 [00:41<00:03,  8.95it/s]"
     ]
    },
    {
     "name": "stdout",
     "output_type": "stream",
     "text": [
      "zero points\n"
     ]
    },
    {
     "name": "stderr",
     "output_type": "stream",
     "text": [
      " 93%|██████████████████████████████████████████████████████████████████████████▋     | 397/425 [00:42<00:02,  9.39it/s]"
     ]
    },
    {
     "name": "stdout",
     "output_type": "stream",
     "text": [
      "zero points\n"
     ]
    },
    {
     "name": "stderr",
     "output_type": "stream",
     "text": [
      " 95%|████████████████████████████████████████████████████████████████████████████▏   | 405/425 [00:42<00:01, 12.23it/s]"
     ]
    },
    {
     "name": "stdout",
     "output_type": "stream",
     "text": [
      "zero points\n",
      "zero points\n",
      "zero points\n",
      "zero points\n"
     ]
    },
    {
     "name": "stderr",
     "output_type": "stream",
     "text": [
      "\r",
      " 97%|█████████████████████████████████████████████████████████████████████████████▌  | 412/425 [00:42<00:00, 15.54it/s]"
     ]
    },
    {
     "name": "stdout",
     "output_type": "stream",
     "text": [
      "zero points\n",
      "zero points\n"
     ]
    },
    {
     "name": "stderr",
     "output_type": "stream",
     "text": [
      "\r",
      " 98%|██████████████████████████████████████████████████████████████████████████████▎ | 416/425 [00:43<00:00, 11.89it/s]"
     ]
    },
    {
     "name": "stdout",
     "output_type": "stream",
     "text": [
      "zero points\n",
      "zero points\n",
      "zero points\n",
      "zero points\n",
      "zero points\n"
     ]
    },
    {
     "name": "stderr",
     "output_type": "stream",
     "text": [
      "100%|████████████████████████████████████████████████████████████████████████████████| 425/425 [00:43<00:00,  9.80it/s]\n",
      " 90%|███████████████████████████████████████████████████████████████████████▏       | 383/425 [00:03<00:00, 115.14it/s]"
     ]
    },
    {
     "name": "stdout",
     "output_type": "stream",
     "text": [
      "2020-06-12 13:12:10.087580-Saving C:/Users/SING1761/OneDrive Corp/OneDrive - Atkins Ltd/my_work/SBRI_3D/input_preprocessed_data/hdf5_files\\zero_524900_0.h5...\n"
     ]
    },
    {
     "name": "stderr",
     "output_type": "stream",
     "text": [
      "100%|████████████████████████████████████████████████████████████████████████████████| 425/425 [00:05<00:00, 71.67it/s]\n"
     ]
    },
    {
     "name": "stdout",
     "output_type": "stream",
     "text": [
      "2020-06-12 13:12:12.522904-Computing block id of 6733248 points...\n",
      "2020-06-12 13:12:13.560128-Collecting points belong to each block...\n",
      "2020-06-12 13:12:23.133332-C:/Users/SING1761/OneDrive Corp/OneDrive - Atkins Ltd/my_work/SBRI_3D/input_preprocessed_data/numpys/XYZRGB_526350.npy is split into 452 blocks.\n"
     ]
    },
    {
     "name": "stderr",
     "output_type": "stream",
     "text": [
      "100%|█████████████████████████████████████████████████████████████████████████████| 452/452 [00:00<00:00, 45306.98it/s]\n"
     ]
    },
    {
     "name": "stdout",
     "output_type": "stream",
     "text": [
      "2020-06-12 13:12:23.152281-104 of 452 blocks are merged.\n"
     ]
    },
    {
     "name": "stderr",
     "output_type": "stream",
     "text": [
      "\r",
      "  0%|                                                                                          | 0/451 [00:00<?, ?it/s]"
     ]
    },
    {
     "name": "stdout",
     "output_type": "stream",
     "text": [
      "zero points\n",
      "zero points\n",
      "zero points\n",
      "zero points\n",
      "zero points\n",
      "zero points\n",
      "zero points\n",
      "zero points\n"
     ]
    },
    {
     "name": "stderr",
     "output_type": "stream",
     "text": [
      "\r",
      "  5%|███▋                                                                            | 21/451 [00:00<00:02, 208.48it/s]"
     ]
    },
    {
     "name": "stdout",
     "output_type": "stream",
     "text": [
      "zero points\n",
      "zero points\n"
     ]
    },
    {
     "name": "stderr",
     "output_type": "stream",
     "text": [
      "\r",
      "  6%|████▉                                                                           | 28/451 [00:00<00:03, 106.08it/s]"
     ]
    },
    {
     "name": "stdout",
     "output_type": "stream",
     "text": [
      "zero points\n",
      "zero points\n",
      "zero points\n"
     ]
    },
    {
     "name": "stderr",
     "output_type": "stream",
     "text": [
      " 10%|███████▋                                                                         | 43/451 [00:01<00:18, 21.75it/s]"
     ]
    },
    {
     "name": "stdout",
     "output_type": "stream",
     "text": [
      "zero points\n",
      "zero points\n"
     ]
    },
    {
     "name": "stderr",
     "output_type": "stream",
     "text": [
      "\r",
      " 10%|████████▍                                                                        | 47/451 [00:01<00:21, 19.12it/s]"
     ]
    },
    {
     "name": "stdout",
     "output_type": "stream",
     "text": [
      "zero points\n"
     ]
    },
    {
     "name": "stderr",
     "output_type": "stream",
     "text": [
      "\r",
      " 12%|█████████▉                                                                       | 55/451 [00:01<00:16, 24.42it/s]"
     ]
    },
    {
     "name": "stdout",
     "output_type": "stream",
     "text": [
      "zero points\n",
      "zero points\n",
      "zero points\n",
      "zero points\n",
      "zero points\n"
     ]
    },
    {
     "name": "stderr",
     "output_type": "stream",
     "text": [
      "\r",
      " 16%|█████████████▎                                                                   | 74/451 [00:01<00:11, 33.00it/s]"
     ]
    },
    {
     "name": "stdout",
     "output_type": "stream",
     "text": [
      "zero points\n"
     ]
    },
    {
     "name": "stderr",
     "output_type": "stream",
     "text": [
      " 22%|█████████████████▊                                                               | 99/451 [00:04<00:31, 11.05it/s]"
     ]
    },
    {
     "name": "stdout",
     "output_type": "stream",
     "text": [
      "zero points\n",
      "zero points\n",
      "zero points\n",
      "zero points\n",
      "zero points\n",
      "zero points\n",
      "zero points\n",
      "zero points\n",
      "zero points\n",
      "zero points\n",
      "zero points\n",
      "zero points\n"
     ]
    },
    {
     "name": "stderr",
     "output_type": "stream",
     "text": [
      " 32%|█████████████████████████▌                                                      | 144/451 [00:07<00:30, 10.02it/s]"
     ]
    },
    {
     "name": "stdout",
     "output_type": "stream",
     "text": [
      "zero points\n",
      "zero points\n",
      "zero points\n",
      "zero points\n",
      "zero points\n",
      "zero points\n"
     ]
    },
    {
     "name": "stderr",
     "output_type": "stream",
     "text": [
      " 40%|████████████████████████████████▎                                               | 182/451 [00:11<00:22, 12.04it/s]"
     ]
    },
    {
     "name": "stdout",
     "output_type": "stream",
     "text": [
      "zero points\n",
      "zero points\n",
      "zero points\n",
      "zero points\n",
      "zero points\n",
      "zero points\n"
     ]
    },
    {
     "name": "stderr",
     "output_type": "stream",
     "text": [
      " 46%|████████████████████████████████████▋                                           | 207/451 [00:13<00:23, 10.52it/s]"
     ]
    },
    {
     "name": "stdout",
     "output_type": "stream",
     "text": [
      "zero points\n"
     ]
    },
    {
     "name": "stderr",
     "output_type": "stream",
     "text": [
      "\r",
      " 47%|█████████████████████████████████████▎                                          | 210/451 [00:13<00:18, 12.91it/s]"
     ]
    },
    {
     "name": "stdout",
     "output_type": "stream",
     "text": [
      "zero points\n"
     ]
    },
    {
     "name": "stderr",
     "output_type": "stream",
     "text": [
      " 49%|██████████████████████████████████████▊                                         | 219/451 [00:14<00:29,  7.80it/s]"
     ]
    },
    {
     "name": "stdout",
     "output_type": "stream",
     "text": [
      "zero points\n"
     ]
    },
    {
     "name": "stderr",
     "output_type": "stream",
     "text": [
      "\r",
      " 50%|████████████████████████████████████████                                        | 226/451 [00:15<00:21, 10.46it/s]"
     ]
    },
    {
     "name": "stdout",
     "output_type": "stream",
     "text": [
      "zero points\n",
      "zero points\n"
     ]
    },
    {
     "name": "stderr",
     "output_type": "stream",
     "text": [
      " 54%|██████████████████████████████████████████▉                                     | 242/451 [00:17<00:20,  9.97it/s]"
     ]
    },
    {
     "name": "stdout",
     "output_type": "stream",
     "text": [
      "zero points\n",
      "zero points\n",
      "zero points\n"
     ]
    },
    {
     "name": "stderr",
     "output_type": "stream",
     "text": [
      "\r",
      " 55%|███████████████████████████████████████████▉                                    | 248/451 [00:17<00:15, 12.70it/s]"
     ]
    },
    {
     "name": "stdout",
     "output_type": "stream",
     "text": [
      "zero points\n"
     ]
    },
    {
     "name": "stderr",
     "output_type": "stream",
     "text": [
      " 57%|█████████████████████████████████████████████▉                                  | 259/451 [00:18<00:22,  8.53it/s]"
     ]
    },
    {
     "name": "stdout",
     "output_type": "stream",
     "text": [
      "zero points\n",
      "zero points\n"
     ]
    },
    {
     "name": "stderr",
     "output_type": "stream",
     "text": [
      "\r",
      " 59%|███████████████████████████████████████████████                                 | 265/451 [00:19<00:16, 11.10it/s]"
     ]
    },
    {
     "name": "stdout",
     "output_type": "stream",
     "text": [
      "zero points\n",
      "zero points\n",
      "zero points\n",
      "zero points\n",
      "zero points\n"
     ]
    },
    {
     "name": "stderr",
     "output_type": "stream",
     "text": [
      " 62%|█████████████████████████████████████████████████▎                              | 278/451 [00:20<00:23,  7.23it/s]"
     ]
    },
    {
     "name": "stdout",
     "output_type": "stream",
     "text": [
      "zero points\n"
     ]
    },
    {
     "name": "stderr",
     "output_type": "stream",
     "text": [
      "\r",
      " 63%|██████████████████████████████████████████████████▋                             | 286/451 [00:20<00:17,  9.65it/s]"
     ]
    },
    {
     "name": "stdout",
     "output_type": "stream",
     "text": [
      "zero points\n",
      "zero points\n",
      "zero points\n"
     ]
    },
    {
     "name": "stderr",
     "output_type": "stream",
     "text": [
      " 66%|█████████████████████████████████████████████████████                           | 299/451 [00:22<00:21,  6.99it/s]"
     ]
    },
    {
     "name": "stdout",
     "output_type": "stream",
     "text": [
      "zero points\n"
     ]
    },
    {
     "name": "stderr",
     "output_type": "stream",
     "text": [
      "\r",
      " 68%|██████████████████████████████████████████████████████▍                         | 307/451 [00:22<00:15,  9.22it/s]"
     ]
    },
    {
     "name": "stdout",
     "output_type": "stream",
     "text": [
      "zero points\n"
     ]
    },
    {
     "name": "stderr",
     "output_type": "stream",
     "text": [
      "\r",
      " 69%|██████████████████████████████████████████████████████▉                         | 310/451 [00:23<00:12, 10.91it/s]"
     ]
    },
    {
     "name": "stdout",
     "output_type": "stream",
     "text": [
      "zero points\n",
      "zero points\n"
     ]
    },
    {
     "name": "stderr",
     "output_type": "stream",
     "text": [
      " 71%|█████████████████████████████████████████████████████████                       | 322/451 [00:25<00:16,  7.74it/s]"
     ]
    },
    {
     "name": "stdout",
     "output_type": "stream",
     "text": [
      "zero points\n"
     ]
    },
    {
     "name": "stderr",
     "output_type": "stream",
     "text": [
      "\r",
      " 73%|██████████████████████████████████████████████████████████▎                     | 329/451 [00:25<00:11, 10.53it/s]"
     ]
    },
    {
     "name": "stdout",
     "output_type": "stream",
     "text": [
      "zero points\n"
     ]
    },
    {
     "name": "stderr",
     "output_type": "stream",
     "text": [
      "\r",
      " 74%|███████████████████████████████████████████████████████████                     | 333/451 [00:25<00:09, 12.87it/s]"
     ]
    },
    {
     "name": "stdout",
     "output_type": "stream",
     "text": [
      "zero points\n"
     ]
    },
    {
     "name": "stderr",
     "output_type": "stream",
     "text": [
      " 76%|████████████████████████████████████████████████████████████▊                   | 343/451 [00:27<00:14,  7.46it/s]"
     ]
    },
    {
     "name": "stdout",
     "output_type": "stream",
     "text": [
      "zero points\n",
      "zero points\n"
     ]
    },
    {
     "name": "stderr",
     "output_type": "stream",
     "text": [
      "\r",
      " 78%|██████████████████████████████████████████████████████████████▎                 | 351/451 [00:27<00:09, 10.06it/s]"
     ]
    },
    {
     "name": "stdout",
     "output_type": "stream",
     "text": [
      "zero points\n",
      "zero points\n"
     ]
    },
    {
     "name": "stderr",
     "output_type": "stream",
     "text": [
      "\r",
      " 78%|██████████████████████████████████████████████████████████████▊                 | 354/451 [00:27<00:09,  9.92it/s]"
     ]
    },
    {
     "name": "stdout",
     "output_type": "stream",
     "text": [
      "zero points\n"
     ]
    },
    {
     "name": "stderr",
     "output_type": "stream",
     "text": [
      " 81%|████████████████████████████████████████████████████████████████▌               | 364/451 [00:29<00:12,  7.14it/s]"
     ]
    },
    {
     "name": "stdout",
     "output_type": "stream",
     "text": [
      "zero points\n"
     ]
    },
    {
     "name": "stderr",
     "output_type": "stream",
     "text": [
      "\r",
      " 82%|█████████████████████████████████████████████████████████████████▉              | 372/451 [00:29<00:08,  9.76it/s]"
     ]
    },
    {
     "name": "stdout",
     "output_type": "stream",
     "text": [
      "zero points\n",
      "zero points\n"
     ]
    },
    {
     "name": "stderr",
     "output_type": "stream",
     "text": [
      "\r",
      " 83%|██████████████████████████████████████████████████████████████████▌             | 375/451 [00:30<00:08,  9.46it/s]"
     ]
    },
    {
     "name": "stdout",
     "output_type": "stream",
     "text": [
      "zero points\n"
     ]
    },
    {
     "name": "stderr",
     "output_type": "stream",
     "text": [
      " 85%|████████████████████████████████████████████████████████████████████            | 384/451 [00:31<00:08,  7.65it/s]"
     ]
    },
    {
     "name": "stdout",
     "output_type": "stream",
     "text": [
      "zero points\n"
     ]
    },
    {
     "name": "stderr",
     "output_type": "stream",
     "text": [
      " 87%|█████████████████████████████████████████████████████████████████████▉          | 394/451 [00:32<00:06,  9.10it/s]"
     ]
    },
    {
     "name": "stdout",
     "output_type": "stream",
     "text": [
      "zero points\n",
      "zero points\n"
     ]
    },
    {
     "name": "stderr",
     "output_type": "stream",
     "text": [
      " 90%|████████████████████████████████████████████████████████████████████████        | 406/451 [00:32<00:03, 12.08it/s]"
     ]
    },
    {
     "name": "stdout",
     "output_type": "stream",
     "text": [
      "zero points\n"
     ]
    },
    {
     "name": "stderr",
     "output_type": "stream",
     "text": [
      "\r",
      " 91%|█████████████████████████████████████████████████████████████████████████       | 412/451 [00:33<00:02, 15.56it/s]"
     ]
    },
    {
     "name": "stdout",
     "output_type": "stream",
     "text": [
      "zero points\n"
     ]
    },
    {
     "name": "stderr",
     "output_type": "stream",
     "text": [
      " 93%|██████████████████████████████████████████████████████████████████████████▎     | 419/451 [00:33<00:02, 14.65it/s]"
     ]
    },
    {
     "name": "stdout",
     "output_type": "stream",
     "text": [
      "zero points\n",
      "zero points\n",
      "zero points\n"
     ]
    },
    {
     "name": "stderr",
     "output_type": "stream",
     "text": [
      "\r",
      " 95%|████████████████████████████████████████████████████████████████████████████▎   | 430/451 [00:33<00:01, 19.26it/s]"
     ]
    },
    {
     "name": "stdout",
     "output_type": "stream",
     "text": [
      "zero points\n",
      "zero points\n"
     ]
    },
    {
     "name": "stderr",
     "output_type": "stream",
     "text": [
      "\r",
      " 96%|████████████████████████████████████████████████████████████████████████████▉   | 434/451 [00:33<00:00, 20.23it/s]"
     ]
    },
    {
     "name": "stdout",
     "output_type": "stream",
     "text": [
      "zero points\n",
      "zero points\n",
      "zero points\n",
      "zero points\n",
      "zero points\n",
      "zero points\n",
      "zero points\n"
     ]
    },
    {
     "name": "stderr",
     "output_type": "stream",
     "text": [
      "\r",
      " 99%|██████████████████████████████████████████████████████████████████████████████▉ | 445/451 [00:34<00:00, 23.73it/s]"
     ]
    },
    {
     "name": "stdout",
     "output_type": "stream",
     "text": [
      "zero points\n",
      "zero points\n",
      "zero points\n",
      "zero points\n"
     ]
    },
    {
     "name": "stderr",
     "output_type": "stream",
     "text": [
      "100%|████████████████████████████████████████████████████████████████████████████████| 451/451 [00:34<00:00, 13.18it/s]\n",
      " 88%|█████████████████████████████████████████████████████████████████████▋         | 398/451 [00:01<00:00, 169.16it/s]"
     ]
    },
    {
     "name": "stdout",
     "output_type": "stream",
     "text": [
      "2020-06-12 13:12:59.444827-Saving C:/Users/SING1761/OneDrive Corp/OneDrive - Atkins Ltd/my_work/SBRI_3D/input_preprocessed_data/hdf5_files\\half_524900_0.h5...\n"
     ]
    },
    {
     "name": "stderr",
     "output_type": "stream",
     "text": [
      "100%|███████████████████████████████████████████████████████████████████████████████| 451/451 [00:04<00:00, 104.88it/s]\n"
     ]
    },
    {
     "name": "stdout",
     "output_type": "stream",
     "text": [
      "2020-06-12 13:13:01.766160-Computing block id of 84863 points...\n",
      "2020-06-12 13:13:01.789097-Collecting points belong to each block...\n",
      "2020-06-12 13:13:01.898830-C:/Users/SING1761/OneDrive Corp/OneDrive - Atkins Ltd/my_work/SBRI_3D/input_preprocessed_data/numpys/XYZRGB_526375.npy is split into 12 blocks.\n"
     ]
    },
    {
     "name": "stderr",
     "output_type": "stream",
     "text": [
      "100%|██████████████████████████████████████████████████████████████████████████████████████████| 12/12 [00:00<?, ?it/s]\n"
     ]
    },
    {
     "name": "stdout",
     "output_type": "stream",
     "text": [
      "2020-06-12 13:13:01.904788-4 of 12 blocks are merged.\n"
     ]
    },
    {
     "name": "stderr",
     "output_type": "stream",
     "text": [
      "\r",
      "  0%|                                                                                           | 0/12 [00:00<?, ?it/s]"
     ]
    },
    {
     "name": "stdout",
     "output_type": "stream",
     "text": [
      "zero points\n"
     ]
    },
    {
     "name": "stderr",
     "output_type": "stream",
     "text": [
      " 50%|█████████████████████████████████████████▌                                         | 6/12 [00:00<00:00, 13.35it/s]"
     ]
    },
    {
     "name": "stdout",
     "output_type": "stream",
     "text": [
      "zero points\n",
      "zero points\n",
      "zero points\n"
     ]
    },
    {
     "name": "stderr",
     "output_type": "stream",
     "text": [
      "100%|██████████████████████████████████████████████████████████████████████████████████| 12/12 [00:00<00:00, 25.65it/s]\n",
      "  0%|                                                                                           | 0/12 [00:00<?, ?it/s]"
     ]
    },
    {
     "name": "stdout",
     "output_type": "stream",
     "text": [
      "2020-06-12 13:13:02.402111-Saving C:/Users/SING1761/OneDrive Corp/OneDrive - Atkins Ltd/my_work/SBRI_3D/input_preprocessed_data/hdf5_files\\zero_524900_0.h5...\n"
     ]
    },
    {
     "name": "stderr",
     "output_type": "stream",
     "text": [
      "100%|██████████████████████████████████████████████████████████████████████████████████| 12/12 [00:00<00:00, 98.91it/s]\n"
     ]
    },
    {
     "name": "stdout",
     "output_type": "stream",
     "text": [
      "2020-06-12 13:13:02.502836-Computing block id of 84863 points...\n",
      "2020-06-12 13:13:02.516799-Collecting points belong to each block...\n",
      "2020-06-12 13:13:02.617530-C:/Users/SING1761/OneDrive Corp/OneDrive - Atkins Ltd/my_work/SBRI_3D/input_preprocessed_data/numpys/XYZRGB_526375.npy is split into 15 blocks.\n"
     ]
    },
    {
     "name": "stderr",
     "output_type": "stream",
     "text": [
      "100%|███████████████████████████████████████████████████████████████████████████████| 15/15 [00:00<00:00, 15134.61it/s]\n"
     ]
    },
    {
     "name": "stdout",
     "output_type": "stream",
     "text": [
      "2020-06-12 13:13:02.622516-8 of 15 blocks are merged.\n"
     ]
    },
    {
     "name": "stderr",
     "output_type": "stream",
     "text": [
      "\r",
      "  0%|                                                                                           | 0/11 [00:00<?, ?it/s]"
     ]
    },
    {
     "name": "stdout",
     "output_type": "stream",
     "text": [
      "zero points\n"
     ]
    },
    {
     "name": "stderr",
     "output_type": "stream",
     "text": [
      "\r",
      " 27%|██████████████████████▋                                                            | 3/11 [00:00<00:00, 19.52it/s]"
     ]
    },
    {
     "name": "stdout",
     "output_type": "stream",
     "text": [
      "zero points\n",
      "zero points\n"
     ]
    },
    {
     "name": "stderr",
     "output_type": "stream",
     "text": [
      "\r",
      " 82%|███████████████████████████████████████████████████████████████████▉               | 9/11 [00:00<00:00, 21.51it/s]"
     ]
    },
    {
     "name": "stdout",
     "output_type": "stream",
     "text": [
      "zero points\n"
     ]
    },
    {
     "name": "stderr",
     "output_type": "stream",
     "text": [
      "100%|██████████████████████████████████████████████████████████████████████████████████| 11/11 [00:00<00:00, 19.21it/s]\n",
      "  0%|                                                                                           | 0/11 [00:00<?, ?it/s]"
     ]
    },
    {
     "name": "stdout",
     "output_type": "stream",
     "text": [
      "2020-06-12 13:13:03.245142-Saving C:/Users/SING1761/OneDrive Corp/OneDrive - Atkins Ltd/my_work/SBRI_3D/input_preprocessed_data/hdf5_files\\half_524900_0.h5...\n"
     ]
    },
    {
     "name": "stderr",
     "output_type": "stream",
     "text": [
      "100%|██████████████████████████████████████████████████████████████████████████████████| 11/11 [00:00<00:00, 66.84it/s]\n"
     ]
    },
    {
     "name": "stdout",
     "output_type": "stream",
     "text": [
      "2020-06-12 13:13:03.371802-Done.\n"
     ]
    }
   ],
   "source": [
    "for filename_data,filename_labels in train_files:\n",
    "    x_coord = train_files[0][0].split(\"/\")[-1].replace(\".npy\",\"\").split(\"_\")[1]\n",
    "    xyzrgb = np.load(filename_data)\n",
    "    dataset_marker = os.path.join(default_output_dir, x_coord+ '.dataset')\n",
    "    xyzrgb[:, 0:3] -= np.amin(xyzrgb, axis=0)[0:3]\n",
    "    labels = np.load(filename_labels).astype(int).flatten()\n",
    "    xyz, rgb = np.split(xyzrgb, [3], axis=-1)\n",
    "    xyz_min = np.amin(xyz, axis=0, keepdims=True)\n",
    "    xyz_max = np.amax(xyz, axis=0, keepdims=True)\n",
    "    xyz_center = (xyz_min + xyz_max) / 2\n",
    "    xyz_center[0][-1] = xyz_min[0][-1]\n",
    "    # Remark: Don't do global alignment.\n",
    "    # xyz = xyz - xyz_center\n",
    "    rgb = rgb / 255.0\n",
    "    max_room_x = np.max(xyz[:, 0])\n",
    "    max_room_y = np.max(xyz[:, 1])\n",
    "    max_room_z = np.max(xyz[:, 2])\n",
    "    offsets = [('zero', 0.0), ('half', args.block_size / 2)]\n",
    "    dataset_marker = os.path.join(default_output_dir, x_coord, '.dataset')\n",
    "    for offset_name, offset in offsets:\n",
    "        idx_h5 = 0\n",
    "        idx = 0\n",
    "\n",
    "        print(f'{datetime.now()}-Computing block id of {xyzrgb.shape[0]} points...')\n",
    "        xyz_min = np.amin(xyz, axis=0, keepdims=True) - offset\n",
    "        xyz_max = np.amax(xyz, axis=0, keepdims=True)\n",
    "        block_size = (args.block_size, args.block_size, 2 * (xyz_max[0, -1] - xyz_min[0, -1]))\n",
    "        # Note: Don't split over z axis.\n",
    "        xyz_blocks = np.floor((xyz - xyz_min) / block_size).astype(np.int)\n",
    "\n",
    "        print(f'{datetime.now()}-Collecting points belong to each block...')\n",
    "        blocks, point_block_indices, block_point_counts = np.unique(xyz_blocks, return_inverse=True,\n",
    "                                                                    return_counts=True, axis=0)\n",
    "        block_point_indices = np.split(np.argsort(point_block_indices), np.cumsum(block_point_counts[:-1]))\n",
    "        print(f'{datetime.now()}-{filename_data} is split into {blocks.shape[0]} blocks.')\n",
    "\n",
    "        block_to_block_idx_map = dict()\n",
    "        for block_idx in range(blocks.shape[0]):\n",
    "            block = (blocks[block_idx][0], blocks[block_idx][1])\n",
    "            block_to_block_idx_map[(block[0], block[1])] = block_idx\n",
    "\n",
    "        # merge small blocks into one of their big neighbors\n",
    "        block_point_count_threshold = max_num_points/10\n",
    "        nbr_block_offsets = [(0, 1), (1, 0), (0, -1), (-1, 0), (-1, 1), (1, 1), (1, -1), (-1, -1)]\n",
    "        block_merge_count = 0\n",
    "        for block_idx in tqdm(range(blocks.shape[0])):\n",
    "            if block_point_counts[block_idx] >= block_point_count_threshold:\n",
    "                continue\n",
    "\n",
    "            block = (blocks[block_idx][0], blocks[block_idx][1])\n",
    "            for x, y in nbr_block_offsets:\n",
    "                nbr_block = (block[0] + x, block[1] + y)\n",
    "                if nbr_block not in block_to_block_idx_map:\n",
    "                    continue\n",
    "\n",
    "                nbr_block_idx = block_to_block_idx_map[nbr_block]\n",
    "                if block_point_counts[nbr_block_idx] < block_point_count_threshold:\n",
    "                    continue\n",
    "\n",
    "                block_point_indices[nbr_block_idx] = np.concatenate(\n",
    "                    [block_point_indices[nbr_block_idx], block_point_indices[block_idx]], axis=-1)\n",
    "                block_point_indices[block_idx] = np.array([], dtype=np.int)\n",
    "                block_merge_count = block_merge_count + 1\n",
    "                break\n",
    "        print(f'{datetime.now()}-{block_merge_count} of {blocks.shape[0]} blocks are merged.')\n",
    "\n",
    "        idx_last_non_empty_block = 0\n",
    "        for block_idx in reversed(range(blocks.shape[0])):\n",
    "            if block_point_indices[block_idx].shape[0] != 0:\n",
    "                idx_last_non_empty_block = block_idx\n",
    "                break\n",
    "\n",
    "        # uniformly sample each block\n",
    "        for block_idx in tqdm(range(idx_last_non_empty_block + 1)):\n",
    "            point_indices = block_point_indices[block_idx]\n",
    "            if point_indices.shape[0] == 0:\n",
    "                print(\"zero points\")\n",
    "                continue\n",
    "            block_points = xyz[point_indices]\n",
    "            block_min = np.amin(block_points, axis=0, keepdims=True)\n",
    "            xyz_grids = np.floor((block_points - block_min) / args.grid_size).astype(np.int)\n",
    "            grids, point_grid_indices, grid_point_counts = np.unique(xyz_grids, return_inverse=True,\n",
    "                                                                     return_counts=True, axis=0)\n",
    "            grid_point_indices = np.split(np.argsort(point_grid_indices), np.cumsum(grid_point_counts[:-1]))\n",
    "            grid_point_count_avg = int(np.average(grid_point_counts))\n",
    "            point_indices_repeated = []\n",
    "            for grid_idx in range(grids.shape[0]):\n",
    "                point_indices_in_block = grid_point_indices[grid_idx]\n",
    "                repeat_num = math.ceil(grid_point_count_avg / point_indices_in_block.shape[0])\n",
    "                if repeat_num > 1:\n",
    "                    point_indices_in_block = np.repeat(point_indices_in_block, repeat_num)\n",
    "                    np.random.shuffle(point_indices_in_block)\n",
    "                    point_indices_in_block = point_indices_in_block[:grid_point_count_avg]\n",
    "                point_indices_repeated.extend(list(point_indices[point_indices_in_block]))\n",
    "            block_point_indices[block_idx] = np.array(point_indices_repeated)\n",
    "            block_point_counts[block_idx] = len(point_indices_repeated)\n",
    "\n",
    "        for block_idx in tqdm(range(idx_last_non_empty_block + 1)):\n",
    "            point_indices = block_point_indices[block_idx]\n",
    "            if point_indices.shape[0] == 0:\n",
    "                continue\n",
    "\n",
    "            block_point_num = point_indices.shape[0]\n",
    "            block_split_num = int(math.ceil(block_point_num * 1.0 / max_num_points))\n",
    "            point_num_avg = int(math.ceil(block_point_num * 1.0 / block_split_num))\n",
    "            point_nums = [point_num_avg] * block_split_num\n",
    "            point_nums[-1] = block_point_num - (point_num_avg * (block_split_num - 1))\n",
    "            starts = [0] + list(np.cumsum(point_nums))\n",
    "\n",
    "            # Modified following convensions of PointNet.\n",
    "            np.random.shuffle(point_indices)\n",
    "            block_points = xyz[point_indices]\n",
    "            block_rgb = rgb[point_indices]\n",
    "            block_labels = labels[point_indices]\n",
    "            x, y, z = np.split(block_points, (1, 2), axis=-1)\n",
    "            norm_x = x / max_room_x\n",
    "            norm_y = y / max_room_y\n",
    "            norm_z = z / max_room_z\n",
    "\n",
    "            minx = np.min(x)\n",
    "            miny = np.min(y)\n",
    "            x = x - (minx + args.block_size / 2)\n",
    "            y = y - (miny + args.block_size / 2)\n",
    "\n",
    "            block_xyzrgb = np.concatenate([x, y, z, block_rgb, norm_x, norm_y, norm_z], axis=-1)\n",
    "            for block_split_idx in range(block_split_num):\n",
    "                start = starts[block_split_idx]\n",
    "                point_num = point_nums[block_split_idx]\n",
    "                end = start + point_num\n",
    "                idx_in_batch = idx % batch_size\n",
    "                data[idx_in_batch, 0:point_num, ...] = block_xyzrgb[start:end, :]\n",
    "                data_num[idx_in_batch] = point_num\n",
    "                label[idx_in_batch] = x_coord  # won't be used...\n",
    "                label_seg[idx_in_batch, 0:point_num] = block_labels[start:end]\n",
    "                indices_split_to_full[idx_in_batch, 0:point_num] = point_indices[start:end]\n",
    "\n",
    "                if ((idx + 1) % batch_size == 0) or \\\n",
    "                        (block_idx == idx_last_non_empty_block and block_split_idx == block_split_num - 1):\n",
    "                    item_num = idx_in_batch + 1\n",
    "                    filename_h5 = os.path.join(default_output_dir, f'{offset_name}_{x_coord}_{idx_h5:d}.h5')\n",
    "                    print(f'{datetime.now()}-Saving {filename_h5}...')\n",
    "\n",
    "                    file = h5py.File(filename_h5, 'w')\n",
    "                    file.create_dataset('data', data=data[0:item_num, ...])\n",
    "                    file.create_dataset('data_num', data=data_num[0:item_num, ...])\n",
    "                    file.create_dataset('label', data=label[0:item_num, ...])\n",
    "                    file.create_dataset('label_seg', data=label_seg[0:item_num, ...])\n",
    "                    file.create_dataset('indices_split_to_full', data=indices_split_to_full[0:item_num, ...])\n",
    "                    file.close()\n",
    "\n",
    "                    if args.save_ply:\n",
    "                        print(f'{datetime.now()}-Saving ply of {filename_h5}...')\n",
    "                        filepath_label_ply = os.path.join(folder, dataset, 'ply_label',\n",
    "                                                          f'label_{offset_name}_{idx_h5:d}')\n",
    "                        save_ply_property_batch(data[0:item_num, :, 0:3], label_seg[0:item_num, ...],\n",
    "                                                filepath_label_ply, data_num[0:item_num, ...], 14)\n",
    "\n",
    "                        filepath_rgb_ply = os.path.join(folder, dataset, 'ply_rgb',\n",
    "                                                        f'rgb_{offset_name}_{idx_h5:d}')\n",
    "                        save_ply_color_batch(data[0:item_num, :, 0:3], data[0:item_num, :, 3:6] * 255,\n",
    "                                             filepath_rgb_ply, data_num[0:item_num, ...])\n",
    "\n",
    "                    idx_h5 = idx_h5 + 1\n",
    "                idx = idx + 1\n",
    "\n",
    "    # Marker indicating we've processed this dataset\n",
    "#     open(dataset_marker, 'w').close()\n",
    "print(f'{datetime.now()}-Done.')\n"
   ]
  }
 ],
 "metadata": {
  "kernelspec": {
   "display_name": "Python [conda env:root] *",
   "language": "python",
   "name": "conda-root-py"
  },
  "language_info": {
   "codemirror_mode": {
    "name": "ipython",
    "version": 3
   },
   "file_extension": ".py",
   "mimetype": "text/x-python",
   "name": "python",
   "nbconvert_exporter": "python",
   "pygments_lexer": "ipython3",
   "version": "3.7.4"
  }
 },
 "nbformat": 4,
 "nbformat_minor": 2
}
